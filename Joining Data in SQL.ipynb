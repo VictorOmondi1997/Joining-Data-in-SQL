{
 "cells": [
  {
   "cell_type": "markdown",
   "metadata": {},
   "source": [
    "# Joining Data in SQL\n",
    "\n",
    "> the power of joining tables while exploring interesting features of countries and their cities throughout the world\n",
    "\n",
    "- author: Victor Omondi\n",
    "- toc: true\n",
    "- comments: true\n",
    "- categories: [joins, sql]\n",
    "- image: images/jds-shield-png"
   ]
  },
  {
   "cell_type": "markdown",
   "metadata": {},
   "source": [
    "# Overview\n",
    "\n",
    "We'll explore the power of joining tables while exploring interesting features of countries and their cities throughout the world. We will use inner and outer joins, as well as self joins, semi joins, anti joins and cross joins—fundamental tools in any PostgreSQL wizard's toolbox."
   ]
  },
  {
   "cell_type": "markdown",
   "metadata": {},
   "source": [
    "# Setup "
   ]
  },
  {
   "cell_type": "code",
   "execution_count": 1,
   "metadata": {},
   "outputs": [
    {
     "data": {
      "text/plain": [
       "'Connected: @None'"
      ]
     },
     "execution_count": 1,
     "metadata": {},
     "output_type": "execute_result"
    }
   ],
   "source": [
    "import pandas as pd\n",
    "%load_ext sql\n",
    "%sql sqlite://"
   ]
  },
  {
   "cell_type": "markdown",
   "metadata": {},
   "source": [
    "# Introduction to joins\n",
    "\n",
    "We'll be exploring the concept of joining tables, and will explore the different ways to enrich queries using inner joins and self joins. We'll also see how to use the case statement to split up a field into different categories."
   ]
  },
  {
   "cell_type": "markdown",
   "metadata": {},
   "source": [
    "## Introduction to INNER JOIN\n",
    "\n",
    "### prime_ministers table"
   ]
  },
  {
   "cell_type": "code",
   "execution_count": 3,
   "metadata": {},
   "outputs": [
    {
     "data": {
      "text/html": [
       "<div>\n",
       "<style scoped>\n",
       "    .dataframe tbody tr th:only-of-type {\n",
       "        vertical-align: middle;\n",
       "    }\n",
       "\n",
       "    .dataframe tbody tr th {\n",
       "        vertical-align: top;\n",
       "    }\n",
       "\n",
       "    .dataframe thead th {\n",
       "        text-align: right;\n",
       "    }\n",
       "</style>\n",
       "<table border=\"1\" class=\"dataframe\">\n",
       "  <thead>\n",
       "    <tr style=\"text-align: right;\">\n",
       "      <th></th>\n",
       "      <th>country</th>\n",
       "      <th>continent</th>\n",
       "      <th>prime_minister</th>\n",
       "    </tr>\n",
       "  </thead>\n",
       "  <tbody>\n",
       "    <tr>\n",
       "      <th>0</th>\n",
       "      <td>Egypt</td>\n",
       "      <td>Africa</td>\n",
       "      <td>Sherif Ismail</td>\n",
       "    </tr>\n",
       "    <tr>\n",
       "      <th>1</th>\n",
       "      <td>Portugal</td>\n",
       "      <td>Europe</td>\n",
       "      <td>Antonio Costa</td>\n",
       "    </tr>\n",
       "    <tr>\n",
       "      <th>2</th>\n",
       "      <td>Vietnam</td>\n",
       "      <td>Asia</td>\n",
       "      <td>Nguyen Xuan Phuc</td>\n",
       "    </tr>\n",
       "    <tr>\n",
       "      <th>3</th>\n",
       "      <td>Haiti</td>\n",
       "      <td>North America</td>\n",
       "      <td>Jack Guy Lafontant</td>\n",
       "    </tr>\n",
       "    <tr>\n",
       "      <th>4</th>\n",
       "      <td>India</td>\n",
       "      <td>Asia</td>\n",
       "      <td>Narendra Modi</td>\n",
       "    </tr>\n",
       "  </tbody>\n",
       "</table>\n",
       "</div>"
      ],
      "text/plain": [
       "    country      continent      prime_minister\n",
       "0     Egypt         Africa       Sherif Ismail\n",
       "1  Portugal         Europe       Antonio Costa\n",
       "2   Vietnam           Asia    Nguyen Xuan Phuc\n",
       "3     Haiti  North America  Jack Guy Lafontant\n",
       "4     India           Asia       Narendra Modi"
      ]
     },
     "execution_count": 3,
     "metadata": {},
     "output_type": "execute_result"
    }
   ],
   "source": [
    "prime_ministers = pd.read_csv(\"datasets/leaders/prime_ministers.csv\")\n",
    "prime_ministers.head()"
   ]
  },
  {
   "cell_type": "code",
   "execution_count": 5,
   "metadata": {},
   "outputs": [
    {
     "data": {
      "text/html": [
       "<div>\n",
       "<style scoped>\n",
       "    .dataframe tbody tr th:only-of-type {\n",
       "        vertical-align: middle;\n",
       "    }\n",
       "\n",
       "    .dataframe tbody tr th {\n",
       "        vertical-align: top;\n",
       "    }\n",
       "\n",
       "    .dataframe thead th {\n",
       "        text-align: right;\n",
       "    }\n",
       "</style>\n",
       "<table border=\"1\" class=\"dataframe\">\n",
       "  <thead>\n",
       "    <tr style=\"text-align: right;\">\n",
       "      <th></th>\n",
       "      <th>country</th>\n",
       "      <th>continent</th>\n",
       "      <th>president</th>\n",
       "    </tr>\n",
       "  </thead>\n",
       "  <tbody>\n",
       "    <tr>\n",
       "      <th>0</th>\n",
       "      <td>Egypt</td>\n",
       "      <td>Africa</td>\n",
       "      <td>Abdel Fattah el-Sisi</td>\n",
       "    </tr>\n",
       "    <tr>\n",
       "      <th>1</th>\n",
       "      <td>Portugal</td>\n",
       "      <td>Europe</td>\n",
       "      <td>Marcelo Rebelo de Sousa</td>\n",
       "    </tr>\n",
       "    <tr>\n",
       "      <th>2</th>\n",
       "      <td>Haiti</td>\n",
       "      <td>North America</td>\n",
       "      <td>Jovenel Moise</td>\n",
       "    </tr>\n",
       "    <tr>\n",
       "      <th>3</th>\n",
       "      <td>Uruguay</td>\n",
       "      <td>South America</td>\n",
       "      <td>Jose Mujica</td>\n",
       "    </tr>\n",
       "    <tr>\n",
       "      <th>4</th>\n",
       "      <td>Liberia</td>\n",
       "      <td>Africa</td>\n",
       "      <td>Ellen Johnson Sirleaf</td>\n",
       "    </tr>\n",
       "  </tbody>\n",
       "</table>\n",
       "</div>"
      ],
      "text/plain": [
       "    country      continent                president\n",
       "0     Egypt         Africa     Abdel Fattah el-Sisi\n",
       "1  Portugal         Europe  Marcelo Rebelo de Sousa\n",
       "2     Haiti  North America            Jovenel Moise\n",
       "3   Uruguay  South America              Jose Mujica\n",
       "4   Liberia         Africa    Ellen Johnson Sirleaf"
      ]
     },
     "execution_count": 5,
     "metadata": {},
     "output_type": "execute_result"
    }
   ],
   "source": [
    "presidents = pd.read_csv(\"datasets/leaders/presidents.csv\")\n",
    "presidents.head()"
   ]
  },
  {
   "cell_type": "code",
   "execution_count": 6,
   "metadata": {},
   "outputs": [
    {
     "name": "stdout",
     "output_type": "stream",
     "text": [
      " * sqlite://\n",
      "Done.\n",
      " * sqlite://\n",
      " * sqlite://\n",
      "Done.\n",
      " * sqlite://\n"
     ]
    },
    {
     "data": {
      "text/plain": [
       "'Persisted presidents'"
      ]
     },
     "execution_count": 6,
     "metadata": {},
     "output_type": "execute_result"
    }
   ],
   "source": [
    "%sql DROP TABLE IF EXISTS prime_ministers;\n",
    "%sql PERSIST prime_ministers;\n",
    "%sql DROP TABLE IF EXISTS presidents;\n",
    "%sql PERSIST presidents;"
   ]
  },
  {
   "cell_type": "markdown",
   "metadata": {},
   "source": [
    "### INNER JOIN in SQL"
   ]
  },
  {
   "cell_type": "code",
   "execution_count": 7,
   "metadata": {},
   "outputs": [
    {
     "name": "stdout",
     "output_type": "stream",
     "text": [
      " * sqlite://\n",
      "Done.\n"
     ]
    },
    {
     "data": {
      "text/html": [
       "<table>\n",
       "    <tr>\n",
       "        <th>country</th>\n",
       "        <th>continent</th>\n",
       "        <th>prime_minister</th>\n",
       "        <th>president</th>\n",
       "    </tr>\n",
       "    <tr>\n",
       "        <td>Egypt</td>\n",
       "        <td>Africa</td>\n",
       "        <td>Sherif Ismail</td>\n",
       "        <td>Abdel Fattah el-Sisi</td>\n",
       "    </tr>\n",
       "    <tr>\n",
       "        <td>Portugal</td>\n",
       "        <td>Europe</td>\n",
       "        <td>Antonio Costa</td>\n",
       "        <td>Marcelo Rebelo de Sousa</td>\n",
       "    </tr>\n",
       "    <tr>\n",
       "        <td>Vietnam</td>\n",
       "        <td>Asia</td>\n",
       "        <td>Nguyen Xuan Phuc</td>\n",
       "        <td>Tran Dai Quang</td>\n",
       "    </tr>\n",
       "    <tr>\n",
       "        <td>Haiti</td>\n",
       "        <td>North America</td>\n",
       "        <td>Jack Guy Lafontant</td>\n",
       "        <td>Jovenel Moise</td>\n",
       "    </tr>\n",
       "</table>"
      ],
      "text/plain": [
       "[('Egypt', 'Africa', 'Sherif Ismail', 'Abdel Fattah el-Sisi'),\n",
       " ('Portugal', 'Europe', 'Antonio Costa', 'Marcelo Rebelo de Sousa'),\n",
       " ('Vietnam', 'Asia', 'Nguyen Xuan Phuc', 'Tran Dai Quang'),\n",
       " ('Haiti', 'North America', 'Jack Guy Lafontant', 'Jovenel Moise')]"
      ]
     },
     "execution_count": 7,
     "metadata": {},
     "output_type": "execute_result"
    }
   ],
   "source": [
    "%%sql\n",
    "SELECT p1.country, p1.continent, prime_minister, president\n",
    "    FROM prime_ministers AS p1\n",
    "    INNER JOIN presidents AS p2\n",
    "    ON p1.country = p2.country"
   ]
  },
  {
   "cell_type": "markdown",
   "metadata": {},
   "source": [
    "We'll be working with the `countries` database containing information about the most populous world cities as well as country-level economic data, population data, and geographic data. This `countries` database also contains information on languages spoken in each country."
   ]
  },
  {
   "cell_type": "code",
   "execution_count": 8,
   "metadata": {},
   "outputs": [
    {
     "data": {
      "text/html": [
       "<div>\n",
       "<style scoped>\n",
       "    .dataframe tbody tr th:only-of-type {\n",
       "        vertical-align: middle;\n",
       "    }\n",
       "\n",
       "    .dataframe tbody tr th {\n",
       "        vertical-align: top;\n",
       "    }\n",
       "\n",
       "    .dataframe thead th {\n",
       "        text-align: right;\n",
       "    }\n",
       "</style>\n",
       "<table border=\"1\" class=\"dataframe\">\n",
       "  <thead>\n",
       "    <tr style=\"text-align: right;\">\n",
       "      <th></th>\n",
       "      <th>name</th>\n",
       "      <th>country_code</th>\n",
       "      <th>city_proper_pop</th>\n",
       "      <th>metroarea_pop</th>\n",
       "      <th>urbanarea_pop</th>\n",
       "    </tr>\n",
       "  </thead>\n",
       "  <tbody>\n",
       "    <tr>\n",
       "      <th>0</th>\n",
       "      <td>Abidjan</td>\n",
       "      <td>CIV</td>\n",
       "      <td>4765000</td>\n",
       "      <td>NaN</td>\n",
       "      <td>4765000</td>\n",
       "    </tr>\n",
       "    <tr>\n",
       "      <th>1</th>\n",
       "      <td>Abu Dhabi</td>\n",
       "      <td>ARE</td>\n",
       "      <td>1145000</td>\n",
       "      <td>NaN</td>\n",
       "      <td>1145000</td>\n",
       "    </tr>\n",
       "    <tr>\n",
       "      <th>2</th>\n",
       "      <td>Abuja</td>\n",
       "      <td>NGA</td>\n",
       "      <td>1235880</td>\n",
       "      <td>6000000.0</td>\n",
       "      <td>1235880</td>\n",
       "    </tr>\n",
       "    <tr>\n",
       "      <th>3</th>\n",
       "      <td>Accra</td>\n",
       "      <td>GHA</td>\n",
       "      <td>2070463</td>\n",
       "      <td>4010054.0</td>\n",
       "      <td>2070463</td>\n",
       "    </tr>\n",
       "    <tr>\n",
       "      <th>4</th>\n",
       "      <td>Addis Ababa</td>\n",
       "      <td>ETH</td>\n",
       "      <td>3103673</td>\n",
       "      <td>4567857.0</td>\n",
       "      <td>3103673</td>\n",
       "    </tr>\n",
       "  </tbody>\n",
       "</table>\n",
       "</div>"
      ],
      "text/plain": [
       "          name country_code  city_proper_pop  metroarea_pop  urbanarea_pop\n",
       "0      Abidjan          CIV          4765000            NaN        4765000\n",
       "1    Abu Dhabi          ARE          1145000            NaN        1145000\n",
       "2        Abuja          NGA          1235880      6000000.0        1235880\n",
       "3        Accra          GHA          2070463      4010054.0        2070463\n",
       "4  Addis Ababa          ETH          3103673      4567857.0        3103673"
      ]
     },
     "execution_count": 8,
     "metadata": {},
     "output_type": "execute_result"
    }
   ],
   "source": [
    "cities = pd.read_csv(\"datasets/countries/cities.csv\")\n",
    "cities.head()"
   ]
  },
  {
   "cell_type": "code",
   "execution_count": 9,
   "metadata": {},
   "outputs": [
    {
     "data": {
      "text/html": [
       "<div>\n",
       "<style scoped>\n",
       "    .dataframe tbody tr th:only-of-type {\n",
       "        vertical-align: middle;\n",
       "    }\n",
       "\n",
       "    .dataframe tbody tr th {\n",
       "        vertical-align: top;\n",
       "    }\n",
       "\n",
       "    .dataframe thead th {\n",
       "        text-align: right;\n",
       "    }\n",
       "</style>\n",
       "<table border=\"1\" class=\"dataframe\">\n",
       "  <thead>\n",
       "    <tr style=\"text-align: right;\">\n",
       "      <th></th>\n",
       "      <th>code</th>\n",
       "      <th>country_name</th>\n",
       "      <th>continent</th>\n",
       "      <th>region</th>\n",
       "      <th>surface_area</th>\n",
       "      <th>indep_year</th>\n",
       "      <th>local_name</th>\n",
       "      <th>gov_form</th>\n",
       "      <th>capital</th>\n",
       "      <th>cap_long</th>\n",
       "      <th>cap_lat</th>\n",
       "    </tr>\n",
       "  </thead>\n",
       "  <tbody>\n",
       "    <tr>\n",
       "      <th>0</th>\n",
       "      <td>AFG</td>\n",
       "      <td>Afghanistan</td>\n",
       "      <td>Asia</td>\n",
       "      <td>Southern and Central Asia</td>\n",
       "      <td>652090.0</td>\n",
       "      <td>1919.0</td>\n",
       "      <td>Afganistan/Afqanestan</td>\n",
       "      <td>Islamic Emirate</td>\n",
       "      <td>Kabul</td>\n",
       "      <td>69.17610</td>\n",
       "      <td>34.5228</td>\n",
       "    </tr>\n",
       "    <tr>\n",
       "      <th>1</th>\n",
       "      <td>NLD</td>\n",
       "      <td>Netherlands</td>\n",
       "      <td>Europe</td>\n",
       "      <td>Western Europe</td>\n",
       "      <td>41526.0</td>\n",
       "      <td>1581.0</td>\n",
       "      <td>Nederland</td>\n",
       "      <td>Constitutional Monarchy</td>\n",
       "      <td>Amsterdam</td>\n",
       "      <td>4.89095</td>\n",
       "      <td>52.3738</td>\n",
       "    </tr>\n",
       "    <tr>\n",
       "      <th>2</th>\n",
       "      <td>ALB</td>\n",
       "      <td>Albania</td>\n",
       "      <td>Europe</td>\n",
       "      <td>Southern Europe</td>\n",
       "      <td>28748.0</td>\n",
       "      <td>1912.0</td>\n",
       "      <td>Shqiperia</td>\n",
       "      <td>Republic</td>\n",
       "      <td>Tirane</td>\n",
       "      <td>19.81720</td>\n",
       "      <td>41.3317</td>\n",
       "    </tr>\n",
       "    <tr>\n",
       "      <th>3</th>\n",
       "      <td>DZA</td>\n",
       "      <td>Algeria</td>\n",
       "      <td>Africa</td>\n",
       "      <td>Northern Africa</td>\n",
       "      <td>2381740.0</td>\n",
       "      <td>1962.0</td>\n",
       "      <td>Al-Jazair/Algerie</td>\n",
       "      <td>Republic</td>\n",
       "      <td>Algiers</td>\n",
       "      <td>3.05097</td>\n",
       "      <td>36.7397</td>\n",
       "    </tr>\n",
       "    <tr>\n",
       "      <th>4</th>\n",
       "      <td>ASM</td>\n",
       "      <td>American Samoa</td>\n",
       "      <td>Oceania</td>\n",
       "      <td>Polynesia</td>\n",
       "      <td>199.0</td>\n",
       "      <td>NaN</td>\n",
       "      <td>Amerika Samoa</td>\n",
       "      <td>US Territory</td>\n",
       "      <td>Pago Pago</td>\n",
       "      <td>-170.69100</td>\n",
       "      <td>-14.2846</td>\n",
       "    </tr>\n",
       "  </tbody>\n",
       "</table>\n",
       "</div>"
      ],
      "text/plain": [
       "  code    country_name continent                     region  surface_area  \\\n",
       "0  AFG     Afghanistan      Asia  Southern and Central Asia      652090.0   \n",
       "1  NLD     Netherlands    Europe             Western Europe       41526.0   \n",
       "2  ALB         Albania    Europe            Southern Europe       28748.0   \n",
       "3  DZA         Algeria    Africa            Northern Africa     2381740.0   \n",
       "4  ASM  American Samoa   Oceania                  Polynesia         199.0   \n",
       "\n",
       "   indep_year             local_name                 gov_form    capital  \\\n",
       "0      1919.0  Afganistan/Afqanestan          Islamic Emirate      Kabul   \n",
       "1      1581.0              Nederland  Constitutional Monarchy  Amsterdam   \n",
       "2      1912.0              Shqiperia                 Republic     Tirane   \n",
       "3      1962.0     Al-Jazair/Algerie                 Republic    Algiers   \n",
       "4         NaN          Amerika Samoa             US Territory  Pago Pago   \n",
       "\n",
       "    cap_long  cap_lat  \n",
       "0   69.17610  34.5228  \n",
       "1    4.89095  52.3738  \n",
       "2   19.81720  41.3317  \n",
       "3    3.05097  36.7397  \n",
       "4 -170.69100 -14.2846  "
      ]
     },
     "execution_count": 9,
     "metadata": {},
     "output_type": "execute_result"
    }
   ],
   "source": [
    "countries = pd.read_csv(\"datasets/countries/countries.csv\")\n",
    "countries.head()"
   ]
  },
  {
   "cell_type": "code",
   "execution_count": 10,
   "metadata": {},
   "outputs": [
    {
     "name": "stdout",
     "output_type": "stream",
     "text": [
      " * sqlite://\n",
      "Done.\n",
      " * sqlite://\n",
      "Done.\n",
      " * sqlite://\n",
      " * sqlite://\n"
     ]
    },
    {
     "data": {
      "text/plain": [
       "'Persisted countries'"
      ]
     },
     "execution_count": 10,
     "metadata": {},
     "output_type": "execute_result"
    }
   ],
   "source": [
    "%sql DROP TABLE IF EXISTS cities;\n",
    "%sql DROP TABLE IF EXISTS countries;\n",
    "%sql PERSIST cities;\n",
    "%sql PERSIST countries;"
   ]
  },
  {
   "cell_type": "code",
   "execution_count": 11,
   "metadata": {},
   "outputs": [
    {
     "name": "stdout",
     "output_type": "stream",
     "text": [
      " * sqlite://\n",
      "Done.\n"
     ]
    },
    {
     "data": {
      "text/html": [
       "<table>\n",
       "    <tr>\n",
       "        <th>index</th>\n",
       "        <th>name</th>\n",
       "        <th>country_code</th>\n",
       "        <th>city_proper_pop</th>\n",
       "        <th>metroarea_pop</th>\n",
       "        <th>urbanarea_pop</th>\n",
       "    </tr>\n",
       "    <tr>\n",
       "        <td>0</td>\n",
       "        <td>Abidjan</td>\n",
       "        <td>CIV</td>\n",
       "        <td>4765000</td>\n",
       "        <td>None</td>\n",
       "        <td>4765000</td>\n",
       "    </tr>\n",
       "    <tr>\n",
       "        <td>1</td>\n",
       "        <td>Abu Dhabi</td>\n",
       "        <td>ARE</td>\n",
       "        <td>1145000</td>\n",
       "        <td>None</td>\n",
       "        <td>1145000</td>\n",
       "    </tr>\n",
       "    <tr>\n",
       "        <td>2</td>\n",
       "        <td>Abuja</td>\n",
       "        <td>NGA</td>\n",
       "        <td>1235880</td>\n",
       "        <td>6000000.0</td>\n",
       "        <td>1235880</td>\n",
       "    </tr>\n",
       "    <tr>\n",
       "        <td>3</td>\n",
       "        <td>Accra</td>\n",
       "        <td>GHA</td>\n",
       "        <td>2070463</td>\n",
       "        <td>4010054.0</td>\n",
       "        <td>2070463</td>\n",
       "    </tr>\n",
       "    <tr>\n",
       "        <td>4</td>\n",
       "        <td>Addis Ababa</td>\n",
       "        <td>ETH</td>\n",
       "        <td>3103673</td>\n",
       "        <td>4567857.0</td>\n",
       "        <td>3103673</td>\n",
       "    </tr>\n",
       "</table>"
      ],
      "text/plain": [
       "[(0, 'Abidjan', 'CIV', 4765000, None, 4765000),\n",
       " (1, 'Abu Dhabi', 'ARE', 1145000, None, 1145000),\n",
       " (2, 'Abuja', 'NGA', 1235880, 6000000.0, 1235880),\n",
       " (3, 'Accra', 'GHA', 2070463, 4010054.0, 2070463),\n",
       " (4, 'Addis Ababa', 'ETH', 3103673, 4567857.0, 3103673)]"
      ]
     },
     "execution_count": 11,
     "metadata": {},
     "output_type": "execute_result"
    }
   ],
   "source": [
    "%%sql\n",
    "-- Select all columns from cities\n",
    "SELECT *\n",
    "    FROM cities\n",
    "    LIMIT 5;"
   ]
  },
  {
   "cell_type": "code",
   "execution_count": 12,
   "metadata": {},
   "outputs": [
    {
     "name": "stdout",
     "output_type": "stream",
     "text": [
      " * sqlite://\n",
      "Done.\n"
     ]
    },
    {
     "data": {
      "text/html": [
       "<table>\n",
       "    <tr>\n",
       "        <th>index</th>\n",
       "        <th>name</th>\n",
       "        <th>country_code</th>\n",
       "        <th>city_proper_pop</th>\n",
       "        <th>metroarea_pop</th>\n",
       "        <th>urbanarea_pop</th>\n",
       "        <th>index_1</th>\n",
       "        <th>code</th>\n",
       "        <th>country_name</th>\n",
       "        <th>continent</th>\n",
       "        <th>region</th>\n",
       "        <th>surface_area</th>\n",
       "        <th>indep_year</th>\n",
       "        <th>local_name</th>\n",
       "        <th>gov_form</th>\n",
       "        <th>capital</th>\n",
       "        <th>cap_long</th>\n",
       "        <th>cap_lat</th>\n",
       "    </tr>\n",
       "    <tr>\n",
       "        <td>0</td>\n",
       "        <td>Abidjan</td>\n",
       "        <td>CIV</td>\n",
       "        <td>4765000</td>\n",
       "        <td>None</td>\n",
       "        <td>4765000</td>\n",
       "        <td>133</td>\n",
       "        <td>CIV</td>\n",
       "        <td>Cote d&#x27;Ivoire</td>\n",
       "        <td>Africa</td>\n",
       "        <td>Western Africa</td>\n",
       "        <td>322463.0</td>\n",
       "        <td>1960.0</td>\n",
       "        <td>Cote dIvoire</td>\n",
       "        <td>Republic</td>\n",
       "        <td>Yamoussoukro</td>\n",
       "        <td>-4.0305</td>\n",
       "        <td>5.332000000000001</td>\n",
       "    </tr>\n",
       "    <tr>\n",
       "        <td>1</td>\n",
       "        <td>Abu Dhabi</td>\n",
       "        <td>ARE</td>\n",
       "        <td>1145000</td>\n",
       "        <td>None</td>\n",
       "        <td>1145000</td>\n",
       "        <td>8</td>\n",
       "        <td>ARE</td>\n",
       "        <td>United Arab Emirates</td>\n",
       "        <td>Asia</td>\n",
       "        <td>Middle East</td>\n",
       "        <td>83600.0</td>\n",
       "        <td>1971.0</td>\n",
       "        <td>Al-Imarat al-´Arabiya al-Muttahida</td>\n",
       "        <td>Emirate Federation</td>\n",
       "        <td>Abu Dhabi</td>\n",
       "        <td>54.3705</td>\n",
       "        <td>24.4764</td>\n",
       "    </tr>\n",
       "    <tr>\n",
       "        <td>2</td>\n",
       "        <td>Abuja</td>\n",
       "        <td>NGA</td>\n",
       "        <td>1235880</td>\n",
       "        <td>6000000.0</td>\n",
       "        <td>1235880</td>\n",
       "        <td>131</td>\n",
       "        <td>NGA</td>\n",
       "        <td>Nigeria</td>\n",
       "        <td>Africa</td>\n",
       "        <td>Western Africa</td>\n",
       "        <td>923768.0</td>\n",
       "        <td>1960.0</td>\n",
       "        <td>Nigeria</td>\n",
       "        <td>Federal Republic</td>\n",
       "        <td>Abuja</td>\n",
       "        <td>7.48906</td>\n",
       "        <td>9.05804</td>\n",
       "    </tr>\n",
       "    <tr>\n",
       "        <td>3</td>\n",
       "        <td>Accra</td>\n",
       "        <td>GHA</td>\n",
       "        <td>2070463</td>\n",
       "        <td>4010054.0</td>\n",
       "        <td>2070463</td>\n",
       "        <td>52</td>\n",
       "        <td>GHA</td>\n",
       "        <td>Ghana</td>\n",
       "        <td>Africa</td>\n",
       "        <td>Western Africa</td>\n",
       "        <td>238533.0</td>\n",
       "        <td>1957.0</td>\n",
       "        <td>Ghana</td>\n",
       "        <td>Republic</td>\n",
       "        <td>Accra</td>\n",
       "        <td>-0.20795</td>\n",
       "        <td>5.57045</td>\n",
       "    </tr>\n",
       "    <tr>\n",
       "        <td>4</td>\n",
       "        <td>Addis Ababa</td>\n",
       "        <td>ETH</td>\n",
       "        <td>3103673</td>\n",
       "        <td>4567857.0</td>\n",
       "        <td>3103673</td>\n",
       "        <td>45</td>\n",
       "        <td>ETH</td>\n",
       "        <td>Ethiopia</td>\n",
       "        <td>Africa</td>\n",
       "        <td>Eastern Africa</td>\n",
       "        <td>1104300.0</td>\n",
       "        <td>-1000.0</td>\n",
       "        <td>YeItyop´iya</td>\n",
       "        <td>Republic</td>\n",
       "        <td>Addis Ababa</td>\n",
       "        <td>38.7468</td>\n",
       "        <td>9.022739999999999</td>\n",
       "    </tr>\n",
       "</table>"
      ],
      "text/plain": [
       "[(0, 'Abidjan', 'CIV', 4765000, None, 4765000, 133, 'CIV', \"Cote d'Ivoire\", 'Africa', 'Western Africa', 322463.0, 1960.0, 'Cote d\\x92Ivoire', 'Republic', 'Yamoussoukro', -4.0305, 5.332000000000001),\n",
       " (1, 'Abu Dhabi', 'ARE', 1145000, None, 1145000, 8, 'ARE', 'United Arab Emirates', 'Asia', 'Middle East', 83600.0, 1971.0, 'Al-Imarat al-´Arabiya al-Muttahida', 'Emirate Federation', 'Abu Dhabi', 54.3705, 24.4764),\n",
       " (2, 'Abuja', 'NGA', 1235880, 6000000.0, 1235880, 131, 'NGA', 'Nigeria', 'Africa', 'Western Africa', 923768.0, 1960.0, 'Nigeria', 'Federal Republic', 'Abuja', 7.48906, 9.05804),\n",
       " (3, 'Accra', 'GHA', 2070463, 4010054.0, 2070463, 52, 'GHA', 'Ghana', 'Africa', 'Western Africa', 238533.0, 1957.0, 'Ghana', 'Republic', 'Accra', -0.20795, 5.57045),\n",
       " (4, 'Addis Ababa', 'ETH', 3103673, 4567857.0, 3103673, 45, 'ETH', 'Ethiopia', 'Africa', 'Eastern Africa', 1104300.0, -1000.0, 'YeItyop´iya', 'Republic', 'Addis Ababa', 38.7468, 9.022739999999999)]"
      ]
     },
     "execution_count": 12,
     "metadata": {},
     "output_type": "execute_result"
    }
   ],
   "source": [
    "%%sql\n",
    "SELECT * \n",
    "FROM cities\n",
    "    -- 1. Inner join to countries\n",
    "    INNER JOIN countries\n",
    "    -- 2. Match on the country codes\n",
    "    ON cities.country_code = countries.code\n",
    "    LIMIT 5;"
   ]
  },
  {
   "cell_type": "code",
   "execution_count": 14,
   "metadata": {},
   "outputs": [
    {
     "name": "stdout",
     "output_type": "stream",
     "text": [
      " * sqlite://\n",
      "Done.\n"
     ]
    },
    {
     "data": {
      "text/html": [
       "<table>\n",
       "    <tr>\n",
       "        <th>city</th>\n",
       "        <th>country</th>\n",
       "        <th>region</th>\n",
       "    </tr>\n",
       "    <tr>\n",
       "        <td>Abidjan</td>\n",
       "        <td>Cote d&#x27;Ivoire</td>\n",
       "        <td>Western Africa</td>\n",
       "    </tr>\n",
       "    <tr>\n",
       "        <td>Abu Dhabi</td>\n",
       "        <td>United Arab Emirates</td>\n",
       "        <td>Middle East</td>\n",
       "    </tr>\n",
       "    <tr>\n",
       "        <td>Abuja</td>\n",
       "        <td>Nigeria</td>\n",
       "        <td>Western Africa</td>\n",
       "    </tr>\n",
       "    <tr>\n",
       "        <td>Accra</td>\n",
       "        <td>Ghana</td>\n",
       "        <td>Western Africa</td>\n",
       "    </tr>\n",
       "    <tr>\n",
       "        <td>Addis Ababa</td>\n",
       "        <td>Ethiopia</td>\n",
       "        <td>Eastern Africa</td>\n",
       "    </tr>\n",
       "</table>"
      ],
      "text/plain": [
       "[('Abidjan', \"Cote d'Ivoire\", 'Western Africa'),\n",
       " ('Abu Dhabi', 'United Arab Emirates', 'Middle East'),\n",
       " ('Abuja', 'Nigeria', 'Western Africa'),\n",
       " ('Accra', 'Ghana', 'Western Africa'),\n",
       " ('Addis Ababa', 'Ethiopia', 'Eastern Africa')]"
      ]
     },
     "execution_count": 14,
     "metadata": {},
     "output_type": "execute_result"
    }
   ],
   "source": [
    "%%sql\n",
    "-- 1. Select name fields (with alias) and region \n",
    "SELECT cities.name AS city, countries.country_name AS country, countries.region\n",
    "    FROM cities\n",
    "    INNER JOIN countries\n",
    "    ON cities.country_code = countries.code\n",
    "    LIMIT 5;"
   ]
  },
  {
   "cell_type": "markdown",
   "metadata": {},
   "source": [
    "Instead of writing the full table name, we can use table aliasing as a shortcut. For tables we also use AS to add the alias immediately after the table name with a space. To select a field in the query that appears in multiple tables, we'll need to identify which table/table alias we're referring to by using a `.` in the `SELECT` statement.\n",
    "\n",
    "We'll now explore a way to get data from both the `countries` and `economies` tables to examine the inflation rate for both 2010 and 2015."
   ]
  },
  {
   "cell_type": "code",
   "execution_count": 15,
   "metadata": {},
   "outputs": [
    {
     "data": {
      "text/html": [
       "<div>\n",
       "<style scoped>\n",
       "    .dataframe tbody tr th:only-of-type {\n",
       "        vertical-align: middle;\n",
       "    }\n",
       "\n",
       "    .dataframe tbody tr th {\n",
       "        vertical-align: top;\n",
       "    }\n",
       "\n",
       "    .dataframe thead th {\n",
       "        text-align: right;\n",
       "    }\n",
       "</style>\n",
       "<table border=\"1\" class=\"dataframe\">\n",
       "  <thead>\n",
       "    <tr style=\"text-align: right;\">\n",
       "      <th></th>\n",
       "      <th>econ_id</th>\n",
       "      <th>code</th>\n",
       "      <th>year</th>\n",
       "      <th>income_group</th>\n",
       "      <th>gdp_percapita</th>\n",
       "      <th>gross_savings</th>\n",
       "      <th>inflation_rate</th>\n",
       "      <th>total_investment</th>\n",
       "      <th>unemployment_rate</th>\n",
       "      <th>exports</th>\n",
       "      <th>imports</th>\n",
       "    </tr>\n",
       "  </thead>\n",
       "  <tbody>\n",
       "    <tr>\n",
       "      <th>0</th>\n",
       "      <td>1</td>\n",
       "      <td>AFG</td>\n",
       "      <td>2010</td>\n",
       "      <td>Low income</td>\n",
       "      <td>539.667</td>\n",
       "      <td>37.133</td>\n",
       "      <td>2.179</td>\n",
       "      <td>30.402</td>\n",
       "      <td>NaN</td>\n",
       "      <td>46.394</td>\n",
       "      <td>24.381</td>\n",
       "    </tr>\n",
       "    <tr>\n",
       "      <th>1</th>\n",
       "      <td>2</td>\n",
       "      <td>AFG</td>\n",
       "      <td>2015</td>\n",
       "      <td>Low income</td>\n",
       "      <td>615.091</td>\n",
       "      <td>21.466</td>\n",
       "      <td>-1.549</td>\n",
       "      <td>18.602</td>\n",
       "      <td>NaN</td>\n",
       "      <td>-49.110</td>\n",
       "      <td>-7.294</td>\n",
       "    </tr>\n",
       "    <tr>\n",
       "      <th>2</th>\n",
       "      <td>3</td>\n",
       "      <td>AGO</td>\n",
       "      <td>2010</td>\n",
       "      <td>Upper middle income</td>\n",
       "      <td>3599.270</td>\n",
       "      <td>23.534</td>\n",
       "      <td>14.480</td>\n",
       "      <td>14.433</td>\n",
       "      <td>NaN</td>\n",
       "      <td>-3.266</td>\n",
       "      <td>-21.076</td>\n",
       "    </tr>\n",
       "    <tr>\n",
       "      <th>3</th>\n",
       "      <td>4</td>\n",
       "      <td>AGO</td>\n",
       "      <td>2015</td>\n",
       "      <td>Upper middle income</td>\n",
       "      <td>3876.200</td>\n",
       "      <td>-0.425</td>\n",
       "      <td>10.287</td>\n",
       "      <td>9.552</td>\n",
       "      <td>NaN</td>\n",
       "      <td>6.721</td>\n",
       "      <td>-21.778</td>\n",
       "    </tr>\n",
       "    <tr>\n",
       "      <th>4</th>\n",
       "      <td>5</td>\n",
       "      <td>ALB</td>\n",
       "      <td>2010</td>\n",
       "      <td>Upper middle income</td>\n",
       "      <td>4098.130</td>\n",
       "      <td>20.011</td>\n",
       "      <td>3.605</td>\n",
       "      <td>31.305</td>\n",
       "      <td>14.0</td>\n",
       "      <td>10.645</td>\n",
       "      <td>-8.013</td>\n",
       "    </tr>\n",
       "  </tbody>\n",
       "</table>\n",
       "</div>"
      ],
      "text/plain": [
       "   econ_id code  year         income_group  gdp_percapita  gross_savings  \\\n",
       "0        1  AFG  2010           Low income        539.667         37.133   \n",
       "1        2  AFG  2015           Low income        615.091         21.466   \n",
       "2        3  AGO  2010  Upper middle income       3599.270         23.534   \n",
       "3        4  AGO  2015  Upper middle income       3876.200         -0.425   \n",
       "4        5  ALB  2010  Upper middle income       4098.130         20.011   \n",
       "\n",
       "   inflation_rate  total_investment  unemployment_rate  exports  imports  \n",
       "0           2.179            30.402                NaN   46.394   24.381  \n",
       "1          -1.549            18.602                NaN  -49.110   -7.294  \n",
       "2          14.480            14.433                NaN   -3.266  -21.076  \n",
       "3          10.287             9.552                NaN    6.721  -21.778  \n",
       "4           3.605            31.305               14.0   10.645   -8.013  "
      ]
     },
     "execution_count": 15,
     "metadata": {},
     "output_type": "execute_result"
    }
   ],
   "source": [
    "economies = pd.read_csv(\"datasets/countries/economies.csv\")\n",
    "economies.head()"
   ]
  },
  {
   "cell_type": "code",
   "execution_count": 18,
   "metadata": {},
   "outputs": [
    {
     "name": "stdout",
     "output_type": "stream",
     "text": [
      " * sqlite://\n",
      "Done.\n",
      " * sqlite://\n"
     ]
    },
    {
     "data": {
      "text/plain": [
       "'Persisted economies'"
      ]
     },
     "execution_count": 18,
     "metadata": {},
     "output_type": "execute_result"
    }
   ],
   "source": [
    "%sql DROP TABLE IF EXISTS economies\n",
    "%sql PERSIST economies;"
   ]
  },
  {
   "cell_type": "code",
   "execution_count": 20,
   "metadata": {},
   "outputs": [
    {
     "name": "stdout",
     "output_type": "stream",
     "text": [
      " * sqlite://\n",
      "Done.\n"
     ]
    },
    {
     "data": {
      "text/html": [
       "<table>\n",
       "    <tr>\n",
       "        <th>country_code</th>\n",
       "        <th>country_name</th>\n",
       "        <th>year</th>\n",
       "        <th>inflation_rate</th>\n",
       "    </tr>\n",
       "    <tr>\n",
       "        <td>AFG</td>\n",
       "        <td>Afghanistan</td>\n",
       "        <td>2010</td>\n",
       "        <td>2.1790000000000003</td>\n",
       "    </tr>\n",
       "    <tr>\n",
       "        <td>AFG</td>\n",
       "        <td>Afghanistan</td>\n",
       "        <td>2015</td>\n",
       "        <td>-1.5490000000000002</td>\n",
       "    </tr>\n",
       "    <tr>\n",
       "        <td>NLD</td>\n",
       "        <td>Netherlands</td>\n",
       "        <td>2010</td>\n",
       "        <td>0.932</td>\n",
       "    </tr>\n",
       "    <tr>\n",
       "        <td>NLD</td>\n",
       "        <td>Netherlands</td>\n",
       "        <td>2015</td>\n",
       "        <td>0.22</td>\n",
       "    </tr>\n",
       "    <tr>\n",
       "        <td>ALB</td>\n",
       "        <td>Albania</td>\n",
       "        <td>2010</td>\n",
       "        <td>3.605</td>\n",
       "    </tr>\n",
       "</table>"
      ],
      "text/plain": [
       "[('AFG', 'Afghanistan', 2010, 2.1790000000000003),\n",
       " ('AFG', 'Afghanistan', 2015, -1.5490000000000002),\n",
       " ('NLD', 'Netherlands', 2010, 0.932),\n",
       " ('NLD', 'Netherlands', 2015, 0.22),\n",
       " ('ALB', 'Albania', 2010, 3.605)]"
      ]
     },
     "execution_count": 20,
     "metadata": {},
     "output_type": "execute_result"
    }
   ],
   "source": [
    "%%sql\n",
    "-- 3. Select fields with aliases\n",
    "SELECT c.code AS country_code, country_name, year, inflation_rate\n",
    "    FROM countries AS c\n",
    "    -- 1. Join to economies (alias e)\n",
    "    INNER JOIN economies AS e\n",
    "    -- 2. Match on code\n",
    "    ON c.code = e.code\n",
    "    LIMIT 5;"
   ]
  },
  {
   "cell_type": "code",
   "execution_count": 22,
   "metadata": {},
   "outputs": [
    {
     "data": {
      "text/html": [
       "<div>\n",
       "<style scoped>\n",
       "    .dataframe tbody tr th:only-of-type {\n",
       "        vertical-align: middle;\n",
       "    }\n",
       "\n",
       "    .dataframe tbody tr th {\n",
       "        vertical-align: top;\n",
       "    }\n",
       "\n",
       "    .dataframe thead th {\n",
       "        text-align: right;\n",
       "    }\n",
       "</style>\n",
       "<table border=\"1\" class=\"dataframe\">\n",
       "  <thead>\n",
       "    <tr style=\"text-align: right;\">\n",
       "      <th></th>\n",
       "      <th>pop_id</th>\n",
       "      <th>country_code</th>\n",
       "      <th>year</th>\n",
       "      <th>fertility_rate</th>\n",
       "      <th>life_expectancy</th>\n",
       "      <th>size</th>\n",
       "    </tr>\n",
       "  </thead>\n",
       "  <tbody>\n",
       "    <tr>\n",
       "      <th>0</th>\n",
       "      <td>20</td>\n",
       "      <td>ABW</td>\n",
       "      <td>2010</td>\n",
       "      <td>1.704</td>\n",
       "      <td>74.953537</td>\n",
       "      <td>101597.0</td>\n",
       "    </tr>\n",
       "    <tr>\n",
       "      <th>1</th>\n",
       "      <td>19</td>\n",
       "      <td>ABW</td>\n",
       "      <td>2015</td>\n",
       "      <td>1.647</td>\n",
       "      <td>75.573585</td>\n",
       "      <td>103889.0</td>\n",
       "    </tr>\n",
       "    <tr>\n",
       "      <th>2</th>\n",
       "      <td>2</td>\n",
       "      <td>AFG</td>\n",
       "      <td>2010</td>\n",
       "      <td>5.746</td>\n",
       "      <td>58.970829</td>\n",
       "      <td>27962207.0</td>\n",
       "    </tr>\n",
       "    <tr>\n",
       "      <th>3</th>\n",
       "      <td>1</td>\n",
       "      <td>AFG</td>\n",
       "      <td>2015</td>\n",
       "      <td>4.653</td>\n",
       "      <td>60.717171</td>\n",
       "      <td>32526562.0</td>\n",
       "    </tr>\n",
       "    <tr>\n",
       "      <th>4</th>\n",
       "      <td>12</td>\n",
       "      <td>AGO</td>\n",
       "      <td>2010</td>\n",
       "      <td>6.416</td>\n",
       "      <td>50.654171</td>\n",
       "      <td>21219954.0</td>\n",
       "    </tr>\n",
       "  </tbody>\n",
       "</table>\n",
       "</div>"
      ],
      "text/plain": [
       "   pop_id country_code  year  fertility_rate  life_expectancy        size\n",
       "0      20          ABW  2010           1.704        74.953537    101597.0\n",
       "1      19          ABW  2015           1.647        75.573585    103889.0\n",
       "2       2          AFG  2010           5.746        58.970829  27962207.0\n",
       "3       1          AFG  2015           4.653        60.717171  32526562.0\n",
       "4      12          AGO  2010           6.416        50.654171  21219954.0"
      ]
     },
     "execution_count": 22,
     "metadata": {},
     "output_type": "execute_result"
    }
   ],
   "source": [
    "populations = pd.read_csv(\"datasets/countries/populations.csv\")\n",
    "populations.head()"
   ]
  },
  {
   "cell_type": "code",
   "execution_count": 24,
   "metadata": {},
   "outputs": [
    {
     "name": "stdout",
     "output_type": "stream",
     "text": [
      " * sqlite://\n",
      "Done.\n",
      " * sqlite://\n"
     ]
    },
    {
     "data": {
      "text/plain": [
       "'Persisted populations'"
      ]
     },
     "execution_count": 24,
     "metadata": {},
     "output_type": "execute_result"
    }
   ],
   "source": [
    "%sql DROP TABLE IF EXISTS populations;\n",
    "%sql PERSIST populations;"
   ]
  },
  {
   "cell_type": "markdown",
   "metadata": {},
   "source": [
    "Now, for each country, we want to get the country name, its region, and the fertility rate and unemployment rate for both 2010 and 2015."
   ]
  },
  {
   "cell_type": "code",
   "execution_count": 26,
   "metadata": {},
   "outputs": [
    {
     "name": "stdout",
     "output_type": "stream",
     "text": [
      " * sqlite://\n",
      "Done.\n"
     ]
    },
    {
     "data": {
      "text/html": [
       "<table>\n",
       "    <tr>\n",
       "        <th>code</th>\n",
       "        <th>country_name</th>\n",
       "        <th>region</th>\n",
       "        <th>year</th>\n",
       "        <th>fertility_rate</th>\n",
       "    </tr>\n",
       "    <tr>\n",
       "        <td>AFG</td>\n",
       "        <td>Afghanistan</td>\n",
       "        <td>Southern and Central Asia</td>\n",
       "        <td>2010</td>\n",
       "        <td>5.746</td>\n",
       "    </tr>\n",
       "    <tr>\n",
       "        <td>AFG</td>\n",
       "        <td>Afghanistan</td>\n",
       "        <td>Southern and Central Asia</td>\n",
       "        <td>2015</td>\n",
       "        <td>4.6530000000000005</td>\n",
       "    </tr>\n",
       "    <tr>\n",
       "        <td>NLD</td>\n",
       "        <td>Netherlands</td>\n",
       "        <td>Western Europe</td>\n",
       "        <td>2010</td>\n",
       "        <td>1.79</td>\n",
       "    </tr>\n",
       "    <tr>\n",
       "        <td>NLD</td>\n",
       "        <td>Netherlands</td>\n",
       "        <td>Western Europe</td>\n",
       "        <td>2015</td>\n",
       "        <td>1.71</td>\n",
       "    </tr>\n",
       "    <tr>\n",
       "        <td>ALB</td>\n",
       "        <td>Albania</td>\n",
       "        <td>Southern Europe</td>\n",
       "        <td>2010</td>\n",
       "        <td>1.663</td>\n",
       "    </tr>\n",
       "</table>"
      ],
      "text/plain": [
       "[('AFG', 'Afghanistan', 'Southern and Central Asia', 2010, 5.746),\n",
       " ('AFG', 'Afghanistan', 'Southern and Central Asia', 2015, 4.6530000000000005),\n",
       " ('NLD', 'Netherlands', 'Western Europe', 2010, 1.79),\n",
       " ('NLD', 'Netherlands', 'Western Europe', 2015, 1.71),\n",
       " ('ALB', 'Albania', 'Southern Europe', 2010, 1.663)]"
      ]
     },
     "execution_count": 26,
     "metadata": {},
     "output_type": "execute_result"
    }
   ],
   "source": [
    "%%sql\n",
    "-- 4. Select fields\n",
    "SELECT code, country_name, region, year, fertility_rate\n",
    "    -- 1. From countries (alias as c)\n",
    "    FROM countries as c\n",
    "    -- 2. Join with populations (as p)\n",
    "    INNER JOIN populations as p\n",
    "    -- 3. Match on country code\n",
    "    ON code = country_code\n",
    "    LIMIT 5;"
   ]
  },
  {
   "cell_type": "code",
   "execution_count": 28,
   "metadata": {},
   "outputs": [
    {
     "name": "stdout",
     "output_type": "stream",
     "text": [
      " * sqlite://\n",
      "Done.\n"
     ]
    },
    {
     "data": {
      "text/html": [
       "<table>\n",
       "    <tr>\n",
       "        <th>code</th>\n",
       "        <th>country_name</th>\n",
       "        <th>region</th>\n",
       "        <th>year</th>\n",
       "        <th>fertility_rate</th>\n",
       "        <th>unemployment_rate</th>\n",
       "    </tr>\n",
       "    <tr>\n",
       "        <td>AFG</td>\n",
       "        <td>Afghanistan</td>\n",
       "        <td>Southern and Central Asia</td>\n",
       "        <td>2010</td>\n",
       "        <td>4.6530000000000005</td>\n",
       "        <td>None</td>\n",
       "    </tr>\n",
       "    <tr>\n",
       "        <td>AFG</td>\n",
       "        <td>Afghanistan</td>\n",
       "        <td>Southern and Central Asia</td>\n",
       "        <td>2015</td>\n",
       "        <td>4.6530000000000005</td>\n",
       "        <td>None</td>\n",
       "    </tr>\n",
       "    <tr>\n",
       "        <td>AFG</td>\n",
       "        <td>Afghanistan</td>\n",
       "        <td>Southern and Central Asia</td>\n",
       "        <td>2010</td>\n",
       "        <td>5.746</td>\n",
       "        <td>None</td>\n",
       "    </tr>\n",
       "    <tr>\n",
       "        <td>AFG</td>\n",
       "        <td>Afghanistan</td>\n",
       "        <td>Southern and Central Asia</td>\n",
       "        <td>2015</td>\n",
       "        <td>5.746</td>\n",
       "        <td>None</td>\n",
       "    </tr>\n",
       "    <tr>\n",
       "        <td>NLD</td>\n",
       "        <td>Netherlands</td>\n",
       "        <td>Western Europe</td>\n",
       "        <td>2010</td>\n",
       "        <td>1.71</td>\n",
       "        <td>4.995</td>\n",
       "    </tr>\n",
       "</table>"
      ],
      "text/plain": [
       "[('AFG', 'Afghanistan', 'Southern and Central Asia', 2010, 4.6530000000000005, None),\n",
       " ('AFG', 'Afghanistan', 'Southern and Central Asia', 2015, 4.6530000000000005, None),\n",
       " ('AFG', 'Afghanistan', 'Southern and Central Asia', 2010, 5.746, None),\n",
       " ('AFG', 'Afghanistan', 'Southern and Central Asia', 2015, 5.746, None),\n",
       " ('NLD', 'Netherlands', 'Western Europe', 2010, 1.71, 4.995)]"
      ]
     },
     "execution_count": 28,
     "metadata": {},
     "output_type": "execute_result"
    }
   ],
   "source": [
    "%%sql\n",
    "-- 6. Select fields\n",
    "SELECT c.code, country_name, region, e.year, fertility_rate, unemployment_rate\n",
    "    -- 1. From countries (alias as c)\n",
    "    FROM countries AS c\n",
    "    -- 2. Join to populations (as p)\n",
    "    INNER JOIN populations AS p\n",
    "    -- 3. Match on country code\n",
    "    ON c.code = p.country_code\n",
    "    -- 4. Join to economies (as e)\n",
    "    INNER JOIN economies as e\n",
    "    -- 5. Match on country code\n",
    "    ON c.code = e.code\n",
    "    LIMIT 5;"
   ]
  },
  {
   "cell_type": "code",
   "execution_count": 31,
   "metadata": {},
   "outputs": [
    {
     "name": "stdout",
     "output_type": "stream",
     "text": [
      " * sqlite://\n",
      "Done.\n"
     ]
    },
    {
     "data": {
      "text/html": [
       "<table>\n",
       "    <tr>\n",
       "        <th>code</th>\n",
       "        <th>country_name</th>\n",
       "        <th>region</th>\n",
       "        <th>year</th>\n",
       "        <th>fertility_rate</th>\n",
       "        <th>unemployment_rate</th>\n",
       "    </tr>\n",
       "    <tr>\n",
       "        <td>AFG</td>\n",
       "        <td>Afghanistan</td>\n",
       "        <td>Southern and Central Asia</td>\n",
       "        <td>2010</td>\n",
       "        <td>5.746</td>\n",
       "        <td>None</td>\n",
       "    </tr>\n",
       "    <tr>\n",
       "        <td>AFG</td>\n",
       "        <td>Afghanistan</td>\n",
       "        <td>Southern and Central Asia</td>\n",
       "        <td>2015</td>\n",
       "        <td>4.6530000000000005</td>\n",
       "        <td>None</td>\n",
       "    </tr>\n",
       "    <tr>\n",
       "        <td>NLD</td>\n",
       "        <td>Netherlands</td>\n",
       "        <td>Western Europe</td>\n",
       "        <td>2010</td>\n",
       "        <td>1.79</td>\n",
       "        <td>4.995</td>\n",
       "    </tr>\n",
       "    <tr>\n",
       "        <td>NLD</td>\n",
       "        <td>Netherlands</td>\n",
       "        <td>Western Europe</td>\n",
       "        <td>2015</td>\n",
       "        <td>1.71</td>\n",
       "        <td>6.891</td>\n",
       "    </tr>\n",
       "    <tr>\n",
       "        <td>ALB</td>\n",
       "        <td>Albania</td>\n",
       "        <td>Southern Europe</td>\n",
       "        <td>2010</td>\n",
       "        <td>1.663</td>\n",
       "        <td>14.0</td>\n",
       "    </tr>\n",
       "</table>"
      ],
      "text/plain": [
       "[('AFG', 'Afghanistan', 'Southern and Central Asia', 2010, 5.746, None),\n",
       " ('AFG', 'Afghanistan', 'Southern and Central Asia', 2015, 4.6530000000000005, None),\n",
       " ('NLD', 'Netherlands', 'Western Europe', 2010, 1.79, 4.995),\n",
       " ('NLD', 'Netherlands', 'Western Europe', 2015, 1.71, 6.891),\n",
       " ('ALB', 'Albania', 'Southern Europe', 2010, 1.663, 14.0)]"
      ]
     },
     "execution_count": 31,
     "metadata": {},
     "output_type": "execute_result"
    }
   ],
   "source": [
    "%%sql\n",
    "-- 6. Select fields\n",
    "SELECT c.code, country_name, region, e.year, fertility_rate, unemployment_rate\n",
    "    -- 1. From countries (alias as c)\n",
    "    FROM countries AS c\n",
    "    -- 2. Join to populations (as p)\n",
    "    INNER JOIN populations AS p\n",
    "    -- 3. Match on country code\n",
    "    ON c.code = p.country_code\n",
    "     -- 4. Join to economies (as e)\n",
    "    INNER JOIN economies AS e\n",
    "    -- 5. Match on country code and year\n",
    "    ON c.code = e.code AND e.year=p.year\n",
    "    LIMIT 5;"
   ]
  },
  {
   "cell_type": "markdown",
   "metadata": {},
   "source": [
    "## INNER JOIN via USING\n"
   ]
  },
  {
   "cell_type": "code",
   "execution_count": null,
   "metadata": {},
   "outputs": [],
   "source": []
  },
  {
   "cell_type": "code",
   "execution_count": null,
   "metadata": {},
   "outputs": [],
   "source": []
  },
  {
   "cell_type": "code",
   "execution_count": null,
   "metadata": {},
   "outputs": [],
   "source": []
  },
  {
   "cell_type": "code",
   "execution_count": null,
   "metadata": {},
   "outputs": [],
   "source": []
  },
  {
   "cell_type": "code",
   "execution_count": null,
   "metadata": {},
   "outputs": [],
   "source": []
  },
  {
   "cell_type": "code",
   "execution_count": null,
   "metadata": {},
   "outputs": [],
   "source": []
  },
  {
   "cell_type": "code",
   "execution_count": null,
   "metadata": {},
   "outputs": [],
   "source": []
  },
  {
   "cell_type": "code",
   "execution_count": null,
   "metadata": {},
   "outputs": [],
   "source": []
  },
  {
   "cell_type": "code",
   "execution_count": null,
   "metadata": {},
   "outputs": [],
   "source": []
  },
  {
   "cell_type": "code",
   "execution_count": null,
   "metadata": {},
   "outputs": [],
   "source": []
  },
  {
   "cell_type": "code",
   "execution_count": null,
   "metadata": {},
   "outputs": [],
   "source": []
  },
  {
   "cell_type": "code",
   "execution_count": null,
   "metadata": {},
   "outputs": [],
   "source": []
  },
  {
   "cell_type": "code",
   "execution_count": null,
   "metadata": {},
   "outputs": [],
   "source": []
  },
  {
   "cell_type": "code",
   "execution_count": null,
   "metadata": {},
   "outputs": [],
   "source": []
  },
  {
   "cell_type": "code",
   "execution_count": null,
   "metadata": {},
   "outputs": [],
   "source": []
  },
  {
   "cell_type": "code",
   "execution_count": null,
   "metadata": {},
   "outputs": [],
   "source": []
  },
  {
   "cell_type": "code",
   "execution_count": null,
   "metadata": {},
   "outputs": [],
   "source": []
  },
  {
   "cell_type": "code",
   "execution_count": null,
   "metadata": {},
   "outputs": [],
   "source": []
  },
  {
   "cell_type": "code",
   "execution_count": null,
   "metadata": {},
   "outputs": [],
   "source": []
  },
  {
   "cell_type": "code",
   "execution_count": null,
   "metadata": {},
   "outputs": [],
   "source": []
  },
  {
   "cell_type": "code",
   "execution_count": null,
   "metadata": {},
   "outputs": [],
   "source": []
  },
  {
   "cell_type": "code",
   "execution_count": null,
   "metadata": {},
   "outputs": [],
   "source": []
  },
  {
   "cell_type": "code",
   "execution_count": null,
   "metadata": {},
   "outputs": [],
   "source": []
  },
  {
   "cell_type": "code",
   "execution_count": null,
   "metadata": {},
   "outputs": [],
   "source": []
  },
  {
   "cell_type": "code",
   "execution_count": null,
   "metadata": {},
   "outputs": [],
   "source": []
  },
  {
   "cell_type": "code",
   "execution_count": null,
   "metadata": {},
   "outputs": [],
   "source": []
  },
  {
   "cell_type": "code",
   "execution_count": null,
   "metadata": {},
   "outputs": [],
   "source": []
  },
  {
   "cell_type": "code",
   "execution_count": null,
   "metadata": {},
   "outputs": [],
   "source": []
  },
  {
   "cell_type": "code",
   "execution_count": null,
   "metadata": {},
   "outputs": [],
   "source": []
  },
  {
   "cell_type": "code",
   "execution_count": null,
   "metadata": {},
   "outputs": [],
   "source": []
  },
  {
   "cell_type": "code",
   "execution_count": null,
   "metadata": {},
   "outputs": [],
   "source": []
  },
  {
   "cell_type": "code",
   "execution_count": null,
   "metadata": {},
   "outputs": [],
   "source": []
  },
  {
   "cell_type": "code",
   "execution_count": null,
   "metadata": {},
   "outputs": [],
   "source": []
  },
  {
   "cell_type": "code",
   "execution_count": null,
   "metadata": {},
   "outputs": [],
   "source": []
  },
  {
   "cell_type": "code",
   "execution_count": null,
   "metadata": {},
   "outputs": [],
   "source": []
  },
  {
   "cell_type": "code",
   "execution_count": null,
   "metadata": {},
   "outputs": [],
   "source": []
  },
  {
   "cell_type": "code",
   "execution_count": null,
   "metadata": {},
   "outputs": [],
   "source": []
  },
  {
   "cell_type": "code",
   "execution_count": null,
   "metadata": {},
   "outputs": [],
   "source": []
  },
  {
   "cell_type": "code",
   "execution_count": null,
   "metadata": {},
   "outputs": [],
   "source": []
  },
  {
   "cell_type": "code",
   "execution_count": null,
   "metadata": {},
   "outputs": [],
   "source": []
  },
  {
   "cell_type": "code",
   "execution_count": null,
   "metadata": {},
   "outputs": [],
   "source": []
  },
  {
   "cell_type": "code",
   "execution_count": null,
   "metadata": {},
   "outputs": [],
   "source": []
  },
  {
   "cell_type": "code",
   "execution_count": null,
   "metadata": {},
   "outputs": [],
   "source": []
  },
  {
   "cell_type": "code",
   "execution_count": null,
   "metadata": {},
   "outputs": [],
   "source": []
  },
  {
   "cell_type": "code",
   "execution_count": null,
   "metadata": {},
   "outputs": [],
   "source": []
  },
  {
   "cell_type": "code",
   "execution_count": null,
   "metadata": {},
   "outputs": [],
   "source": []
  },
  {
   "cell_type": "code",
   "execution_count": null,
   "metadata": {},
   "outputs": [],
   "source": []
  },
  {
   "cell_type": "code",
   "execution_count": null,
   "metadata": {},
   "outputs": [],
   "source": []
  },
  {
   "cell_type": "code",
   "execution_count": null,
   "metadata": {},
   "outputs": [],
   "source": []
  },
  {
   "cell_type": "code",
   "execution_count": null,
   "metadata": {},
   "outputs": [],
   "source": []
  },
  {
   "cell_type": "code",
   "execution_count": null,
   "metadata": {},
   "outputs": [],
   "source": []
  },
  {
   "cell_type": "code",
   "execution_count": null,
   "metadata": {},
   "outputs": [],
   "source": []
  },
  {
   "cell_type": "code",
   "execution_count": null,
   "metadata": {},
   "outputs": [],
   "source": []
  },
  {
   "cell_type": "code",
   "execution_count": null,
   "metadata": {},
   "outputs": [],
   "source": []
  },
  {
   "cell_type": "code",
   "execution_count": null,
   "metadata": {},
   "outputs": [],
   "source": []
  },
  {
   "cell_type": "code",
   "execution_count": null,
   "metadata": {},
   "outputs": [],
   "source": []
  },
  {
   "cell_type": "code",
   "execution_count": null,
   "metadata": {},
   "outputs": [],
   "source": []
  },
  {
   "cell_type": "code",
   "execution_count": null,
   "metadata": {},
   "outputs": [],
   "source": []
  },
  {
   "cell_type": "code",
   "execution_count": null,
   "metadata": {},
   "outputs": [],
   "source": []
  },
  {
   "cell_type": "code",
   "execution_count": null,
   "metadata": {},
   "outputs": [],
   "source": []
  },
  {
   "cell_type": "code",
   "execution_count": null,
   "metadata": {},
   "outputs": [],
   "source": []
  },
  {
   "cell_type": "code",
   "execution_count": null,
   "metadata": {},
   "outputs": [],
   "source": []
  },
  {
   "cell_type": "code",
   "execution_count": null,
   "metadata": {},
   "outputs": [],
   "source": []
  },
  {
   "cell_type": "code",
   "execution_count": null,
   "metadata": {},
   "outputs": [],
   "source": []
  },
  {
   "cell_type": "code",
   "execution_count": null,
   "metadata": {},
   "outputs": [],
   "source": []
  },
  {
   "cell_type": "code",
   "execution_count": null,
   "metadata": {},
   "outputs": [],
   "source": []
  },
  {
   "cell_type": "code",
   "execution_count": null,
   "metadata": {},
   "outputs": [],
   "source": []
  },
  {
   "cell_type": "code",
   "execution_count": null,
   "metadata": {},
   "outputs": [],
   "source": []
  },
  {
   "cell_type": "code",
   "execution_count": null,
   "metadata": {},
   "outputs": [],
   "source": []
  },
  {
   "cell_type": "code",
   "execution_count": null,
   "metadata": {},
   "outputs": [],
   "source": []
  },
  {
   "cell_type": "code",
   "execution_count": null,
   "metadata": {},
   "outputs": [],
   "source": []
  },
  {
   "cell_type": "code",
   "execution_count": null,
   "metadata": {},
   "outputs": [],
   "source": []
  },
  {
   "cell_type": "code",
   "execution_count": null,
   "metadata": {},
   "outputs": [],
   "source": []
  },
  {
   "cell_type": "code",
   "execution_count": null,
   "metadata": {},
   "outputs": [],
   "source": []
  }
 ],
 "metadata": {
  "kernelspec": {
   "display_name": "Python 3",
   "language": "python",
   "name": "python3"
  },
  "language_info": {
   "codemirror_mode": {
    "name": "ipython",
    "version": 3
   },
   "file_extension": ".py",
   "mimetype": "text/x-python",
   "name": "python",
   "nbconvert_exporter": "python",
   "pygments_lexer": "ipython3",
   "version": "3.6.5"
  }
 },
 "nbformat": 4,
 "nbformat_minor": 4
}
