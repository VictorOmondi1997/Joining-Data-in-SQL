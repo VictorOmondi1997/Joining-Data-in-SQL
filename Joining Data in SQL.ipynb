{
 "cells": [
  {
   "cell_type": "markdown",
   "metadata": {},
   "source": [
    "# Joining Data in SQL\n",
    "\n",
    "> the power of joining tables while exploring interesting features of countries and their cities throughout the world\n",
    "\n",
    "- author: Victor Omondi\n",
    "- toc: true\n",
    "- comments: true\n",
    "- categories: [joins, sql]\n",
    "- image: images/jds-shield-png"
   ]
  },
  {
   "cell_type": "markdown",
   "metadata": {},
   "source": [
    "# Overview\n",
    "\n",
    "We'll explore the power of joining tables while exploring interesting features of countries and their cities throughout the world. We will use inner and outer joins, as well as self joins, semi joins, anti joins and cross joins—fundamental tools in any PostgreSQL wizard's toolbox."
   ]
  },
  {
   "cell_type": "markdown",
   "metadata": {},
   "source": [
    "# Setup "
   ]
  },
  {
   "cell_type": "code",
   "execution_count": 1,
   "metadata": {},
   "outputs": [
    {
     "data": {
      "text/plain": [
       "'Connected: @None'"
      ]
     },
     "execution_count": 1,
     "metadata": {},
     "output_type": "execute_result"
    }
   ],
   "source": [
    "import pandas as pd\n",
    "%load_ext sql\n",
    "%sql sqlite://"
   ]
  },
  {
   "cell_type": "markdown",
   "metadata": {},
   "source": [
    "# Introduction to joins\n",
    "\n",
    "We'll be exploring the concept of joining tables, and will explore the different ways to enrich queries using inner joins and self joins. We'll also see how to use the case statement to split up a field into different categories."
   ]
  },
  {
   "cell_type": "markdown",
   "metadata": {},
   "source": [
    "## Introduction to INNER JOIN\n",
    "\n",
    "### prime_ministers table"
   ]
  },
  {
   "cell_type": "code",
   "execution_count": 2,
   "metadata": {},
   "outputs": [
    {
     "data": {
      "text/html": [
       "<div>\n",
       "<style scoped>\n",
       "    .dataframe tbody tr th:only-of-type {\n",
       "        vertical-align: middle;\n",
       "    }\n",
       "\n",
       "    .dataframe tbody tr th {\n",
       "        vertical-align: top;\n",
       "    }\n",
       "\n",
       "    .dataframe thead th {\n",
       "        text-align: right;\n",
       "    }\n",
       "</style>\n",
       "<table border=\"1\" class=\"dataframe\">\n",
       "  <thead>\n",
       "    <tr style=\"text-align: right;\">\n",
       "      <th></th>\n",
       "      <th>country</th>\n",
       "      <th>continent</th>\n",
       "      <th>prime_minister</th>\n",
       "    </tr>\n",
       "  </thead>\n",
       "  <tbody>\n",
       "    <tr>\n",
       "      <th>0</th>\n",
       "      <td>Egypt</td>\n",
       "      <td>Africa</td>\n",
       "      <td>Sherif Ismail</td>\n",
       "    </tr>\n",
       "    <tr>\n",
       "      <th>1</th>\n",
       "      <td>Portugal</td>\n",
       "      <td>Europe</td>\n",
       "      <td>Antonio Costa</td>\n",
       "    </tr>\n",
       "    <tr>\n",
       "      <th>2</th>\n",
       "      <td>Vietnam</td>\n",
       "      <td>Asia</td>\n",
       "      <td>Nguyen Xuan Phuc</td>\n",
       "    </tr>\n",
       "    <tr>\n",
       "      <th>3</th>\n",
       "      <td>Haiti</td>\n",
       "      <td>North America</td>\n",
       "      <td>Jack Guy Lafontant</td>\n",
       "    </tr>\n",
       "    <tr>\n",
       "      <th>4</th>\n",
       "      <td>India</td>\n",
       "      <td>Asia</td>\n",
       "      <td>Narendra Modi</td>\n",
       "    </tr>\n",
       "  </tbody>\n",
       "</table>\n",
       "</div>"
      ],
      "text/plain": [
       "    country      continent      prime_minister\n",
       "0     Egypt         Africa       Sherif Ismail\n",
       "1  Portugal         Europe       Antonio Costa\n",
       "2   Vietnam           Asia    Nguyen Xuan Phuc\n",
       "3     Haiti  North America  Jack Guy Lafontant\n",
       "4     India           Asia       Narendra Modi"
      ]
     },
     "execution_count": 2,
     "metadata": {},
     "output_type": "execute_result"
    }
   ],
   "source": [
    "prime_ministers = pd.read_csv(\"datasets/leaders/prime_ministers.csv\")\n",
    "prime_ministers.head()"
   ]
  },
  {
   "cell_type": "code",
   "execution_count": 3,
   "metadata": {},
   "outputs": [
    {
     "data": {
      "text/html": [
       "<div>\n",
       "<style scoped>\n",
       "    .dataframe tbody tr th:only-of-type {\n",
       "        vertical-align: middle;\n",
       "    }\n",
       "\n",
       "    .dataframe tbody tr th {\n",
       "        vertical-align: top;\n",
       "    }\n",
       "\n",
       "    .dataframe thead th {\n",
       "        text-align: right;\n",
       "    }\n",
       "</style>\n",
       "<table border=\"1\" class=\"dataframe\">\n",
       "  <thead>\n",
       "    <tr style=\"text-align: right;\">\n",
       "      <th></th>\n",
       "      <th>country</th>\n",
       "      <th>continent</th>\n",
       "      <th>president</th>\n",
       "    </tr>\n",
       "  </thead>\n",
       "  <tbody>\n",
       "    <tr>\n",
       "      <th>0</th>\n",
       "      <td>Egypt</td>\n",
       "      <td>Africa</td>\n",
       "      <td>Abdel Fattah el-Sisi</td>\n",
       "    </tr>\n",
       "    <tr>\n",
       "      <th>1</th>\n",
       "      <td>Portugal</td>\n",
       "      <td>Europe</td>\n",
       "      <td>Marcelo Rebelo de Sousa</td>\n",
       "    </tr>\n",
       "    <tr>\n",
       "      <th>2</th>\n",
       "      <td>Haiti</td>\n",
       "      <td>North America</td>\n",
       "      <td>Jovenel Moise</td>\n",
       "    </tr>\n",
       "    <tr>\n",
       "      <th>3</th>\n",
       "      <td>Uruguay</td>\n",
       "      <td>South America</td>\n",
       "      <td>Jose Mujica</td>\n",
       "    </tr>\n",
       "    <tr>\n",
       "      <th>4</th>\n",
       "      <td>Liberia</td>\n",
       "      <td>Africa</td>\n",
       "      <td>Ellen Johnson Sirleaf</td>\n",
       "    </tr>\n",
       "  </tbody>\n",
       "</table>\n",
       "</div>"
      ],
      "text/plain": [
       "    country      continent                president\n",
       "0     Egypt         Africa     Abdel Fattah el-Sisi\n",
       "1  Portugal         Europe  Marcelo Rebelo de Sousa\n",
       "2     Haiti  North America            Jovenel Moise\n",
       "3   Uruguay  South America              Jose Mujica\n",
       "4   Liberia         Africa    Ellen Johnson Sirleaf"
      ]
     },
     "execution_count": 3,
     "metadata": {},
     "output_type": "execute_result"
    }
   ],
   "source": [
    "presidents = pd.read_csv(\"datasets/leaders/presidents.csv\")\n",
    "presidents.head()"
   ]
  },
  {
   "cell_type": "code",
   "execution_count": 4,
   "metadata": {},
   "outputs": [
    {
     "name": "stdout",
     "output_type": "stream",
     "text": [
      " * sqlite://\n",
      "Done.\n",
      " * sqlite://\n",
      " * sqlite://\n",
      "Done.\n",
      " * sqlite://\n"
     ]
    },
    {
     "data": {
      "text/plain": [
       "'Persisted presidents'"
      ]
     },
     "execution_count": 4,
     "metadata": {},
     "output_type": "execute_result"
    }
   ],
   "source": [
    "%sql DROP TABLE IF EXISTS prime_ministers;\n",
    "%sql PERSIST prime_ministers;\n",
    "%sql DROP TABLE IF EXISTS presidents;\n",
    "%sql PERSIST presidents;"
   ]
  },
  {
   "cell_type": "markdown",
   "metadata": {},
   "source": [
    "### INNER JOIN in SQL"
   ]
  },
  {
   "cell_type": "code",
   "execution_count": 5,
   "metadata": {},
   "outputs": [
    {
     "name": "stdout",
     "output_type": "stream",
     "text": [
      " * sqlite://\n",
      "Done.\n"
     ]
    },
    {
     "data": {
      "text/html": [
       "<table>\n",
       "    <tr>\n",
       "        <th>country</th>\n",
       "        <th>continent</th>\n",
       "        <th>prime_minister</th>\n",
       "        <th>president</th>\n",
       "    </tr>\n",
       "    <tr>\n",
       "        <td>Egypt</td>\n",
       "        <td>Africa</td>\n",
       "        <td>Sherif Ismail</td>\n",
       "        <td>Abdel Fattah el-Sisi</td>\n",
       "    </tr>\n",
       "    <tr>\n",
       "        <td>Portugal</td>\n",
       "        <td>Europe</td>\n",
       "        <td>Antonio Costa</td>\n",
       "        <td>Marcelo Rebelo de Sousa</td>\n",
       "    </tr>\n",
       "    <tr>\n",
       "        <td>Vietnam</td>\n",
       "        <td>Asia</td>\n",
       "        <td>Nguyen Xuan Phuc</td>\n",
       "        <td>Tran Dai Quang</td>\n",
       "    </tr>\n",
       "    <tr>\n",
       "        <td>Haiti</td>\n",
       "        <td>North America</td>\n",
       "        <td>Jack Guy Lafontant</td>\n",
       "        <td>Jovenel Moise</td>\n",
       "    </tr>\n",
       "</table>"
      ],
      "text/plain": [
       "[('Egypt', 'Africa', 'Sherif Ismail', 'Abdel Fattah el-Sisi'),\n",
       " ('Portugal', 'Europe', 'Antonio Costa', 'Marcelo Rebelo de Sousa'),\n",
       " ('Vietnam', 'Asia', 'Nguyen Xuan Phuc', 'Tran Dai Quang'),\n",
       " ('Haiti', 'North America', 'Jack Guy Lafontant', 'Jovenel Moise')]"
      ]
     },
     "execution_count": 5,
     "metadata": {},
     "output_type": "execute_result"
    }
   ],
   "source": [
    "%%sql\n",
    "SELECT p1.country, p1.continent, prime_minister, president\n",
    "    FROM prime_ministers AS p1\n",
    "    INNER JOIN presidents AS p2\n",
    "    ON p1.country = p2.country"
   ]
  },
  {
   "cell_type": "markdown",
   "metadata": {},
   "source": [
    "We'll be working with the `countries` database containing information about the most populous world cities as well as country-level economic data, population data, and geographic data. This `countries` database also contains information on languages spoken in each country."
   ]
  },
  {
   "cell_type": "code",
   "execution_count": 6,
   "metadata": {},
   "outputs": [
    {
     "data": {
      "text/html": [
       "<div>\n",
       "<style scoped>\n",
       "    .dataframe tbody tr th:only-of-type {\n",
       "        vertical-align: middle;\n",
       "    }\n",
       "\n",
       "    .dataframe tbody tr th {\n",
       "        vertical-align: top;\n",
       "    }\n",
       "\n",
       "    .dataframe thead th {\n",
       "        text-align: right;\n",
       "    }\n",
       "</style>\n",
       "<table border=\"1\" class=\"dataframe\">\n",
       "  <thead>\n",
       "    <tr style=\"text-align: right;\">\n",
       "      <th></th>\n",
       "      <th>name</th>\n",
       "      <th>country_code</th>\n",
       "      <th>city_proper_pop</th>\n",
       "      <th>metroarea_pop</th>\n",
       "      <th>urbanarea_pop</th>\n",
       "    </tr>\n",
       "  </thead>\n",
       "  <tbody>\n",
       "    <tr>\n",
       "      <th>0</th>\n",
       "      <td>Abidjan</td>\n",
       "      <td>CIV</td>\n",
       "      <td>4765000</td>\n",
       "      <td>NaN</td>\n",
       "      <td>4765000</td>\n",
       "    </tr>\n",
       "    <tr>\n",
       "      <th>1</th>\n",
       "      <td>Abu Dhabi</td>\n",
       "      <td>ARE</td>\n",
       "      <td>1145000</td>\n",
       "      <td>NaN</td>\n",
       "      <td>1145000</td>\n",
       "    </tr>\n",
       "    <tr>\n",
       "      <th>2</th>\n",
       "      <td>Abuja</td>\n",
       "      <td>NGA</td>\n",
       "      <td>1235880</td>\n",
       "      <td>6000000.0</td>\n",
       "      <td>1235880</td>\n",
       "    </tr>\n",
       "    <tr>\n",
       "      <th>3</th>\n",
       "      <td>Accra</td>\n",
       "      <td>GHA</td>\n",
       "      <td>2070463</td>\n",
       "      <td>4010054.0</td>\n",
       "      <td>2070463</td>\n",
       "    </tr>\n",
       "    <tr>\n",
       "      <th>4</th>\n",
       "      <td>Addis Ababa</td>\n",
       "      <td>ETH</td>\n",
       "      <td>3103673</td>\n",
       "      <td>4567857.0</td>\n",
       "      <td>3103673</td>\n",
       "    </tr>\n",
       "  </tbody>\n",
       "</table>\n",
       "</div>"
      ],
      "text/plain": [
       "          name country_code  city_proper_pop  metroarea_pop  urbanarea_pop\n",
       "0      Abidjan          CIV          4765000            NaN        4765000\n",
       "1    Abu Dhabi          ARE          1145000            NaN        1145000\n",
       "2        Abuja          NGA          1235880      6000000.0        1235880\n",
       "3        Accra          GHA          2070463      4010054.0        2070463\n",
       "4  Addis Ababa          ETH          3103673      4567857.0        3103673"
      ]
     },
     "execution_count": 6,
     "metadata": {},
     "output_type": "execute_result"
    }
   ],
   "source": [
    "cities = pd.read_csv(\"datasets/countries/cities.csv\")\n",
    "cities.head()"
   ]
  },
  {
   "cell_type": "code",
   "execution_count": 7,
   "metadata": {},
   "outputs": [
    {
     "data": {
      "text/html": [
       "<div>\n",
       "<style scoped>\n",
       "    .dataframe tbody tr th:only-of-type {\n",
       "        vertical-align: middle;\n",
       "    }\n",
       "\n",
       "    .dataframe tbody tr th {\n",
       "        vertical-align: top;\n",
       "    }\n",
       "\n",
       "    .dataframe thead th {\n",
       "        text-align: right;\n",
       "    }\n",
       "</style>\n",
       "<table border=\"1\" class=\"dataframe\">\n",
       "  <thead>\n",
       "    <tr style=\"text-align: right;\">\n",
       "      <th></th>\n",
       "      <th>code</th>\n",
       "      <th>country_name</th>\n",
       "      <th>continent</th>\n",
       "      <th>region</th>\n",
       "      <th>surface_area</th>\n",
       "      <th>indep_year</th>\n",
       "      <th>local_name</th>\n",
       "      <th>gov_form</th>\n",
       "      <th>capital</th>\n",
       "      <th>cap_long</th>\n",
       "      <th>cap_lat</th>\n",
       "    </tr>\n",
       "  </thead>\n",
       "  <tbody>\n",
       "    <tr>\n",
       "      <th>0</th>\n",
       "      <td>AFG</td>\n",
       "      <td>Afghanistan</td>\n",
       "      <td>Asia</td>\n",
       "      <td>Southern and Central Asia</td>\n",
       "      <td>652090.0</td>\n",
       "      <td>1919.0</td>\n",
       "      <td>Afganistan/Afqanestan</td>\n",
       "      <td>Islamic Emirate</td>\n",
       "      <td>Kabul</td>\n",
       "      <td>69.17610</td>\n",
       "      <td>34.5228</td>\n",
       "    </tr>\n",
       "    <tr>\n",
       "      <th>1</th>\n",
       "      <td>NLD</td>\n",
       "      <td>Netherlands</td>\n",
       "      <td>Europe</td>\n",
       "      <td>Western Europe</td>\n",
       "      <td>41526.0</td>\n",
       "      <td>1581.0</td>\n",
       "      <td>Nederland</td>\n",
       "      <td>Constitutional Monarchy</td>\n",
       "      <td>Amsterdam</td>\n",
       "      <td>4.89095</td>\n",
       "      <td>52.3738</td>\n",
       "    </tr>\n",
       "    <tr>\n",
       "      <th>2</th>\n",
       "      <td>ALB</td>\n",
       "      <td>Albania</td>\n",
       "      <td>Europe</td>\n",
       "      <td>Southern Europe</td>\n",
       "      <td>28748.0</td>\n",
       "      <td>1912.0</td>\n",
       "      <td>Shqiperia</td>\n",
       "      <td>Republic</td>\n",
       "      <td>Tirane</td>\n",
       "      <td>19.81720</td>\n",
       "      <td>41.3317</td>\n",
       "    </tr>\n",
       "    <tr>\n",
       "      <th>3</th>\n",
       "      <td>DZA</td>\n",
       "      <td>Algeria</td>\n",
       "      <td>Africa</td>\n",
       "      <td>Northern Africa</td>\n",
       "      <td>2381740.0</td>\n",
       "      <td>1962.0</td>\n",
       "      <td>Al-Jazair/Algerie</td>\n",
       "      <td>Republic</td>\n",
       "      <td>Algiers</td>\n",
       "      <td>3.05097</td>\n",
       "      <td>36.7397</td>\n",
       "    </tr>\n",
       "    <tr>\n",
       "      <th>4</th>\n",
       "      <td>ASM</td>\n",
       "      <td>American Samoa</td>\n",
       "      <td>Oceania</td>\n",
       "      <td>Polynesia</td>\n",
       "      <td>199.0</td>\n",
       "      <td>NaN</td>\n",
       "      <td>Amerika Samoa</td>\n",
       "      <td>US Territory</td>\n",
       "      <td>Pago Pago</td>\n",
       "      <td>-170.69100</td>\n",
       "      <td>-14.2846</td>\n",
       "    </tr>\n",
       "  </tbody>\n",
       "</table>\n",
       "</div>"
      ],
      "text/plain": [
       "  code    country_name continent                     region  surface_area  \\\n",
       "0  AFG     Afghanistan      Asia  Southern and Central Asia      652090.0   \n",
       "1  NLD     Netherlands    Europe             Western Europe       41526.0   \n",
       "2  ALB         Albania    Europe            Southern Europe       28748.0   \n",
       "3  DZA         Algeria    Africa            Northern Africa     2381740.0   \n",
       "4  ASM  American Samoa   Oceania                  Polynesia         199.0   \n",
       "\n",
       "   indep_year             local_name                 gov_form    capital  \\\n",
       "0      1919.0  Afganistan/Afqanestan          Islamic Emirate      Kabul   \n",
       "1      1581.0              Nederland  Constitutional Monarchy  Amsterdam   \n",
       "2      1912.0              Shqiperia                 Republic     Tirane   \n",
       "3      1962.0     Al-Jazair/Algerie                 Republic    Algiers   \n",
       "4         NaN          Amerika Samoa             US Territory  Pago Pago   \n",
       "\n",
       "    cap_long  cap_lat  \n",
       "0   69.17610  34.5228  \n",
       "1    4.89095  52.3738  \n",
       "2   19.81720  41.3317  \n",
       "3    3.05097  36.7397  \n",
       "4 -170.69100 -14.2846  "
      ]
     },
     "execution_count": 7,
     "metadata": {},
     "output_type": "execute_result"
    }
   ],
   "source": [
    "countries = pd.read_csv(\"datasets/countries/countries.csv\")\n",
    "countries.head()"
   ]
  },
  {
   "cell_type": "code",
   "execution_count": 8,
   "metadata": {},
   "outputs": [
    {
     "name": "stdout",
     "output_type": "stream",
     "text": [
      " * sqlite://\n",
      "Done.\n",
      " * sqlite://\n",
      "Done.\n",
      " * sqlite://\n",
      " * sqlite://\n"
     ]
    },
    {
     "data": {
      "text/plain": [
       "'Persisted countries'"
      ]
     },
     "execution_count": 8,
     "metadata": {},
     "output_type": "execute_result"
    }
   ],
   "source": [
    "%sql DROP TABLE IF EXISTS cities;\n",
    "%sql DROP TABLE IF EXISTS countries;\n",
    "%sql PERSIST cities;\n",
    "%sql PERSIST countries;"
   ]
  },
  {
   "cell_type": "code",
   "execution_count": 9,
   "metadata": {},
   "outputs": [
    {
     "name": "stdout",
     "output_type": "stream",
     "text": [
      " * sqlite://\n",
      "Done.\n"
     ]
    },
    {
     "data": {
      "text/html": [
       "<table>\n",
       "    <tr>\n",
       "        <th>index</th>\n",
       "        <th>name</th>\n",
       "        <th>country_code</th>\n",
       "        <th>city_proper_pop</th>\n",
       "        <th>metroarea_pop</th>\n",
       "        <th>urbanarea_pop</th>\n",
       "    </tr>\n",
       "    <tr>\n",
       "        <td>0</td>\n",
       "        <td>Abidjan</td>\n",
       "        <td>CIV</td>\n",
       "        <td>4765000</td>\n",
       "        <td>None</td>\n",
       "        <td>4765000</td>\n",
       "    </tr>\n",
       "    <tr>\n",
       "        <td>1</td>\n",
       "        <td>Abu Dhabi</td>\n",
       "        <td>ARE</td>\n",
       "        <td>1145000</td>\n",
       "        <td>None</td>\n",
       "        <td>1145000</td>\n",
       "    </tr>\n",
       "    <tr>\n",
       "        <td>2</td>\n",
       "        <td>Abuja</td>\n",
       "        <td>NGA</td>\n",
       "        <td>1235880</td>\n",
       "        <td>6000000.0</td>\n",
       "        <td>1235880</td>\n",
       "    </tr>\n",
       "    <tr>\n",
       "        <td>3</td>\n",
       "        <td>Accra</td>\n",
       "        <td>GHA</td>\n",
       "        <td>2070463</td>\n",
       "        <td>4010054.0</td>\n",
       "        <td>2070463</td>\n",
       "    </tr>\n",
       "    <tr>\n",
       "        <td>4</td>\n",
       "        <td>Addis Ababa</td>\n",
       "        <td>ETH</td>\n",
       "        <td>3103673</td>\n",
       "        <td>4567857.0</td>\n",
       "        <td>3103673</td>\n",
       "    </tr>\n",
       "</table>"
      ],
      "text/plain": [
       "[(0, 'Abidjan', 'CIV', 4765000, None, 4765000),\n",
       " (1, 'Abu Dhabi', 'ARE', 1145000, None, 1145000),\n",
       " (2, 'Abuja', 'NGA', 1235880, 6000000.0, 1235880),\n",
       " (3, 'Accra', 'GHA', 2070463, 4010054.0, 2070463),\n",
       " (4, 'Addis Ababa', 'ETH', 3103673, 4567857.0, 3103673)]"
      ]
     },
     "execution_count": 9,
     "metadata": {},
     "output_type": "execute_result"
    }
   ],
   "source": [
    "%%sql\n",
    "-- Select all columns from cities\n",
    "SELECT *\n",
    "    FROM cities\n",
    "    LIMIT 5;"
   ]
  },
  {
   "cell_type": "code",
   "execution_count": 10,
   "metadata": {},
   "outputs": [
    {
     "name": "stdout",
     "output_type": "stream",
     "text": [
      " * sqlite://\n",
      "Done.\n"
     ]
    },
    {
     "data": {
      "text/html": [
       "<table>\n",
       "    <tr>\n",
       "        <th>index</th>\n",
       "        <th>name</th>\n",
       "        <th>country_code</th>\n",
       "        <th>city_proper_pop</th>\n",
       "        <th>metroarea_pop</th>\n",
       "        <th>urbanarea_pop</th>\n",
       "        <th>index_1</th>\n",
       "        <th>code</th>\n",
       "        <th>country_name</th>\n",
       "        <th>continent</th>\n",
       "        <th>region</th>\n",
       "        <th>surface_area</th>\n",
       "        <th>indep_year</th>\n",
       "        <th>local_name</th>\n",
       "        <th>gov_form</th>\n",
       "        <th>capital</th>\n",
       "        <th>cap_long</th>\n",
       "        <th>cap_lat</th>\n",
       "    </tr>\n",
       "    <tr>\n",
       "        <td>0</td>\n",
       "        <td>Abidjan</td>\n",
       "        <td>CIV</td>\n",
       "        <td>4765000</td>\n",
       "        <td>None</td>\n",
       "        <td>4765000</td>\n",
       "        <td>133</td>\n",
       "        <td>CIV</td>\n",
       "        <td>Cote d&#x27;Ivoire</td>\n",
       "        <td>Africa</td>\n",
       "        <td>Western Africa</td>\n",
       "        <td>322463.0</td>\n",
       "        <td>1960.0</td>\n",
       "        <td>Cote dIvoire</td>\n",
       "        <td>Republic</td>\n",
       "        <td>Yamoussoukro</td>\n",
       "        <td>-4.0305</td>\n",
       "        <td>5.332000000000001</td>\n",
       "    </tr>\n",
       "    <tr>\n",
       "        <td>1</td>\n",
       "        <td>Abu Dhabi</td>\n",
       "        <td>ARE</td>\n",
       "        <td>1145000</td>\n",
       "        <td>None</td>\n",
       "        <td>1145000</td>\n",
       "        <td>8</td>\n",
       "        <td>ARE</td>\n",
       "        <td>United Arab Emirates</td>\n",
       "        <td>Asia</td>\n",
       "        <td>Middle East</td>\n",
       "        <td>83600.0</td>\n",
       "        <td>1971.0</td>\n",
       "        <td>Al-Imarat al-´Arabiya al-Muttahida</td>\n",
       "        <td>Emirate Federation</td>\n",
       "        <td>Abu Dhabi</td>\n",
       "        <td>54.3705</td>\n",
       "        <td>24.4764</td>\n",
       "    </tr>\n",
       "    <tr>\n",
       "        <td>2</td>\n",
       "        <td>Abuja</td>\n",
       "        <td>NGA</td>\n",
       "        <td>1235880</td>\n",
       "        <td>6000000.0</td>\n",
       "        <td>1235880</td>\n",
       "        <td>131</td>\n",
       "        <td>NGA</td>\n",
       "        <td>Nigeria</td>\n",
       "        <td>Africa</td>\n",
       "        <td>Western Africa</td>\n",
       "        <td>923768.0</td>\n",
       "        <td>1960.0</td>\n",
       "        <td>Nigeria</td>\n",
       "        <td>Federal Republic</td>\n",
       "        <td>Abuja</td>\n",
       "        <td>7.48906</td>\n",
       "        <td>9.05804</td>\n",
       "    </tr>\n",
       "    <tr>\n",
       "        <td>3</td>\n",
       "        <td>Accra</td>\n",
       "        <td>GHA</td>\n",
       "        <td>2070463</td>\n",
       "        <td>4010054.0</td>\n",
       "        <td>2070463</td>\n",
       "        <td>52</td>\n",
       "        <td>GHA</td>\n",
       "        <td>Ghana</td>\n",
       "        <td>Africa</td>\n",
       "        <td>Western Africa</td>\n",
       "        <td>238533.0</td>\n",
       "        <td>1957.0</td>\n",
       "        <td>Ghana</td>\n",
       "        <td>Republic</td>\n",
       "        <td>Accra</td>\n",
       "        <td>-0.20795</td>\n",
       "        <td>5.57045</td>\n",
       "    </tr>\n",
       "    <tr>\n",
       "        <td>4</td>\n",
       "        <td>Addis Ababa</td>\n",
       "        <td>ETH</td>\n",
       "        <td>3103673</td>\n",
       "        <td>4567857.0</td>\n",
       "        <td>3103673</td>\n",
       "        <td>45</td>\n",
       "        <td>ETH</td>\n",
       "        <td>Ethiopia</td>\n",
       "        <td>Africa</td>\n",
       "        <td>Eastern Africa</td>\n",
       "        <td>1104300.0</td>\n",
       "        <td>-1000.0</td>\n",
       "        <td>YeItyop´iya</td>\n",
       "        <td>Republic</td>\n",
       "        <td>Addis Ababa</td>\n",
       "        <td>38.7468</td>\n",
       "        <td>9.022739999999999</td>\n",
       "    </tr>\n",
       "</table>"
      ],
      "text/plain": [
       "[(0, 'Abidjan', 'CIV', 4765000, None, 4765000, 133, 'CIV', \"Cote d'Ivoire\", 'Africa', 'Western Africa', 322463.0, 1960.0, 'Cote d\\x92Ivoire', 'Republic', 'Yamoussoukro', -4.0305, 5.332000000000001),\n",
       " (1, 'Abu Dhabi', 'ARE', 1145000, None, 1145000, 8, 'ARE', 'United Arab Emirates', 'Asia', 'Middle East', 83600.0, 1971.0, 'Al-Imarat al-´Arabiya al-Muttahida', 'Emirate Federation', 'Abu Dhabi', 54.3705, 24.4764),\n",
       " (2, 'Abuja', 'NGA', 1235880, 6000000.0, 1235880, 131, 'NGA', 'Nigeria', 'Africa', 'Western Africa', 923768.0, 1960.0, 'Nigeria', 'Federal Republic', 'Abuja', 7.48906, 9.05804),\n",
       " (3, 'Accra', 'GHA', 2070463, 4010054.0, 2070463, 52, 'GHA', 'Ghana', 'Africa', 'Western Africa', 238533.0, 1957.0, 'Ghana', 'Republic', 'Accra', -0.20795, 5.57045),\n",
       " (4, 'Addis Ababa', 'ETH', 3103673, 4567857.0, 3103673, 45, 'ETH', 'Ethiopia', 'Africa', 'Eastern Africa', 1104300.0, -1000.0, 'YeItyop´iya', 'Republic', 'Addis Ababa', 38.7468, 9.022739999999999)]"
      ]
     },
     "execution_count": 10,
     "metadata": {},
     "output_type": "execute_result"
    }
   ],
   "source": [
    "%%sql\n",
    "SELECT * \n",
    "FROM cities\n",
    "    -- 1. Inner join to countries\n",
    "    INNER JOIN countries\n",
    "    -- 2. Match on the country codes\n",
    "    ON cities.country_code = countries.code\n",
    "    LIMIT 5;"
   ]
  },
  {
   "cell_type": "code",
   "execution_count": 11,
   "metadata": {},
   "outputs": [
    {
     "name": "stdout",
     "output_type": "stream",
     "text": [
      " * sqlite://\n",
      "Done.\n"
     ]
    },
    {
     "data": {
      "text/html": [
       "<table>\n",
       "    <tr>\n",
       "        <th>city</th>\n",
       "        <th>country</th>\n",
       "        <th>region</th>\n",
       "    </tr>\n",
       "    <tr>\n",
       "        <td>Abidjan</td>\n",
       "        <td>Cote d&#x27;Ivoire</td>\n",
       "        <td>Western Africa</td>\n",
       "    </tr>\n",
       "    <tr>\n",
       "        <td>Abu Dhabi</td>\n",
       "        <td>United Arab Emirates</td>\n",
       "        <td>Middle East</td>\n",
       "    </tr>\n",
       "    <tr>\n",
       "        <td>Abuja</td>\n",
       "        <td>Nigeria</td>\n",
       "        <td>Western Africa</td>\n",
       "    </tr>\n",
       "    <tr>\n",
       "        <td>Accra</td>\n",
       "        <td>Ghana</td>\n",
       "        <td>Western Africa</td>\n",
       "    </tr>\n",
       "    <tr>\n",
       "        <td>Addis Ababa</td>\n",
       "        <td>Ethiopia</td>\n",
       "        <td>Eastern Africa</td>\n",
       "    </tr>\n",
       "</table>"
      ],
      "text/plain": [
       "[('Abidjan', \"Cote d'Ivoire\", 'Western Africa'),\n",
       " ('Abu Dhabi', 'United Arab Emirates', 'Middle East'),\n",
       " ('Abuja', 'Nigeria', 'Western Africa'),\n",
       " ('Accra', 'Ghana', 'Western Africa'),\n",
       " ('Addis Ababa', 'Ethiopia', 'Eastern Africa')]"
      ]
     },
     "execution_count": 11,
     "metadata": {},
     "output_type": "execute_result"
    }
   ],
   "source": [
    "%%sql\n",
    "-- 1. Select name fields (with alias) and region \n",
    "SELECT cities.name AS city, countries.country_name AS country, countries.region\n",
    "    FROM cities\n",
    "    INNER JOIN countries\n",
    "    ON cities.country_code = countries.code\n",
    "    LIMIT 5;"
   ]
  },
  {
   "cell_type": "markdown",
   "metadata": {},
   "source": [
    "Instead of writing the full table name, we can use table aliasing as a shortcut. For tables we also use AS to add the alias immediately after the table name with a space. To select a field in the query that appears in multiple tables, we'll need to identify which table/table alias we're referring to by using a `.` in the `SELECT` statement.\n",
    "\n",
    "We'll now explore a way to get data from both the `countries` and `economies` tables to examine the inflation rate for both 2010 and 2015."
   ]
  },
  {
   "cell_type": "code",
   "execution_count": 12,
   "metadata": {},
   "outputs": [
    {
     "data": {
      "text/html": [
       "<div>\n",
       "<style scoped>\n",
       "    .dataframe tbody tr th:only-of-type {\n",
       "        vertical-align: middle;\n",
       "    }\n",
       "\n",
       "    .dataframe tbody tr th {\n",
       "        vertical-align: top;\n",
       "    }\n",
       "\n",
       "    .dataframe thead th {\n",
       "        text-align: right;\n",
       "    }\n",
       "</style>\n",
       "<table border=\"1\" class=\"dataframe\">\n",
       "  <thead>\n",
       "    <tr style=\"text-align: right;\">\n",
       "      <th></th>\n",
       "      <th>econ_id</th>\n",
       "      <th>code</th>\n",
       "      <th>year</th>\n",
       "      <th>income_group</th>\n",
       "      <th>gdp_percapita</th>\n",
       "      <th>gross_savings</th>\n",
       "      <th>inflation_rate</th>\n",
       "      <th>total_investment</th>\n",
       "      <th>unemployment_rate</th>\n",
       "      <th>exports</th>\n",
       "      <th>imports</th>\n",
       "    </tr>\n",
       "  </thead>\n",
       "  <tbody>\n",
       "    <tr>\n",
       "      <th>0</th>\n",
       "      <td>1</td>\n",
       "      <td>AFG</td>\n",
       "      <td>2010</td>\n",
       "      <td>Low income</td>\n",
       "      <td>539.667</td>\n",
       "      <td>37.133</td>\n",
       "      <td>2.179</td>\n",
       "      <td>30.402</td>\n",
       "      <td>NaN</td>\n",
       "      <td>46.394</td>\n",
       "      <td>24.381</td>\n",
       "    </tr>\n",
       "    <tr>\n",
       "      <th>1</th>\n",
       "      <td>2</td>\n",
       "      <td>AFG</td>\n",
       "      <td>2015</td>\n",
       "      <td>Low income</td>\n",
       "      <td>615.091</td>\n",
       "      <td>21.466</td>\n",
       "      <td>-1.549</td>\n",
       "      <td>18.602</td>\n",
       "      <td>NaN</td>\n",
       "      <td>-49.110</td>\n",
       "      <td>-7.294</td>\n",
       "    </tr>\n",
       "    <tr>\n",
       "      <th>2</th>\n",
       "      <td>3</td>\n",
       "      <td>AGO</td>\n",
       "      <td>2010</td>\n",
       "      <td>Upper middle income</td>\n",
       "      <td>3599.270</td>\n",
       "      <td>23.534</td>\n",
       "      <td>14.480</td>\n",
       "      <td>14.433</td>\n",
       "      <td>NaN</td>\n",
       "      <td>-3.266</td>\n",
       "      <td>-21.076</td>\n",
       "    </tr>\n",
       "    <tr>\n",
       "      <th>3</th>\n",
       "      <td>4</td>\n",
       "      <td>AGO</td>\n",
       "      <td>2015</td>\n",
       "      <td>Upper middle income</td>\n",
       "      <td>3876.200</td>\n",
       "      <td>-0.425</td>\n",
       "      <td>10.287</td>\n",
       "      <td>9.552</td>\n",
       "      <td>NaN</td>\n",
       "      <td>6.721</td>\n",
       "      <td>-21.778</td>\n",
       "    </tr>\n",
       "    <tr>\n",
       "      <th>4</th>\n",
       "      <td>5</td>\n",
       "      <td>ALB</td>\n",
       "      <td>2010</td>\n",
       "      <td>Upper middle income</td>\n",
       "      <td>4098.130</td>\n",
       "      <td>20.011</td>\n",
       "      <td>3.605</td>\n",
       "      <td>31.305</td>\n",
       "      <td>14.0</td>\n",
       "      <td>10.645</td>\n",
       "      <td>-8.013</td>\n",
       "    </tr>\n",
       "  </tbody>\n",
       "</table>\n",
       "</div>"
      ],
      "text/plain": [
       "   econ_id code  year         income_group  gdp_percapita  gross_savings  \\\n",
       "0        1  AFG  2010           Low income        539.667         37.133   \n",
       "1        2  AFG  2015           Low income        615.091         21.466   \n",
       "2        3  AGO  2010  Upper middle income       3599.270         23.534   \n",
       "3        4  AGO  2015  Upper middle income       3876.200         -0.425   \n",
       "4        5  ALB  2010  Upper middle income       4098.130         20.011   \n",
       "\n",
       "   inflation_rate  total_investment  unemployment_rate  exports  imports  \n",
       "0           2.179            30.402                NaN   46.394   24.381  \n",
       "1          -1.549            18.602                NaN  -49.110   -7.294  \n",
       "2          14.480            14.433                NaN   -3.266  -21.076  \n",
       "3          10.287             9.552                NaN    6.721  -21.778  \n",
       "4           3.605            31.305               14.0   10.645   -8.013  "
      ]
     },
     "execution_count": 12,
     "metadata": {},
     "output_type": "execute_result"
    }
   ],
   "source": [
    "economies = pd.read_csv(\"datasets/countries/economies.csv\")\n",
    "economies.head()"
   ]
  },
  {
   "cell_type": "code",
   "execution_count": 13,
   "metadata": {},
   "outputs": [
    {
     "name": "stdout",
     "output_type": "stream",
     "text": [
      " * sqlite://\n",
      "Done.\n",
      " * sqlite://\n"
     ]
    },
    {
     "data": {
      "text/plain": [
       "'Persisted economies'"
      ]
     },
     "execution_count": 13,
     "metadata": {},
     "output_type": "execute_result"
    }
   ],
   "source": [
    "%sql DROP TABLE IF EXISTS economies\n",
    "%sql PERSIST economies;"
   ]
  },
  {
   "cell_type": "code",
   "execution_count": 14,
   "metadata": {},
   "outputs": [
    {
     "name": "stdout",
     "output_type": "stream",
     "text": [
      " * sqlite://\n",
      "Done.\n"
     ]
    },
    {
     "data": {
      "text/html": [
       "<table>\n",
       "    <tr>\n",
       "        <th>country_code</th>\n",
       "        <th>country_name</th>\n",
       "        <th>year</th>\n",
       "        <th>inflation_rate</th>\n",
       "    </tr>\n",
       "    <tr>\n",
       "        <td>AFG</td>\n",
       "        <td>Afghanistan</td>\n",
       "        <td>2010</td>\n",
       "        <td>2.1790000000000003</td>\n",
       "    </tr>\n",
       "    <tr>\n",
       "        <td>AFG</td>\n",
       "        <td>Afghanistan</td>\n",
       "        <td>2015</td>\n",
       "        <td>-1.5490000000000002</td>\n",
       "    </tr>\n",
       "    <tr>\n",
       "        <td>NLD</td>\n",
       "        <td>Netherlands</td>\n",
       "        <td>2010</td>\n",
       "        <td>0.932</td>\n",
       "    </tr>\n",
       "    <tr>\n",
       "        <td>NLD</td>\n",
       "        <td>Netherlands</td>\n",
       "        <td>2015</td>\n",
       "        <td>0.22</td>\n",
       "    </tr>\n",
       "    <tr>\n",
       "        <td>ALB</td>\n",
       "        <td>Albania</td>\n",
       "        <td>2010</td>\n",
       "        <td>3.605</td>\n",
       "    </tr>\n",
       "</table>"
      ],
      "text/plain": [
       "[('AFG', 'Afghanistan', 2010, 2.1790000000000003),\n",
       " ('AFG', 'Afghanistan', 2015, -1.5490000000000002),\n",
       " ('NLD', 'Netherlands', 2010, 0.932),\n",
       " ('NLD', 'Netherlands', 2015, 0.22),\n",
       " ('ALB', 'Albania', 2010, 3.605)]"
      ]
     },
     "execution_count": 14,
     "metadata": {},
     "output_type": "execute_result"
    }
   ],
   "source": [
    "%%sql\n",
    "-- 3. Select fields with aliases\n",
    "SELECT c.code AS country_code, country_name, year, inflation_rate\n",
    "    FROM countries AS c\n",
    "    -- 1. Join to economies (alias e)\n",
    "    INNER JOIN economies AS e\n",
    "    -- 2. Match on code\n",
    "    ON c.code = e.code\n",
    "    LIMIT 5;"
   ]
  },
  {
   "cell_type": "code",
   "execution_count": 15,
   "metadata": {},
   "outputs": [
    {
     "data": {
      "text/html": [
       "<div>\n",
       "<style scoped>\n",
       "    .dataframe tbody tr th:only-of-type {\n",
       "        vertical-align: middle;\n",
       "    }\n",
       "\n",
       "    .dataframe tbody tr th {\n",
       "        vertical-align: top;\n",
       "    }\n",
       "\n",
       "    .dataframe thead th {\n",
       "        text-align: right;\n",
       "    }\n",
       "</style>\n",
       "<table border=\"1\" class=\"dataframe\">\n",
       "  <thead>\n",
       "    <tr style=\"text-align: right;\">\n",
       "      <th></th>\n",
       "      <th>pop_id</th>\n",
       "      <th>country_code</th>\n",
       "      <th>year</th>\n",
       "      <th>fertility_rate</th>\n",
       "      <th>life_expectancy</th>\n",
       "      <th>size</th>\n",
       "    </tr>\n",
       "  </thead>\n",
       "  <tbody>\n",
       "    <tr>\n",
       "      <th>0</th>\n",
       "      <td>20</td>\n",
       "      <td>ABW</td>\n",
       "      <td>2010</td>\n",
       "      <td>1.704</td>\n",
       "      <td>74.953537</td>\n",
       "      <td>101597.0</td>\n",
       "    </tr>\n",
       "    <tr>\n",
       "      <th>1</th>\n",
       "      <td>19</td>\n",
       "      <td>ABW</td>\n",
       "      <td>2015</td>\n",
       "      <td>1.647</td>\n",
       "      <td>75.573585</td>\n",
       "      <td>103889.0</td>\n",
       "    </tr>\n",
       "    <tr>\n",
       "      <th>2</th>\n",
       "      <td>2</td>\n",
       "      <td>AFG</td>\n",
       "      <td>2010</td>\n",
       "      <td>5.746</td>\n",
       "      <td>58.970829</td>\n",
       "      <td>27962207.0</td>\n",
       "    </tr>\n",
       "    <tr>\n",
       "      <th>3</th>\n",
       "      <td>1</td>\n",
       "      <td>AFG</td>\n",
       "      <td>2015</td>\n",
       "      <td>4.653</td>\n",
       "      <td>60.717171</td>\n",
       "      <td>32526562.0</td>\n",
       "    </tr>\n",
       "    <tr>\n",
       "      <th>4</th>\n",
       "      <td>12</td>\n",
       "      <td>AGO</td>\n",
       "      <td>2010</td>\n",
       "      <td>6.416</td>\n",
       "      <td>50.654171</td>\n",
       "      <td>21219954.0</td>\n",
       "    </tr>\n",
       "  </tbody>\n",
       "</table>\n",
       "</div>"
      ],
      "text/plain": [
       "   pop_id country_code  year  fertility_rate  life_expectancy        size\n",
       "0      20          ABW  2010           1.704        74.953537    101597.0\n",
       "1      19          ABW  2015           1.647        75.573585    103889.0\n",
       "2       2          AFG  2010           5.746        58.970829  27962207.0\n",
       "3       1          AFG  2015           4.653        60.717171  32526562.0\n",
       "4      12          AGO  2010           6.416        50.654171  21219954.0"
      ]
     },
     "execution_count": 15,
     "metadata": {},
     "output_type": "execute_result"
    }
   ],
   "source": [
    "populations = pd.read_csv(\"datasets/countries/populations.csv\")\n",
    "populations.head()"
   ]
  },
  {
   "cell_type": "code",
   "execution_count": 16,
   "metadata": {},
   "outputs": [
    {
     "name": "stdout",
     "output_type": "stream",
     "text": [
      " * sqlite://\n",
      "Done.\n",
      " * sqlite://\n"
     ]
    },
    {
     "data": {
      "text/plain": [
       "'Persisted populations'"
      ]
     },
     "execution_count": 16,
     "metadata": {},
     "output_type": "execute_result"
    }
   ],
   "source": [
    "%sql DROP TABLE IF EXISTS populations;\n",
    "%sql PERSIST populations;"
   ]
  },
  {
   "cell_type": "markdown",
   "metadata": {},
   "source": [
    "Now, for each country, we want to get the country name, its region, and the fertility rate and unemployment rate for both 2010 and 2015."
   ]
  },
  {
   "cell_type": "code",
   "execution_count": 17,
   "metadata": {},
   "outputs": [
    {
     "name": "stdout",
     "output_type": "stream",
     "text": [
      " * sqlite://\n",
      "Done.\n"
     ]
    },
    {
     "data": {
      "text/html": [
       "<table>\n",
       "    <tr>\n",
       "        <th>code</th>\n",
       "        <th>country_name</th>\n",
       "        <th>region</th>\n",
       "        <th>year</th>\n",
       "        <th>fertility_rate</th>\n",
       "    </tr>\n",
       "    <tr>\n",
       "        <td>AFG</td>\n",
       "        <td>Afghanistan</td>\n",
       "        <td>Southern and Central Asia</td>\n",
       "        <td>2010</td>\n",
       "        <td>5.746</td>\n",
       "    </tr>\n",
       "    <tr>\n",
       "        <td>AFG</td>\n",
       "        <td>Afghanistan</td>\n",
       "        <td>Southern and Central Asia</td>\n",
       "        <td>2015</td>\n",
       "        <td>4.6530000000000005</td>\n",
       "    </tr>\n",
       "    <tr>\n",
       "        <td>NLD</td>\n",
       "        <td>Netherlands</td>\n",
       "        <td>Western Europe</td>\n",
       "        <td>2010</td>\n",
       "        <td>1.79</td>\n",
       "    </tr>\n",
       "    <tr>\n",
       "        <td>NLD</td>\n",
       "        <td>Netherlands</td>\n",
       "        <td>Western Europe</td>\n",
       "        <td>2015</td>\n",
       "        <td>1.71</td>\n",
       "    </tr>\n",
       "    <tr>\n",
       "        <td>ALB</td>\n",
       "        <td>Albania</td>\n",
       "        <td>Southern Europe</td>\n",
       "        <td>2010</td>\n",
       "        <td>1.663</td>\n",
       "    </tr>\n",
       "</table>"
      ],
      "text/plain": [
       "[('AFG', 'Afghanistan', 'Southern and Central Asia', 2010, 5.746),\n",
       " ('AFG', 'Afghanistan', 'Southern and Central Asia', 2015, 4.6530000000000005),\n",
       " ('NLD', 'Netherlands', 'Western Europe', 2010, 1.79),\n",
       " ('NLD', 'Netherlands', 'Western Europe', 2015, 1.71),\n",
       " ('ALB', 'Albania', 'Southern Europe', 2010, 1.663)]"
      ]
     },
     "execution_count": 17,
     "metadata": {},
     "output_type": "execute_result"
    }
   ],
   "source": [
    "%%sql\n",
    "-- 4. Select fields\n",
    "SELECT code, country_name, region, year, fertility_rate\n",
    "    -- 1. From countries (alias as c)\n",
    "    FROM countries as c\n",
    "    -- 2. Join with populations (as p)\n",
    "    INNER JOIN populations as p\n",
    "    -- 3. Match on country code\n",
    "    ON code = country_code\n",
    "    LIMIT 5;"
   ]
  },
  {
   "cell_type": "code",
   "execution_count": 18,
   "metadata": {},
   "outputs": [
    {
     "name": "stdout",
     "output_type": "stream",
     "text": [
      " * sqlite://\n",
      "Done.\n"
     ]
    },
    {
     "data": {
      "text/html": [
       "<table>\n",
       "    <tr>\n",
       "        <th>code</th>\n",
       "        <th>country_name</th>\n",
       "        <th>region</th>\n",
       "        <th>year</th>\n",
       "        <th>fertility_rate</th>\n",
       "        <th>unemployment_rate</th>\n",
       "    </tr>\n",
       "    <tr>\n",
       "        <td>AFG</td>\n",
       "        <td>Afghanistan</td>\n",
       "        <td>Southern and Central Asia</td>\n",
       "        <td>2010</td>\n",
       "        <td>4.6530000000000005</td>\n",
       "        <td>None</td>\n",
       "    </tr>\n",
       "    <tr>\n",
       "        <td>AFG</td>\n",
       "        <td>Afghanistan</td>\n",
       "        <td>Southern and Central Asia</td>\n",
       "        <td>2015</td>\n",
       "        <td>4.6530000000000005</td>\n",
       "        <td>None</td>\n",
       "    </tr>\n",
       "    <tr>\n",
       "        <td>AFG</td>\n",
       "        <td>Afghanistan</td>\n",
       "        <td>Southern and Central Asia</td>\n",
       "        <td>2010</td>\n",
       "        <td>5.746</td>\n",
       "        <td>None</td>\n",
       "    </tr>\n",
       "    <tr>\n",
       "        <td>AFG</td>\n",
       "        <td>Afghanistan</td>\n",
       "        <td>Southern and Central Asia</td>\n",
       "        <td>2015</td>\n",
       "        <td>5.746</td>\n",
       "        <td>None</td>\n",
       "    </tr>\n",
       "    <tr>\n",
       "        <td>NLD</td>\n",
       "        <td>Netherlands</td>\n",
       "        <td>Western Europe</td>\n",
       "        <td>2010</td>\n",
       "        <td>1.71</td>\n",
       "        <td>4.995</td>\n",
       "    </tr>\n",
       "</table>"
      ],
      "text/plain": [
       "[('AFG', 'Afghanistan', 'Southern and Central Asia', 2010, 4.6530000000000005, None),\n",
       " ('AFG', 'Afghanistan', 'Southern and Central Asia', 2015, 4.6530000000000005, None),\n",
       " ('AFG', 'Afghanistan', 'Southern and Central Asia', 2010, 5.746, None),\n",
       " ('AFG', 'Afghanistan', 'Southern and Central Asia', 2015, 5.746, None),\n",
       " ('NLD', 'Netherlands', 'Western Europe', 2010, 1.71, 4.995)]"
      ]
     },
     "execution_count": 18,
     "metadata": {},
     "output_type": "execute_result"
    }
   ],
   "source": [
    "%%sql\n",
    "-- 6. Select fields\n",
    "SELECT c.code, country_name, region, e.year, fertility_rate, unemployment_rate\n",
    "    -- 1. From countries (alias as c)\n",
    "    FROM countries AS c\n",
    "    -- 2. Join to populations (as p)\n",
    "    INNER JOIN populations AS p\n",
    "    -- 3. Match on country code\n",
    "    ON c.code = p.country_code\n",
    "    -- 4. Join to economies (as e)\n",
    "    INNER JOIN economies as e\n",
    "    -- 5. Match on country code\n",
    "    ON c.code = e.code\n",
    "    LIMIT 5;"
   ]
  },
  {
   "cell_type": "code",
   "execution_count": 19,
   "metadata": {},
   "outputs": [
    {
     "name": "stdout",
     "output_type": "stream",
     "text": [
      " * sqlite://\n",
      "Done.\n"
     ]
    },
    {
     "data": {
      "text/html": [
       "<table>\n",
       "    <tr>\n",
       "        <th>code</th>\n",
       "        <th>country_name</th>\n",
       "        <th>region</th>\n",
       "        <th>year</th>\n",
       "        <th>fertility_rate</th>\n",
       "        <th>unemployment_rate</th>\n",
       "    </tr>\n",
       "    <tr>\n",
       "        <td>AFG</td>\n",
       "        <td>Afghanistan</td>\n",
       "        <td>Southern and Central Asia</td>\n",
       "        <td>2010</td>\n",
       "        <td>5.746</td>\n",
       "        <td>None</td>\n",
       "    </tr>\n",
       "    <tr>\n",
       "        <td>AFG</td>\n",
       "        <td>Afghanistan</td>\n",
       "        <td>Southern and Central Asia</td>\n",
       "        <td>2015</td>\n",
       "        <td>4.6530000000000005</td>\n",
       "        <td>None</td>\n",
       "    </tr>\n",
       "    <tr>\n",
       "        <td>NLD</td>\n",
       "        <td>Netherlands</td>\n",
       "        <td>Western Europe</td>\n",
       "        <td>2010</td>\n",
       "        <td>1.79</td>\n",
       "        <td>4.995</td>\n",
       "    </tr>\n",
       "    <tr>\n",
       "        <td>NLD</td>\n",
       "        <td>Netherlands</td>\n",
       "        <td>Western Europe</td>\n",
       "        <td>2015</td>\n",
       "        <td>1.71</td>\n",
       "        <td>6.891</td>\n",
       "    </tr>\n",
       "    <tr>\n",
       "        <td>ALB</td>\n",
       "        <td>Albania</td>\n",
       "        <td>Southern Europe</td>\n",
       "        <td>2010</td>\n",
       "        <td>1.663</td>\n",
       "        <td>14.0</td>\n",
       "    </tr>\n",
       "</table>"
      ],
      "text/plain": [
       "[('AFG', 'Afghanistan', 'Southern and Central Asia', 2010, 5.746, None),\n",
       " ('AFG', 'Afghanistan', 'Southern and Central Asia', 2015, 4.6530000000000005, None),\n",
       " ('NLD', 'Netherlands', 'Western Europe', 2010, 1.79, 4.995),\n",
       " ('NLD', 'Netherlands', 'Western Europe', 2015, 1.71, 6.891),\n",
       " ('ALB', 'Albania', 'Southern Europe', 2010, 1.663, 14.0)]"
      ]
     },
     "execution_count": 19,
     "metadata": {},
     "output_type": "execute_result"
    }
   ],
   "source": [
    "%%sql\n",
    "-- 6. Select fields\n",
    "SELECT c.code, country_name, region, e.year, fertility_rate, unemployment_rate\n",
    "    -- 1. From countries (alias as c)\n",
    "    FROM countries AS c\n",
    "    -- 2. Join to populations (as p)\n",
    "    INNER JOIN populations AS p\n",
    "    -- 3. Match on country code\n",
    "    ON c.code = p.country_code\n",
    "     -- 4. Join to economies (as e)\n",
    "    INNER JOIN economies AS e\n",
    "    -- 5. Match on country code and year\n",
    "    ON c.code = e.code AND e.year=p.year\n",
    "    LIMIT 5;"
   ]
  },
  {
   "cell_type": "markdown",
   "metadata": {},
   "source": [
    "## INNER JOIN via USING\n"
   ]
  },
  {
   "cell_type": "markdown",
   "metadata": {},
   "source": [
    "`INNER JOIN `requires a specification of the key field (or fields) in each table."
   ]
  },
  {
   "cell_type": "markdown",
   "metadata": {},
   "source": [
    "When joining tables with a common field name You can use `USING` as a shortcut"
   ]
  },
  {
   "cell_type": "code",
   "execution_count": 20,
   "metadata": {},
   "outputs": [
    {
     "name": "stdout",
     "output_type": "stream",
     "text": [
      " * sqlite://\n",
      "Done.\n",
      " * sqlite://\n"
     ]
    },
    {
     "data": {
      "text/plain": [
       "'Persisted countries'"
      ]
     },
     "execution_count": 20,
     "metadata": {},
     "output_type": "execute_result"
    }
   ],
   "source": [
    "countries.rename(columns={\"country_name\":\"name\"}, inplace=True)\n",
    "%sql DROP TABLE IF EXISTS countries;\n",
    "%sql PERSIST countries; "
   ]
  },
  {
   "cell_type": "code",
   "execution_count": 21,
   "metadata": {},
   "outputs": [
    {
     "data": {
      "text/html": [
       "<div>\n",
       "<style scoped>\n",
       "    .dataframe tbody tr th:only-of-type {\n",
       "        vertical-align: middle;\n",
       "    }\n",
       "\n",
       "    .dataframe tbody tr th {\n",
       "        vertical-align: top;\n",
       "    }\n",
       "\n",
       "    .dataframe thead th {\n",
       "        text-align: right;\n",
       "    }\n",
       "</style>\n",
       "<table border=\"1\" class=\"dataframe\">\n",
       "  <thead>\n",
       "    <tr style=\"text-align: right;\">\n",
       "      <th></th>\n",
       "      <th>lang_id</th>\n",
       "      <th>code</th>\n",
       "      <th>name</th>\n",
       "      <th>percent</th>\n",
       "      <th>official</th>\n",
       "    </tr>\n",
       "  </thead>\n",
       "  <tbody>\n",
       "    <tr>\n",
       "      <th>0</th>\n",
       "      <td>1</td>\n",
       "      <td>AFG</td>\n",
       "      <td>Dari</td>\n",
       "      <td>50.0</td>\n",
       "      <td>True</td>\n",
       "    </tr>\n",
       "    <tr>\n",
       "      <th>1</th>\n",
       "      <td>2</td>\n",
       "      <td>AFG</td>\n",
       "      <td>Pashto</td>\n",
       "      <td>35.0</td>\n",
       "      <td>True</td>\n",
       "    </tr>\n",
       "    <tr>\n",
       "      <th>2</th>\n",
       "      <td>3</td>\n",
       "      <td>AFG</td>\n",
       "      <td>Turkic</td>\n",
       "      <td>11.0</td>\n",
       "      <td>False</td>\n",
       "    </tr>\n",
       "    <tr>\n",
       "      <th>3</th>\n",
       "      <td>4</td>\n",
       "      <td>AFG</td>\n",
       "      <td>Other</td>\n",
       "      <td>4.0</td>\n",
       "      <td>False</td>\n",
       "    </tr>\n",
       "    <tr>\n",
       "      <th>4</th>\n",
       "      <td>5</td>\n",
       "      <td>ALB</td>\n",
       "      <td>Albanian</td>\n",
       "      <td>98.8</td>\n",
       "      <td>True</td>\n",
       "    </tr>\n",
       "  </tbody>\n",
       "</table>\n",
       "</div>"
      ],
      "text/plain": [
       "   lang_id code      name  percent  official\n",
       "0        1  AFG      Dari     50.0      True\n",
       "1        2  AFG    Pashto     35.0      True\n",
       "2        3  AFG    Turkic     11.0     False\n",
       "3        4  AFG     Other      4.0     False\n",
       "4        5  ALB  Albanian     98.8      True"
      ]
     },
     "execution_count": 21,
     "metadata": {},
     "output_type": "execute_result"
    }
   ],
   "source": [
    "languages = pd.read_csv(\"datasets/countries/languages.csv\")\n",
    "languages.head()"
   ]
  },
  {
   "cell_type": "code",
   "execution_count": 22,
   "metadata": {},
   "outputs": [
    {
     "name": "stdout",
     "output_type": "stream",
     "text": [
      " * sqlite://\n",
      "Done.\n",
      " * sqlite://\n"
     ]
    },
    {
     "data": {
      "text/plain": [
       "'Persisted languages'"
      ]
     },
     "execution_count": 22,
     "metadata": {},
     "output_type": "execute_result"
    }
   ],
   "source": [
    "%sql DROP TABLE IF EXISTS languages;\n",
    "%sql PERSIST languages"
   ]
  },
  {
   "cell_type": "code",
   "execution_count": 23,
   "metadata": {},
   "outputs": [
    {
     "name": "stdout",
     "output_type": "stream",
     "text": [
      " * sqlite://\n",
      "Done.\n"
     ]
    },
    {
     "data": {
      "text/html": [
       "<table>\n",
       "    <tr>\n",
       "        <th>country</th>\n",
       "        <th>continent</th>\n",
       "        <th>language</th>\n",
       "        <th>official</th>\n",
       "    </tr>\n",
       "    <tr>\n",
       "        <td>Afghanistan</td>\n",
       "        <td>Asia</td>\n",
       "        <td>Dari</td>\n",
       "        <td>1</td>\n",
       "    </tr>\n",
       "    <tr>\n",
       "        <td>Afghanistan</td>\n",
       "        <td>Asia</td>\n",
       "        <td>Other</td>\n",
       "        <td>0</td>\n",
       "    </tr>\n",
       "    <tr>\n",
       "        <td>Afghanistan</td>\n",
       "        <td>Asia</td>\n",
       "        <td>Pashto</td>\n",
       "        <td>1</td>\n",
       "    </tr>\n",
       "    <tr>\n",
       "        <td>Afghanistan</td>\n",
       "        <td>Asia</td>\n",
       "        <td>Turkic</td>\n",
       "        <td>0</td>\n",
       "    </tr>\n",
       "    <tr>\n",
       "        <td>Netherlands</td>\n",
       "        <td>Europe</td>\n",
       "        <td>Dutch</td>\n",
       "        <td>1</td>\n",
       "    </tr>\n",
       "</table>"
      ],
      "text/plain": [
       "[('Afghanistan', 'Asia', 'Dari', 1),\n",
       " ('Afghanistan', 'Asia', 'Other', 0),\n",
       " ('Afghanistan', 'Asia', 'Pashto', 1),\n",
       " ('Afghanistan', 'Asia', 'Turkic', 0),\n",
       " ('Netherlands', 'Europe', 'Dutch', 1)]"
      ]
     },
     "execution_count": 23,
     "metadata": {},
     "output_type": "execute_result"
    }
   ],
   "source": [
    "%%sql\n",
    "-- 4. Select fields\n",
    "SELECT c.name AS country, continent, l.name AS language, official\n",
    "  -- 1. From countries (alias as c)\n",
    "  FROM countries c\n",
    "  -- 2. Join to languages (as l)\n",
    "  INNER JOIN languages l\n",
    "    -- 3. Match using code\n",
    "    USING(code)\n",
    "    LIMIT 5;"
   ]
  },
  {
   "cell_type": "markdown",
   "metadata": {},
   "source": [
    "## Self-ish joins, just in CASE\n"
   ]
  },
  {
   "cell_type": "markdown",
   "metadata": {},
   "source": [
    "### Join prime_ministers to itself?"
   ]
  },
  {
   "cell_type": "code",
   "execution_count": 24,
   "metadata": {},
   "outputs": [
    {
     "name": "stdout",
     "output_type": "stream",
     "text": [
      " * sqlite://\n",
      "Done.\n"
     ]
    },
    {
     "data": {
      "text/html": [
       "<table>\n",
       "    <tr>\n",
       "        <th>country1</th>\n",
       "        <th>country2</th>\n",
       "        <th>continent</th>\n",
       "    </tr>\n",
       "    <tr>\n",
       "        <td>Portugal</td>\n",
       "        <td>Norway</td>\n",
       "        <td>Europe</td>\n",
       "    </tr>\n",
       "    <tr>\n",
       "        <td>Portugal</td>\n",
       "        <td>Spain</td>\n",
       "        <td>Europe</td>\n",
       "    </tr>\n",
       "    <tr>\n",
       "        <td>Vietnam</td>\n",
       "        <td>Brunei</td>\n",
       "        <td>Asia</td>\n",
       "    </tr>\n",
       "    <tr>\n",
       "        <td>Vietnam</td>\n",
       "        <td>India</td>\n",
       "        <td>Asia</td>\n",
       "    </tr>\n",
       "    <tr>\n",
       "        <td>Vietnam</td>\n",
       "        <td>Oman</td>\n",
       "        <td>Asia</td>\n",
       "    </tr>\n",
       "</table>"
      ],
      "text/plain": [
       "[('Portugal', 'Norway', 'Europe'),\n",
       " ('Portugal', 'Spain', 'Europe'),\n",
       " ('Vietnam', 'Brunei', 'Asia'),\n",
       " ('Vietnam', 'India', 'Asia'),\n",
       " ('Vietnam', 'Oman', 'Asia')]"
      ]
     },
     "execution_count": 24,
     "metadata": {},
     "output_type": "execute_result"
    }
   ],
   "source": [
    "%%sql\n",
    "SELECT p1.country country1, p2.country country2, p1.continent\n",
    "    FROM prime_ministers p1\n",
    "    INNER JOIN prime_ministers p2\n",
    "    ON p1.continent=p2.continent AND p1.country<>p2.country\n",
    "    LIMIT(5)"
   ]
  },
  {
   "cell_type": "markdown",
   "metadata": {},
   "source": [
    "### Creating indep_year_group in states"
   ]
  },
  {
   "cell_type": "code",
   "execution_count": 25,
   "metadata": {},
   "outputs": [
    {
     "data": {
      "text/html": [
       "<div>\n",
       "<style scoped>\n",
       "    .dataframe tbody tr th:only-of-type {\n",
       "        vertical-align: middle;\n",
       "    }\n",
       "\n",
       "    .dataframe tbody tr th {\n",
       "        vertical-align: top;\n",
       "    }\n",
       "\n",
       "    .dataframe thead th {\n",
       "        text-align: right;\n",
       "    }\n",
       "</style>\n",
       "<table border=\"1\" class=\"dataframe\">\n",
       "  <thead>\n",
       "    <tr style=\"text-align: right;\">\n",
       "      <th></th>\n",
       "      <th>name</th>\n",
       "      <th>continent</th>\n",
       "      <th>indep_year</th>\n",
       "      <th>fert_rate</th>\n",
       "      <th>women_parli_perc</th>\n",
       "    </tr>\n",
       "  </thead>\n",
       "  <tbody>\n",
       "    <tr>\n",
       "      <th>0</th>\n",
       "      <td>Australia</td>\n",
       "      <td>Oceania</td>\n",
       "      <td>1901</td>\n",
       "      <td>1.88</td>\n",
       "      <td>32.74</td>\n",
       "    </tr>\n",
       "    <tr>\n",
       "      <th>1</th>\n",
       "      <td>Brunei</td>\n",
       "      <td>Asia</td>\n",
       "      <td>1984</td>\n",
       "      <td>1.96</td>\n",
       "      <td>6.06</td>\n",
       "    </tr>\n",
       "    <tr>\n",
       "      <th>2</th>\n",
       "      <td>Chile</td>\n",
       "      <td>South America</td>\n",
       "      <td>1810</td>\n",
       "      <td>1.80</td>\n",
       "      <td>15.82</td>\n",
       "    </tr>\n",
       "    <tr>\n",
       "      <th>3</th>\n",
       "      <td>Egypt</td>\n",
       "      <td>Africa</td>\n",
       "      <td>1922</td>\n",
       "      <td>2.70</td>\n",
       "      <td>14.90</td>\n",
       "    </tr>\n",
       "    <tr>\n",
       "      <th>4</th>\n",
       "      <td>Haiti</td>\n",
       "      <td>North America</td>\n",
       "      <td>1804</td>\n",
       "      <td>3.03</td>\n",
       "      <td>2.74</td>\n",
       "    </tr>\n",
       "  </tbody>\n",
       "</table>\n",
       "</div>"
      ],
      "text/plain": [
       "        name      continent  indep_year  fert_rate  women_parli_perc\n",
       "0  Australia        Oceania        1901       1.88             32.74\n",
       "1     Brunei           Asia        1984       1.96              6.06\n",
       "2      Chile  South America        1810       1.80             15.82\n",
       "3      Egypt         Africa        1922       2.70             14.90\n",
       "4      Haiti  North America        1804       3.03              2.74"
      ]
     },
     "execution_count": 25,
     "metadata": {},
     "output_type": "execute_result"
    }
   ],
   "source": [
    "states = pd.read_csv(\"datasets/leaders/states.csv\")\n",
    "states.head()"
   ]
  },
  {
   "cell_type": "code",
   "execution_count": 26,
   "metadata": {},
   "outputs": [
    {
     "name": "stdout",
     "output_type": "stream",
     "text": [
      " * sqlite://\n",
      "Done.\n",
      " * sqlite://\n"
     ]
    },
    {
     "data": {
      "text/plain": [
       "'Persisted states'"
      ]
     },
     "execution_count": 26,
     "metadata": {},
     "output_type": "execute_result"
    }
   ],
   "source": [
    "%sql DROP TABLE IF EXISTS states;\n",
    "%sql PERSIST states;"
   ]
  },
  {
   "cell_type": "code",
   "execution_count": 27,
   "metadata": {},
   "outputs": [
    {
     "name": "stdout",
     "output_type": "stream",
     "text": [
      " * sqlite://\n",
      "Done.\n"
     ]
    },
    {
     "data": {
      "text/html": [
       "<table>\n",
       "    <tr>\n",
       "        <th>name</th>\n",
       "        <th>continent</th>\n",
       "        <th>indep_year</th>\n",
       "        <th>indep_year_group</th>\n",
       "    </tr>\n",
       "    <tr>\n",
       "        <td>Brunei</td>\n",
       "        <td>Asia</td>\n",
       "        <td>1984</td>\n",
       "        <td>After 1930</td>\n",
       "    </tr>\n",
       "    <tr>\n",
       "        <td>India</td>\n",
       "        <td>Asia</td>\n",
       "        <td>1947</td>\n",
       "        <td>After 1930</td>\n",
       "    </tr>\n",
       "    <tr>\n",
       "        <td>Oman</td>\n",
       "        <td>Asia</td>\n",
       "        <td>1951</td>\n",
       "        <td>After 1930</td>\n",
       "    </tr>\n",
       "    <tr>\n",
       "        <td>Vietnam</td>\n",
       "        <td>Asia</td>\n",
       "        <td>1945</td>\n",
       "        <td>After 1930</td>\n",
       "    </tr>\n",
       "    <tr>\n",
       "        <td>Chile</td>\n",
       "        <td>South America</td>\n",
       "        <td>1810</td>\n",
       "        <td>Before 1900</td>\n",
       "    </tr>\n",
       "    <tr>\n",
       "        <td>Haiti</td>\n",
       "        <td>North America</td>\n",
       "        <td>1804</td>\n",
       "        <td>Before 1900</td>\n",
       "    </tr>\n",
       "    <tr>\n",
       "        <td>Liberia</td>\n",
       "        <td>Africa</td>\n",
       "        <td>1847</td>\n",
       "        <td>Before 1900</td>\n",
       "    </tr>\n",
       "    <tr>\n",
       "        <td>Portugal</td>\n",
       "        <td>Europe</td>\n",
       "        <td>1143</td>\n",
       "        <td>Before 1900</td>\n",
       "    </tr>\n",
       "    <tr>\n",
       "        <td>Spain</td>\n",
       "        <td>Europe</td>\n",
       "        <td>1492</td>\n",
       "        <td>Before 1900</td>\n",
       "    </tr>\n",
       "    <tr>\n",
       "        <td>Uruguay</td>\n",
       "        <td>South America</td>\n",
       "        <td>1828</td>\n",
       "        <td>Before 1900</td>\n",
       "    </tr>\n",
       "    <tr>\n",
       "        <td>Australia</td>\n",
       "        <td>Oceania</td>\n",
       "        <td>1901</td>\n",
       "        <td>Between 1900 AND 1930</td>\n",
       "    </tr>\n",
       "    <tr>\n",
       "        <td>Egypt</td>\n",
       "        <td>Africa</td>\n",
       "        <td>1922</td>\n",
       "        <td>Between 1900 AND 1930</td>\n",
       "    </tr>\n",
       "    <tr>\n",
       "        <td>Norway</td>\n",
       "        <td>Europe</td>\n",
       "        <td>1905</td>\n",
       "        <td>Between 1900 AND 1930</td>\n",
       "    </tr>\n",
       "</table>"
      ],
      "text/plain": [
       "[('Brunei', 'Asia', 1984, 'After 1930'),\n",
       " ('India', 'Asia', 1947, 'After 1930'),\n",
       " ('Oman', 'Asia', 1951, 'After 1930'),\n",
       " ('Vietnam', 'Asia', 1945, 'After 1930'),\n",
       " ('Chile', 'South America', 1810, 'Before 1900'),\n",
       " ('Haiti', 'North America', 1804, 'Before 1900'),\n",
       " ('Liberia', 'Africa', 1847, 'Before 1900'),\n",
       " ('Portugal', 'Europe', 1143, 'Before 1900'),\n",
       " ('Spain', 'Europe', 1492, 'Before 1900'),\n",
       " ('Uruguay', 'South America', 1828, 'Before 1900'),\n",
       " ('Australia', 'Oceania', 1901, 'Between 1900 AND 1930'),\n",
       " ('Egypt', 'Africa', 1922, 'Between 1900 AND 1930'),\n",
       " ('Norway', 'Europe', 1905, 'Between 1900 AND 1930')]"
      ]
     },
     "execution_count": 27,
     "metadata": {},
     "output_type": "execute_result"
    }
   ],
   "source": [
    "%%sql\n",
    "SELECT name, continent, indep_year,\n",
    "    CASE WHEN indep_year < 1900 THEN \"Before 1900\"\n",
    "        WHEN indep_year <= 1930 THEN \"Between 1900 AND 1930\"\n",
    "        ELSE \"After 1930\"\n",
    "    END AS indep_year_group\n",
    "    FROM states\n",
    "    ORDER BY indep_year_group\n",
    "    LIMIT 13;"
   ]
  },
  {
   "cell_type": "markdown",
   "metadata": {},
   "source": [
    "### Self-join\n",
    "\n",
    "We'll use the `populations` table to perform a self-join to calculate the percentage increase in population from 2010 to 2015 for each country code!\n",
    "\n",
    "Since we'll be joining the `populations` table to itself, We will alias `populations as p1` and also `populations as p2`. \n",
    "\n",
    "> Important: This is good practice whenever we are aliasing and tables have the same first letter.\n",
    "\n",
    "\n",
    "> Note: We are required to alias the tables with self-joins."
   ]
  },
  {
   "cell_type": "code",
   "execution_count": 28,
   "metadata": {},
   "outputs": [
    {
     "name": "stdout",
     "output_type": "stream",
     "text": [
      " * sqlite://\n",
      "Done.\n"
     ]
    },
    {
     "data": {
      "text/html": [
       "<table>\n",
       "    <tr>\n",
       "        <th>country_code</th>\n",
       "        <th>size2010</th>\n",
       "        <th>size2015</th>\n",
       "        <th>growth_perc</th>\n",
       "    </tr>\n",
       "    <tr>\n",
       "        <td>ABW</td>\n",
       "        <td>101597.0</td>\n",
       "        <td>103889.0</td>\n",
       "        <td>2.255972125161176</td>\n",
       "    </tr>\n",
       "    <tr>\n",
       "        <td>AFG</td>\n",
       "        <td>27962207.0</td>\n",
       "        <td>32526562.0</td>\n",
       "        <td>16.3233002316305</td>\n",
       "    </tr>\n",
       "    <tr>\n",
       "        <td>AGO</td>\n",
       "        <td>21219954.0</td>\n",
       "        <td>25021974.0</td>\n",
       "        <td>17.917192468937493</td>\n",
       "    </tr>\n",
       "    <tr>\n",
       "        <td>ALB</td>\n",
       "        <td>2913021.0</td>\n",
       "        <td>2889167.0</td>\n",
       "        <td>-0.8188749754979453</td>\n",
       "    </tr>\n",
       "    <tr>\n",
       "        <td>AND</td>\n",
       "        <td>84419.0</td>\n",
       "        <td>70473.0</td>\n",
       "        <td>-16.519977730131842</td>\n",
       "    </tr>\n",
       "</table>"
      ],
      "text/plain": [
       "[('ABW', 101597.0, 103889.0, 2.255972125161176),\n",
       " ('AFG', 27962207.0, 32526562.0, 16.3233002316305),\n",
       " ('AGO', 21219954.0, 25021974.0, 17.917192468937493),\n",
       " ('ALB', 2913021.0, 2889167.0, -0.8188749754979453),\n",
       " ('AND', 84419.0, 70473.0, -16.519977730131842)]"
      ]
     },
     "execution_count": 28,
     "metadata": {},
     "output_type": "execute_result"
    }
   ],
   "source": [
    "%%sql\n",
    "SELECT p1.country_code,\n",
    "       p1.size AS size2010, \n",
    "       p2.size AS size2015,\n",
    "       -- 1. calculate growth_perc\n",
    "       ((p2.size - p1.size)/p1.size * 100.0) AS growth_perc\n",
    "-- 2. From populations (alias as p1)\n",
    "FROM populations AS p1\n",
    "  -- 3. Join to itself (alias as p2)\n",
    "  INNER JOIN populations AS p2\n",
    "    -- 4. Match on country code\n",
    "    ON p1.country_code = p2.country_code\n",
    "        -- 5. and year (with calculation)\n",
    "        AND p1.year = p2.year - 5\n",
    "        LIMIT 5;"
   ]
  },
  {
   "cell_type": "markdown",
   "metadata": {},
   "source": [
    "### Case when and then\n",
    "\n",
    "Often it's useful to look at a numerical field not as raw data, but instead as being in different categories or groups.\n",
    "\n",
    "We can use `CASE` with `WHEN`, `THEN`, `ELSE`, and `END` to define a new grouping field."
   ]
  },
  {
   "cell_type": "code",
   "execution_count": 29,
   "metadata": {},
   "outputs": [
    {
     "name": "stdout",
     "output_type": "stream",
     "text": [
      " * sqlite://\n",
      "Done.\n"
     ]
    },
    {
     "data": {
      "text/plain": [
       "[]"
      ]
     },
     "execution_count": 29,
     "metadata": {},
     "output_type": "execute_result"
    }
   ],
   "source": [
    "%%sql\n",
    "CREATE TABLE countries_plus AS\n",
    "SELECT name, continent, code, surface_area,\n",
    "    -- 1. First case\n",
    "    CASE WHEN surface_area > 2000000 THEN 'large'\n",
    "        -- 2. Second case\n",
    "        WHEN surface_area > 350000 AND surface_area<=2000000 THEN \"medium\"\n",
    "        -- 3. Else clause + end\n",
    "        ELSE \"small\" END\n",
    "        -- 4. Alias name\n",
    "        AS geosize_group\n",
    "-- 5. From table\n",
    "FROM countries;"
   ]
  },
  {
   "cell_type": "code",
   "execution_count": 30,
   "metadata": {},
   "outputs": [
    {
     "name": "stdout",
     "output_type": "stream",
     "text": [
      " * sqlite://\n",
      "Done.\n"
     ]
    },
    {
     "data": {
      "text/html": [
       "<table>\n",
       "    <tr>\n",
       "        <th>name</th>\n",
       "        <th>continent</th>\n",
       "        <th>code</th>\n",
       "        <th>surface_area</th>\n",
       "        <th>geosize_group</th>\n",
       "    </tr>\n",
       "    <tr>\n",
       "        <td>Afghanistan</td>\n",
       "        <td>Asia</td>\n",
       "        <td>AFG</td>\n",
       "        <td>652090.0</td>\n",
       "        <td>medium</td>\n",
       "    </tr>\n",
       "    <tr>\n",
       "        <td>Netherlands</td>\n",
       "        <td>Europe</td>\n",
       "        <td>NLD</td>\n",
       "        <td>41526.0</td>\n",
       "        <td>small</td>\n",
       "    </tr>\n",
       "    <tr>\n",
       "        <td>Albania</td>\n",
       "        <td>Europe</td>\n",
       "        <td>ALB</td>\n",
       "        <td>28748.0</td>\n",
       "        <td>small</td>\n",
       "    </tr>\n",
       "    <tr>\n",
       "        <td>Algeria</td>\n",
       "        <td>Africa</td>\n",
       "        <td>DZA</td>\n",
       "        <td>2381740.0</td>\n",
       "        <td>large</td>\n",
       "    </tr>\n",
       "    <tr>\n",
       "        <td>American Samoa</td>\n",
       "        <td>Oceania</td>\n",
       "        <td>ASM</td>\n",
       "        <td>199.0</td>\n",
       "        <td>small</td>\n",
       "    </tr>\n",
       "</table>"
      ],
      "text/plain": [
       "[('Afghanistan', 'Asia', 'AFG', 652090.0, 'medium'),\n",
       " ('Netherlands', 'Europe', 'NLD', 41526.0, 'small'),\n",
       " ('Albania', 'Europe', 'ALB', 28748.0, 'small'),\n",
       " ('Algeria', 'Africa', 'DZA', 2381740.0, 'large'),\n",
       " ('American Samoa', 'Oceania', 'ASM', 199.0, 'small')]"
      ]
     },
     "execution_count": 30,
     "metadata": {},
     "output_type": "execute_result"
    }
   ],
   "source": [
    "%%sql\n",
    "SELECT * \n",
    "    FROM countries_plus\n",
    "    LIMIT 5;"
   ]
  },
  {
   "cell_type": "markdown",
   "metadata": {},
   "source": [
    "### Inner challenge\n",
    "\n",
    "We will now explore the relationship between the size of a country in terms of surface area and in terms of population using grouping fields created with CASE."
   ]
  },
  {
   "cell_type": "code",
   "execution_count": 31,
   "metadata": {},
   "outputs": [
    {
     "name": "stdout",
     "output_type": "stream",
     "text": [
      " * sqlite://\n",
      "Done.\n",
      "Done.\n"
     ]
    },
    {
     "data": {
      "text/html": [
       "<table>\n",
       "    <tr>\n",
       "        <th>country_code</th>\n",
       "        <th>size</th>\n",
       "        <th>popsize_group</th>\n",
       "    </tr>\n",
       "    <tr>\n",
       "        <td>ABW</td>\n",
       "        <td>103889.0</td>\n",
       "        <td>small</td>\n",
       "    </tr>\n",
       "    <tr>\n",
       "        <td>AFG</td>\n",
       "        <td>32526562.0</td>\n",
       "        <td>medium</td>\n",
       "    </tr>\n",
       "    <tr>\n",
       "        <td>AGO</td>\n",
       "        <td>25021974.0</td>\n",
       "        <td>medium</td>\n",
       "    </tr>\n",
       "    <tr>\n",
       "        <td>ALB</td>\n",
       "        <td>2889167.0</td>\n",
       "        <td>medium</td>\n",
       "    </tr>\n",
       "    <tr>\n",
       "        <td>AND</td>\n",
       "        <td>70473.0</td>\n",
       "        <td>small</td>\n",
       "    </tr>\n",
       "</table>"
      ],
      "text/plain": [
       "[('ABW', 103889.0, 'small'),\n",
       " ('AFG', 32526562.0, 'medium'),\n",
       " ('AGO', 25021974.0, 'medium'),\n",
       " ('ALB', 2889167.0, 'medium'),\n",
       " ('AND', 70473.0, 'small')]"
      ]
     },
     "execution_count": 31,
     "metadata": {},
     "output_type": "execute_result"
    }
   ],
   "source": [
    "%%sql\n",
    "CREATE TABLE pop_plus AS\n",
    "SELECT country_code, size,\n",
    "  CASE WHEN size > 50000000\n",
    "            THEN 'large'\n",
    "       WHEN size > 1000000\n",
    "            THEN 'medium'\n",
    "       ELSE 'small' END\n",
    "       AS popsize_group       \n",
    "FROM populations\n",
    "WHERE year = 2015;\n",
    "\n",
    "SELECT * FROM pop_plus\n",
    "    LIMIT 5;"
   ]
  },
  {
   "cell_type": "code",
   "execution_count": 32,
   "metadata": {},
   "outputs": [
    {
     "name": "stdout",
     "output_type": "stream",
     "text": [
      " * sqlite://\n",
      "Done.\n"
     ]
    },
    {
     "data": {
      "text/html": [
       "<table>\n",
       "    <tr>\n",
       "        <th>name</th>\n",
       "        <th>continent</th>\n",
       "        <th>geosize_group</th>\n",
       "        <th>popsize_group</th>\n",
       "    </tr>\n",
       "    <tr>\n",
       "        <td>Algeria</td>\n",
       "        <td>Africa</td>\n",
       "        <td>large</td>\n",
       "        <td>medium</td>\n",
       "    </tr>\n",
       "    <tr>\n",
       "        <td>Argentina</td>\n",
       "        <td>South America</td>\n",
       "        <td>large</td>\n",
       "        <td>medium</td>\n",
       "    </tr>\n",
       "    <tr>\n",
       "        <td>Australia</td>\n",
       "        <td>Oceania</td>\n",
       "        <td>large</td>\n",
       "        <td>medium</td>\n",
       "    </tr>\n",
       "    <tr>\n",
       "        <td>Brazil</td>\n",
       "        <td>South America</td>\n",
       "        <td>large</td>\n",
       "        <td>large</td>\n",
       "    </tr>\n",
       "    <tr>\n",
       "        <td>Greenland</td>\n",
       "        <td>North America</td>\n",
       "        <td>large</td>\n",
       "        <td>small</td>\n",
       "    </tr>\n",
       "</table>"
      ],
      "text/plain": [
       "[('Algeria', 'Africa', 'large', 'medium'),\n",
       " ('Argentina', 'South America', 'large', 'medium'),\n",
       " ('Australia', 'Oceania', 'large', 'medium'),\n",
       " ('Brazil', 'South America', 'large', 'large'),\n",
       " ('Greenland', 'North America', 'large', 'small')]"
      ]
     },
     "execution_count": 32,
     "metadata": {},
     "output_type": "execute_result"
    }
   ],
   "source": [
    "%%sql\n",
    "-- 5. Select fields\n",
    "SELECT name, continent, geosize_group, popsize_group\n",
    "-- 1. From countries_plus (alias as c)\n",
    "FROM countries_plus AS c\n",
    "  -- 2. Join to pop_plus (alias as p)\n",
    "  INNER JOIN pop_plus AS p\n",
    "    -- 3. Match on country code\n",
    "    ON c.code = p.country_code\n",
    "-- 4. Order the table    \n",
    "ORDER BY geosize_group\n",
    "LIMIT 5;"
   ]
  },
  {
   "cell_type": "markdown",
   "metadata": {},
   "source": [
    "# Outer joins and cross joins\n",
    "\n",
    "We'll come to grips with different kinds of outer joins. We'll explore how to gain further insights into our data through left joins, right joins, and full joins. In addition to outer joins, we'll also work with cross joins.\n",
    "\n"
   ]
  },
  {
   "cell_type": "markdown",
   "metadata": {},
   "source": [
    "## LEFT and RIGHT JOINs"
   ]
  },
  {
   "cell_type": "markdown",
   "metadata": {},
   "source": [
    "### The syntax of a LEFT JOIN"
   ]
  },
  {
   "cell_type": "code",
   "execution_count": 33,
   "metadata": {},
   "outputs": [
    {
     "name": "stdout",
     "output_type": "stream",
     "text": [
      " * sqlite://\n",
      "Done.\n"
     ]
    },
    {
     "data": {
      "text/html": [
       "<table>\n",
       "    <tr>\n",
       "        <th>country</th>\n",
       "        <th>prime_minister</th>\n",
       "        <th>president</th>\n",
       "    </tr>\n",
       "    <tr>\n",
       "        <td>Egypt</td>\n",
       "        <td>Sherif Ismail</td>\n",
       "        <td>Abdel Fattah el-Sisi</td>\n",
       "    </tr>\n",
       "    <tr>\n",
       "        <td>Portugal</td>\n",
       "        <td>Antonio Costa</td>\n",
       "        <td>Marcelo Rebelo de Sousa</td>\n",
       "    </tr>\n",
       "    <tr>\n",
       "        <td>Vietnam</td>\n",
       "        <td>Nguyen Xuan Phuc</td>\n",
       "        <td>Tran Dai Quang</td>\n",
       "    </tr>\n",
       "    <tr>\n",
       "        <td>Haiti</td>\n",
       "        <td>Jack Guy Lafontant</td>\n",
       "        <td>Jovenel Moise</td>\n",
       "    </tr>\n",
       "    <tr>\n",
       "        <td>India</td>\n",
       "        <td>Narendra Modi</td>\n",
       "        <td>None</td>\n",
       "    </tr>\n",
       "    <tr>\n",
       "        <td>Australia</td>\n",
       "        <td>Malcolm Turnbull</td>\n",
       "        <td>None</td>\n",
       "    </tr>\n",
       "    <tr>\n",
       "        <td>Norway</td>\n",
       "        <td>Erna Solberg</td>\n",
       "        <td>None</td>\n",
       "    </tr>\n",
       "    <tr>\n",
       "        <td>Brunei</td>\n",
       "        <td>Hassanal Bolkiah</td>\n",
       "        <td>None</td>\n",
       "    </tr>\n",
       "    <tr>\n",
       "        <td>Oman</td>\n",
       "        <td>Qaboos bin Said al Said</td>\n",
       "        <td>None</td>\n",
       "    </tr>\n",
       "    <tr>\n",
       "        <td>Spain</td>\n",
       "        <td>Mariano Rajoy</td>\n",
       "        <td>None</td>\n",
       "    </tr>\n",
       "</table>"
      ],
      "text/plain": [
       "[('Egypt', 'Sherif Ismail', 'Abdel Fattah el-Sisi'),\n",
       " ('Portugal', 'Antonio Costa', 'Marcelo Rebelo de Sousa'),\n",
       " ('Vietnam', 'Nguyen Xuan Phuc', 'Tran Dai Quang'),\n",
       " ('Haiti', 'Jack Guy Lafontant', 'Jovenel Moise'),\n",
       " ('India', 'Narendra Modi', None),\n",
       " ('Australia', 'Malcolm Turnbull', None),\n",
       " ('Norway', 'Erna Solberg', None),\n",
       " ('Brunei', 'Hassanal Bolkiah', None),\n",
       " ('Oman', 'Qaboos bin Said al Said', None),\n",
       " ('Spain', 'Mariano Rajoy', None)]"
      ]
     },
     "execution_count": 33,
     "metadata": {},
     "output_type": "execute_result"
    }
   ],
   "source": [
    "%%sql\n",
    "SELECT p1.country, prime_minister, president\n",
    "    FROM prime_ministers AS p1\n",
    "    LEFT JOIN presidents AS p2\n",
    "    ON p1.country = p2.country;"
   ]
  },
  {
   "cell_type": "markdown",
   "metadata": {},
   "source": [
    "### Left Join\n",
    "\n",
    "Now we'll explore the differences between performing an inner join and a left join using the `cities` and `countries` tables.\n",
    "\n",
    "We'll begin by performing an inner join with the `cities` table on the left and the `countries` table on the right.\n",
    "\n",
    "We will then change the query to a left join."
   ]
  },
  {
   "cell_type": "code",
   "execution_count": 34,
   "metadata": {},
   "outputs": [
    {
     "name": "stdout",
     "output_type": "stream",
     "text": [
      " * sqlite://\n",
      "Done.\n"
     ]
    },
    {
     "data": {
      "text/html": [
       "<table>\n",
       "    <tr>\n",
       "        <th>city</th>\n",
       "        <th>code</th>\n",
       "        <th>country</th>\n",
       "        <th>region</th>\n",
       "        <th>city_proper_pop</th>\n",
       "    </tr>\n",
       "    <tr>\n",
       "        <td>Harare</td>\n",
       "        <td>ZWE</td>\n",
       "        <td>Zimbabwe</td>\n",
       "        <td>Eastern Africa</td>\n",
       "        <td>1606000</td>\n",
       "    </tr>\n",
       "    <tr>\n",
       "        <td>Lusaka</td>\n",
       "        <td>ZMB</td>\n",
       "        <td>Zambia</td>\n",
       "        <td>Eastern Africa</td>\n",
       "        <td>1742979</td>\n",
       "    </tr>\n",
       "    <tr>\n",
       "        <td>Cape Town</td>\n",
       "        <td>ZAF</td>\n",
       "        <td>South Africa</td>\n",
       "        <td>Southern Africa</td>\n",
       "        <td>3740026</td>\n",
       "    </tr>\n",
       "    <tr>\n",
       "        <td>Durban</td>\n",
       "        <td>ZAF</td>\n",
       "        <td>South Africa</td>\n",
       "        <td>Southern Africa</td>\n",
       "        <td>3442361</td>\n",
       "    </tr>\n",
       "    <tr>\n",
       "        <td>Ekurhuleni</td>\n",
       "        <td>ZAF</td>\n",
       "        <td>South Africa</td>\n",
       "        <td>Southern Africa</td>\n",
       "        <td>3178470</td>\n",
       "    </tr>\n",
       "    <tr>\n",
       "        <td>Johannesburg</td>\n",
       "        <td>ZAF</td>\n",
       "        <td>South Africa</td>\n",
       "        <td>Southern Africa</td>\n",
       "        <td>4434827</td>\n",
       "    </tr>\n",
       "    <tr>\n",
       "        <td>Sana&#x27;a</td>\n",
       "        <td>YEM</td>\n",
       "        <td>Yemen</td>\n",
       "        <td>Middle East</td>\n",
       "        <td>1937451</td>\n",
       "    </tr>\n",
       "    <tr>\n",
       "        <td>Hanoi</td>\n",
       "        <td>VNM</td>\n",
       "        <td>Vietnam</td>\n",
       "        <td>Southeast Asia</td>\n",
       "        <td>6844100</td>\n",
       "    </tr>\n",
       "    <tr>\n",
       "        <td>Ho Chi Minh City</td>\n",
       "        <td>VNM</td>\n",
       "        <td>Vietnam</td>\n",
       "        <td>Southeast Asia</td>\n",
       "        <td>7681700</td>\n",
       "    </tr>\n",
       "    <tr>\n",
       "        <td>Caracas</td>\n",
       "        <td>VEN</td>\n",
       "        <td>Venezuela</td>\n",
       "        <td>South America</td>\n",
       "        <td>1943901</td>\n",
       "    </tr>\n",
       "</table>"
      ],
      "text/plain": [
       "[('Harare', 'ZWE', 'Zimbabwe', 'Eastern Africa', 1606000),\n",
       " ('Lusaka', 'ZMB', 'Zambia', 'Eastern Africa', 1742979),\n",
       " ('Cape Town', 'ZAF', 'South Africa', 'Southern Africa', 3740026),\n",
       " ('Durban', 'ZAF', 'South Africa', 'Southern Africa', 3442361),\n",
       " ('Ekurhuleni', 'ZAF', 'South Africa', 'Southern Africa', 3178470),\n",
       " ('Johannesburg', 'ZAF', 'South Africa', 'Southern Africa', 4434827),\n",
       " (\"Sana'a\", 'YEM', 'Yemen', 'Middle East', 1937451),\n",
       " ('Hanoi', 'VNM', 'Vietnam', 'Southeast Asia', 6844100),\n",
       " ('Ho Chi Minh City', 'VNM', 'Vietnam', 'Southeast Asia', 7681700),\n",
       " ('Caracas', 'VEN', 'Venezuela', 'South America', 1943901)]"
      ]
     },
     "execution_count": 34,
     "metadata": {},
     "output_type": "execute_result"
    }
   ],
   "source": [
    "%%sql\n",
    "-- Select the city name (with alias), the country code,\n",
    "-- the country name (with alias), the region,\n",
    "-- and the city proper population\n",
    "SELECT c1.name AS city, code, c2.name AS country,\n",
    "       region, city_proper_pop\n",
    "-- From left table (with alias)\n",
    "FROM cities AS c1\n",
    "  -- Join to right table (with alias)\n",
    "  INNER JOIN countries AS c2\n",
    "    -- Match on country code\n",
    "    ON c1.country_code = c2.code\n",
    "-- Order by descending country code\n",
    "ORDER BY code DESC\n",
    "LIMIT 10;"
   ]
  },
  {
   "cell_type": "code",
   "execution_count": 35,
   "metadata": {},
   "outputs": [
    {
     "name": "stdout",
     "output_type": "stream",
     "text": [
      " * sqlite://\n",
      "Done.\n"
     ]
    },
    {
     "data": {
      "text/html": [
       "<table>\n",
       "    <tr>\n",
       "        <th>city</th>\n",
       "        <th>code</th>\n",
       "        <th>country</th>\n",
       "        <th>region</th>\n",
       "        <th>city_proper_pop</th>\n",
       "    </tr>\n",
       "    <tr>\n",
       "        <td>Harare</td>\n",
       "        <td>ZWE</td>\n",
       "        <td>Zimbabwe</td>\n",
       "        <td>Eastern Africa</td>\n",
       "        <td>1606000</td>\n",
       "    </tr>\n",
       "    <tr>\n",
       "        <td>Lusaka</td>\n",
       "        <td>ZMB</td>\n",
       "        <td>Zambia</td>\n",
       "        <td>Eastern Africa</td>\n",
       "        <td>1742979</td>\n",
       "    </tr>\n",
       "    <tr>\n",
       "        <td>Cape Town</td>\n",
       "        <td>ZAF</td>\n",
       "        <td>South Africa</td>\n",
       "        <td>Southern Africa</td>\n",
       "        <td>3740026</td>\n",
       "    </tr>\n",
       "    <tr>\n",
       "        <td>Durban</td>\n",
       "        <td>ZAF</td>\n",
       "        <td>South Africa</td>\n",
       "        <td>Southern Africa</td>\n",
       "        <td>3442361</td>\n",
       "    </tr>\n",
       "    <tr>\n",
       "        <td>Ekurhuleni</td>\n",
       "        <td>ZAF</td>\n",
       "        <td>South Africa</td>\n",
       "        <td>Southern Africa</td>\n",
       "        <td>3178470</td>\n",
       "    </tr>\n",
       "    <tr>\n",
       "        <td>Johannesburg</td>\n",
       "        <td>ZAF</td>\n",
       "        <td>South Africa</td>\n",
       "        <td>Southern Africa</td>\n",
       "        <td>4434827</td>\n",
       "    </tr>\n",
       "    <tr>\n",
       "        <td>Sana&#x27;a</td>\n",
       "        <td>YEM</td>\n",
       "        <td>Yemen</td>\n",
       "        <td>Middle East</td>\n",
       "        <td>1937451</td>\n",
       "    </tr>\n",
       "    <tr>\n",
       "        <td>Hanoi</td>\n",
       "        <td>VNM</td>\n",
       "        <td>Vietnam</td>\n",
       "        <td>Southeast Asia</td>\n",
       "        <td>6844100</td>\n",
       "    </tr>\n",
       "    <tr>\n",
       "        <td>Ho Chi Minh City</td>\n",
       "        <td>VNM</td>\n",
       "        <td>Vietnam</td>\n",
       "        <td>Southeast Asia</td>\n",
       "        <td>7681700</td>\n",
       "    </tr>\n",
       "    <tr>\n",
       "        <td>Caracas</td>\n",
       "        <td>VEN</td>\n",
       "        <td>Venezuela</td>\n",
       "        <td>South America</td>\n",
       "        <td>1943901</td>\n",
       "    </tr>\n",
       "</table>"
      ],
      "text/plain": [
       "[('Harare', 'ZWE', 'Zimbabwe', 'Eastern Africa', 1606000),\n",
       " ('Lusaka', 'ZMB', 'Zambia', 'Eastern Africa', 1742979),\n",
       " ('Cape Town', 'ZAF', 'South Africa', 'Southern Africa', 3740026),\n",
       " ('Durban', 'ZAF', 'South Africa', 'Southern Africa', 3442361),\n",
       " ('Ekurhuleni', 'ZAF', 'South Africa', 'Southern Africa', 3178470),\n",
       " ('Johannesburg', 'ZAF', 'South Africa', 'Southern Africa', 4434827),\n",
       " (\"Sana'a\", 'YEM', 'Yemen', 'Middle East', 1937451),\n",
       " ('Hanoi', 'VNM', 'Vietnam', 'Southeast Asia', 6844100),\n",
       " ('Ho Chi Minh City', 'VNM', 'Vietnam', 'Southeast Asia', 7681700),\n",
       " ('Caracas', 'VEN', 'Venezuela', 'South America', 1943901)]"
      ]
     },
     "execution_count": 35,
     "metadata": {},
     "output_type": "execute_result"
    }
   ],
   "source": [
    "%%sql\n",
    "SELECT c1.name AS city, code, c2.name AS country,\n",
    "       region, city_proper_pop\n",
    "FROM cities AS c1\n",
    "  -- 1. Join right table (with alias)\n",
    "  LEFT JOIN countries AS c2\n",
    "    -- 2. Match on country code\n",
    "    ON c1.country_code = c2.code\n",
    "-- 3. Order by descending country code\n",
    "ORDER BY code DESC\n",
    "LIMIT 10;"
   ]
  },
  {
   "cell_type": "markdown",
   "metadata": {},
   "source": [
    "> Note: The `INNER JOIN` version resulted in 230 records. The `LEFT JOIN` version returned 236 rows."
   ]
  },
  {
   "cell_type": "markdown",
   "metadata": {},
   "source": [
    "### Left join (2)\n",
    "Next, we'll try out another example comparing an inner join to its corresponding left join. \n",
    "\n",
    "We will begin with an inner join on the `countries` table on the left with the languages table on the right. Then we'll change the code to a left join in the next bullet.\n",
    "\n",
    "Note the use of multi-line comments here using /* and */"
   ]
  },
  {
   "cell_type": "code",
   "execution_count": 36,
   "metadata": {},
   "outputs": [
    {
     "name": "stdout",
     "output_type": "stream",
     "text": [
      " * sqlite://\n",
      "Done.\n"
     ]
    },
    {
     "data": {
      "text/html": [
       "<table>\n",
       "    <tr>\n",
       "        <th>country</th>\n",
       "        <th>local_name</th>\n",
       "        <th>language</th>\n",
       "        <th>percent</th>\n",
       "    </tr>\n",
       "    <tr>\n",
       "        <td>Zimbabwe</td>\n",
       "        <td>Zimbabwe</td>\n",
       "        <td>Chewa</td>\n",
       "        <td>None</td>\n",
       "    </tr>\n",
       "    <tr>\n",
       "        <td>Zimbabwe</td>\n",
       "        <td>Zimbabwe</td>\n",
       "        <td>Chibarwe</td>\n",
       "        <td>None</td>\n",
       "    </tr>\n",
       "    <tr>\n",
       "        <td>Zimbabwe</td>\n",
       "        <td>Zimbabwe</td>\n",
       "        <td>English</td>\n",
       "        <td>None</td>\n",
       "    </tr>\n",
       "    <tr>\n",
       "        <td>Zimbabwe</td>\n",
       "        <td>Zimbabwe</td>\n",
       "        <td>Kalanga</td>\n",
       "        <td>None</td>\n",
       "    </tr>\n",
       "    <tr>\n",
       "        <td>Zimbabwe</td>\n",
       "        <td>Zimbabwe</td>\n",
       "        <td>Koisan</td>\n",
       "        <td>None</td>\n",
       "    </tr>\n",
       "    <tr>\n",
       "        <td>Zimbabwe</td>\n",
       "        <td>Zimbabwe</td>\n",
       "        <td>Nambya</td>\n",
       "        <td>None</td>\n",
       "    </tr>\n",
       "    <tr>\n",
       "        <td>Zimbabwe</td>\n",
       "        <td>Zimbabwe</td>\n",
       "        <td>Ndau</td>\n",
       "        <td>None</td>\n",
       "    </tr>\n",
       "    <tr>\n",
       "        <td>Zimbabwe</td>\n",
       "        <td>Zimbabwe</td>\n",
       "        <td>Ndebele</td>\n",
       "        <td>None</td>\n",
       "    </tr>\n",
       "    <tr>\n",
       "        <td>Zimbabwe</td>\n",
       "        <td>Zimbabwe</td>\n",
       "        <td>Shangani</td>\n",
       "        <td>None</td>\n",
       "    </tr>\n",
       "    <tr>\n",
       "        <td>Zimbabwe</td>\n",
       "        <td>Zimbabwe</td>\n",
       "        <td>Shona</td>\n",
       "        <td>None</td>\n",
       "    </tr>\n",
       "</table>"
      ],
      "text/plain": [
       "[('Zimbabwe', 'Zimbabwe', 'Chewa', None),\n",
       " ('Zimbabwe', 'Zimbabwe', 'Chibarwe', None),\n",
       " ('Zimbabwe', 'Zimbabwe', 'English', None),\n",
       " ('Zimbabwe', 'Zimbabwe', 'Kalanga', None),\n",
       " ('Zimbabwe', 'Zimbabwe', 'Koisan', None),\n",
       " ('Zimbabwe', 'Zimbabwe', 'Nambya', None),\n",
       " ('Zimbabwe', 'Zimbabwe', 'Ndau', None),\n",
       " ('Zimbabwe', 'Zimbabwe', 'Ndebele', None),\n",
       " ('Zimbabwe', 'Zimbabwe', 'Shangani', None),\n",
       " ('Zimbabwe', 'Zimbabwe', 'Shona', None)]"
      ]
     },
     "execution_count": 36,
     "metadata": {},
     "output_type": "execute_result"
    }
   ],
   "source": [
    "%%sql\n",
    "/*\n",
    "5. Select country name AS country, the country's local name,\n",
    "the language name AS language, and\n",
    "the percent of the language spoken in the country\n",
    "*/\n",
    "SELECT c.name AS country, local_name, l.name AS language, percent\n",
    "-- 1. From left table (alias as c)\n",
    "FROM countries AS c\n",
    "  -- 2. Join to right table (alias as l)\n",
    "  INNER JOIN languages AS l\n",
    "    -- 3. Match on fields\n",
    "    USING(code)\n",
    "-- 4. Order by descending country\n",
    "ORDER BY country DESC\n",
    "LIMIT 10;"
   ]
  },
  {
   "cell_type": "code",
   "execution_count": 37,
   "metadata": {},
   "outputs": [
    {
     "name": "stdout",
     "output_type": "stream",
     "text": [
      " * sqlite://\n",
      "Done.\n"
     ]
    },
    {
     "data": {
      "text/html": [
       "<table>\n",
       "    <tr>\n",
       "        <th>country</th>\n",
       "        <th>local_name</th>\n",
       "        <th>language</th>\n",
       "        <th>percent</th>\n",
       "    </tr>\n",
       "    <tr>\n",
       "        <td>Zimbabwe</td>\n",
       "        <td>Zimbabwe</td>\n",
       "        <td>Chewa</td>\n",
       "        <td>None</td>\n",
       "    </tr>\n",
       "    <tr>\n",
       "        <td>Zimbabwe</td>\n",
       "        <td>Zimbabwe</td>\n",
       "        <td>Chibarwe</td>\n",
       "        <td>None</td>\n",
       "    </tr>\n",
       "    <tr>\n",
       "        <td>Zimbabwe</td>\n",
       "        <td>Zimbabwe</td>\n",
       "        <td>English</td>\n",
       "        <td>None</td>\n",
       "    </tr>\n",
       "    <tr>\n",
       "        <td>Zimbabwe</td>\n",
       "        <td>Zimbabwe</td>\n",
       "        <td>Kalanga</td>\n",
       "        <td>None</td>\n",
       "    </tr>\n",
       "    <tr>\n",
       "        <td>Zimbabwe</td>\n",
       "        <td>Zimbabwe</td>\n",
       "        <td>Koisan</td>\n",
       "        <td>None</td>\n",
       "    </tr>\n",
       "    <tr>\n",
       "        <td>Zimbabwe</td>\n",
       "        <td>Zimbabwe</td>\n",
       "        <td>Nambya</td>\n",
       "        <td>None</td>\n",
       "    </tr>\n",
       "    <tr>\n",
       "        <td>Zimbabwe</td>\n",
       "        <td>Zimbabwe</td>\n",
       "        <td>Ndau</td>\n",
       "        <td>None</td>\n",
       "    </tr>\n",
       "    <tr>\n",
       "        <td>Zimbabwe</td>\n",
       "        <td>Zimbabwe</td>\n",
       "        <td>Ndebele</td>\n",
       "        <td>None</td>\n",
       "    </tr>\n",
       "    <tr>\n",
       "        <td>Zimbabwe</td>\n",
       "        <td>Zimbabwe</td>\n",
       "        <td>Shangani</td>\n",
       "        <td>None</td>\n",
       "    </tr>\n",
       "    <tr>\n",
       "        <td>Zimbabwe</td>\n",
       "        <td>Zimbabwe</td>\n",
       "        <td>Shona</td>\n",
       "        <td>None</td>\n",
       "    </tr>\n",
       "</table>"
      ],
      "text/plain": [
       "[('Zimbabwe', 'Zimbabwe', 'Chewa', None),\n",
       " ('Zimbabwe', 'Zimbabwe', 'Chibarwe', None),\n",
       " ('Zimbabwe', 'Zimbabwe', 'English', None),\n",
       " ('Zimbabwe', 'Zimbabwe', 'Kalanga', None),\n",
       " ('Zimbabwe', 'Zimbabwe', 'Koisan', None),\n",
       " ('Zimbabwe', 'Zimbabwe', 'Nambya', None),\n",
       " ('Zimbabwe', 'Zimbabwe', 'Ndau', None),\n",
       " ('Zimbabwe', 'Zimbabwe', 'Ndebele', None),\n",
       " ('Zimbabwe', 'Zimbabwe', 'Shangani', None),\n",
       " ('Zimbabwe', 'Zimbabwe', 'Shona', None)]"
      ]
     },
     "execution_count": 37,
     "metadata": {},
     "output_type": "execute_result"
    }
   ],
   "source": [
    "%%sql\n",
    "/*\n",
    "5. Select country name AS country, the country's local name,\n",
    "the language name AS language, and\n",
    "the percent of the language spoken in the country\n",
    "*/\n",
    "SELECT c.name AS country, local_name, l.name AS language, percent\n",
    "-- 1. From left table (alias as c)\n",
    "FROM countries AS c\n",
    "  -- 2. Join to right table (alias as l)\n",
    "  LEFT JOIN languages AS l\n",
    "    -- 3. Match on fields\n",
    "    USING(code)\n",
    "-- 4. Order by descending country\n",
    "ORDER BY country DESC\n",
    "LIMIT 10;"
   ]
  },
  {
   "cell_type": "markdown",
   "metadata": {},
   "source": [
    "> Note: The `INNER JOIN` version resulted in 909 records. The `LEFT JOIN` version returned 916 rows."
   ]
  },
  {
   "cell_type": "markdown",
   "metadata": {},
   "source": [
    "We will use `AVG()` in combination with left join to determine the average gross domestic product (GDP) per capita by region in 2010."
   ]
  },
  {
   "cell_type": "code",
   "execution_count": 38,
   "metadata": {},
   "outputs": [
    {
     "name": "stdout",
     "output_type": "stream",
     "text": [
      " * sqlite://\n",
      "Done.\n"
     ]
    },
    {
     "data": {
      "text/html": [
       "<table>\n",
       "    <tr>\n",
       "        <th>region</th>\n",
       "        <th>avg_gdp</th>\n",
       "    </tr>\n",
       "    <tr>\n",
       "        <td>Western Europe</td>\n",
       "        <td>58130.962857142855</td>\n",
       "    </tr>\n",
       "    <tr>\n",
       "        <td>Nordic Countries</td>\n",
       "        <td>57073.998</td>\n",
       "    </tr>\n",
       "    <tr>\n",
       "        <td>North America</td>\n",
       "        <td>47911.509999999995</td>\n",
       "    </tr>\n",
       "    <tr>\n",
       "        <td>Australia and New Zealand</td>\n",
       "        <td>44792.384999999995</td>\n",
       "    </tr>\n",
       "    <tr>\n",
       "        <td>British Islands</td>\n",
       "        <td>43588.33</td>\n",
       "    </tr>\n",
       "    <tr>\n",
       "        <td>Eastern Asia</td>\n",
       "        <td>26205.851666666666</td>\n",
       "    </tr>\n",
       "    <tr>\n",
       "        <td>Southern Europe</td>\n",
       "        <td>22926.410909090908</td>\n",
       "    </tr>\n",
       "    <tr>\n",
       "        <td>Middle East</td>\n",
       "        <td>18204.64176470588</td>\n",
       "    </tr>\n",
       "    <tr>\n",
       "        <td>Baltic Countries</td>\n",
       "        <td>12631.029999999999</td>\n",
       "    </tr>\n",
       "    <tr>\n",
       "        <td>Caribbean</td>\n",
       "        <td>11413.339461538462</td>\n",
       "    </tr>\n",
       "</table>"
      ],
      "text/plain": [
       "[('Western Europe', 58130.962857142855),\n",
       " ('Nordic Countries', 57073.998),\n",
       " ('North America', 47911.509999999995),\n",
       " ('Australia and New Zealand', 44792.384999999995),\n",
       " ('British Islands', 43588.33),\n",
       " ('Eastern Asia', 26205.851666666666),\n",
       " ('Southern Europe', 22926.410909090908),\n",
       " ('Middle East', 18204.64176470588),\n",
       " ('Baltic Countries', 12631.029999999999),\n",
       " ('Caribbean', 11413.339461538462)]"
      ]
     },
     "execution_count": 38,
     "metadata": {},
     "output_type": "execute_result"
    }
   ],
   "source": [
    "%%sql\n",
    "-- Select fields\n",
    "SELECT region, AVG(gdp_percapita) AS avg_gdp\n",
    "-- From countries (alias as c)\n",
    "FROM countries c\n",
    "  -- Left join with economies (alias as e)\n",
    "  LEFT JOIN economies e\n",
    "    -- Match on code fields\n",
    "    USING(code)\n",
    "-- Focus on 2010\n",
    "WHERE year = 2010\n",
    "-- Group by region\n",
    "GROUP BY region\n",
    "-- Order by descending avg_gdp\n",
    "ORDER BY avg_gdp DESC\n",
    "LIMIT 10;"
   ]
  },
  {
   "cell_type": "markdown",
   "metadata": {},
   "source": [
    "### Right join\n",
    "Right joins aren't as common as left joins. One reason why is that you can always write a right join as a left join."
   ]
  },
  {
   "cell_type": "code",
   "execution_count": 39,
   "metadata": {},
   "outputs": [
    {
     "name": "stdout",
     "output_type": "stream",
     "text": [
      " * sqlite://\n",
      "Done.\n"
     ]
    },
    {
     "data": {
      "text/html": [
       "<table>\n",
       "    <tr>\n",
       "        <th>city</th>\n",
       "        <th>urbanarea_pop</th>\n",
       "        <th>country</th>\n",
       "        <th>indep_year</th>\n",
       "        <th>language</th>\n",
       "        <th>percent</th>\n",
       "    </tr>\n",
       "    <tr>\n",
       "        <td>Abidjan</td>\n",
       "        <td>4765000</td>\n",
       "        <td>Cote d&#x27;Ivoire</td>\n",
       "        <td>1960.0</td>\n",
       "        <td>French</td>\n",
       "        <td>None</td>\n",
       "    </tr>\n",
       "    <tr>\n",
       "        <td>Abidjan</td>\n",
       "        <td>4765000</td>\n",
       "        <td>Cote d&#x27;Ivoire</td>\n",
       "        <td>1960.0</td>\n",
       "        <td>Other</td>\n",
       "        <td>None</td>\n",
       "    </tr>\n",
       "    <tr>\n",
       "        <td>Abu Dhabi</td>\n",
       "        <td>1145000</td>\n",
       "        <td>United Arab Emirates</td>\n",
       "        <td>1971.0</td>\n",
       "        <td>Arabic</td>\n",
       "        <td>None</td>\n",
       "    </tr>\n",
       "    <tr>\n",
       "        <td>Abu Dhabi</td>\n",
       "        <td>1145000</td>\n",
       "        <td>United Arab Emirates</td>\n",
       "        <td>1971.0</td>\n",
       "        <td>English</td>\n",
       "        <td>None</td>\n",
       "    </tr>\n",
       "    <tr>\n",
       "        <td>Abu Dhabi</td>\n",
       "        <td>1145000</td>\n",
       "        <td>United Arab Emirates</td>\n",
       "        <td>1971.0</td>\n",
       "        <td>Hindi</td>\n",
       "        <td>None</td>\n",
       "    </tr>\n",
       "    <tr>\n",
       "        <td>Abu Dhabi</td>\n",
       "        <td>1145000</td>\n",
       "        <td>United Arab Emirates</td>\n",
       "        <td>1971.0</td>\n",
       "        <td>Persian</td>\n",
       "        <td>None</td>\n",
       "    </tr>\n",
       "    <tr>\n",
       "        <td>Abu Dhabi</td>\n",
       "        <td>1145000</td>\n",
       "        <td>United Arab Emirates</td>\n",
       "        <td>1971.0</td>\n",
       "        <td>Urdu</td>\n",
       "        <td>None</td>\n",
       "    </tr>\n",
       "    <tr>\n",
       "        <td>Abuja</td>\n",
       "        <td>1235880</td>\n",
       "        <td>Nigeria</td>\n",
       "        <td>1960.0</td>\n",
       "        <td>English</td>\n",
       "        <td>None</td>\n",
       "    </tr>\n",
       "    <tr>\n",
       "        <td>Abuja</td>\n",
       "        <td>1235880</td>\n",
       "        <td>Nigeria</td>\n",
       "        <td>1960.0</td>\n",
       "        <td>Fulani</td>\n",
       "        <td>None</td>\n",
       "    </tr>\n",
       "    <tr>\n",
       "        <td>Abuja</td>\n",
       "        <td>1235880</td>\n",
       "        <td>Nigeria</td>\n",
       "        <td>1960.0</td>\n",
       "        <td>Hausa</td>\n",
       "        <td>None</td>\n",
       "    </tr>\n",
       "</table>"
      ],
      "text/plain": [
       "[('Abidjan', 4765000, \"Cote d'Ivoire\", 1960.0, 'French', None),\n",
       " ('Abidjan', 4765000, \"Cote d'Ivoire\", 1960.0, 'Other', None),\n",
       " ('Abu Dhabi', 1145000, 'United Arab Emirates', 1971.0, 'Arabic', None),\n",
       " ('Abu Dhabi', 1145000, 'United Arab Emirates', 1971.0, 'English', None),\n",
       " ('Abu Dhabi', 1145000, 'United Arab Emirates', 1971.0, 'Hindi', None),\n",
       " ('Abu Dhabi', 1145000, 'United Arab Emirates', 1971.0, 'Persian', None),\n",
       " ('Abu Dhabi', 1145000, 'United Arab Emirates', 1971.0, 'Urdu', None),\n",
       " ('Abuja', 1235880, 'Nigeria', 1960.0, 'English', None),\n",
       " ('Abuja', 1235880, 'Nigeria', 1960.0, 'Fulani', None),\n",
       " ('Abuja', 1235880, 'Nigeria', 1960.0, 'Hausa', None)]"
      ]
     },
     "execution_count": 39,
     "metadata": {},
     "output_type": "execute_result"
    }
   ],
   "source": [
    "%%sql\n",
    "SELECT cities.name AS city, urbanarea_pop, countries.name AS country,\n",
    "       indep_year, languages.name AS language, percent\n",
    "FROM cities\n",
    "  LEFT JOIN countries\n",
    "    ON cities.country_code = countries.code\n",
    "  LEFT JOIN languages\n",
    "    ON countries.code = languages.code\n",
    "ORDER BY city, language\n",
    "LIMIT 10;"
   ]
  },
  {
   "cell_type": "markdown",
   "metadata": {},
   "source": [
    "## FULL JOINs\n"
   ]
  },
  {
   "cell_type": "markdown",
   "metadata": {},
   "source": [
    "We'll examine how results differ when using a full join versus using a left join versus using an inner join with the `countries` and `currencies` tables.\n",
    "\n",
    "We will focus on the `North American` region and also where the name of the country is missing."
   ]
  },
  {
   "cell_type": "code",
   "execution_count": 41,
   "metadata": {},
   "outputs": [
    {
     "data": {
      "text/html": [
       "<div>\n",
       "<style scoped>\n",
       "    .dataframe tbody tr th:only-of-type {\n",
       "        vertical-align: middle;\n",
       "    }\n",
       "\n",
       "    .dataframe tbody tr th {\n",
       "        vertical-align: top;\n",
       "    }\n",
       "\n",
       "    .dataframe thead th {\n",
       "        text-align: right;\n",
       "    }\n",
       "</style>\n",
       "<table border=\"1\" class=\"dataframe\">\n",
       "  <thead>\n",
       "    <tr style=\"text-align: right;\">\n",
       "      <th></th>\n",
       "      <th>curr_id</th>\n",
       "      <th>code</th>\n",
       "      <th>basic_unit</th>\n",
       "      <th>curr_code</th>\n",
       "      <th>frac_unit</th>\n",
       "      <th>frac_perbasic</th>\n",
       "    </tr>\n",
       "  </thead>\n",
       "  <tbody>\n",
       "    <tr>\n",
       "      <th>0</th>\n",
       "      <td>1</td>\n",
       "      <td>AFG</td>\n",
       "      <td>Afghan afghani</td>\n",
       "      <td>AFN</td>\n",
       "      <td>Pul</td>\n",
       "      <td>100.0</td>\n",
       "    </tr>\n",
       "    <tr>\n",
       "      <th>1</th>\n",
       "      <td>2</td>\n",
       "      <td>ALB</td>\n",
       "      <td>Albanian lek</td>\n",
       "      <td>ALL</td>\n",
       "      <td>Qindarke</td>\n",
       "      <td>100.0</td>\n",
       "    </tr>\n",
       "    <tr>\n",
       "      <th>2</th>\n",
       "      <td>3</td>\n",
       "      <td>DZA</td>\n",
       "      <td>Algerian dinar</td>\n",
       "      <td>DZD</td>\n",
       "      <td>Santeem</td>\n",
       "      <td>100.0</td>\n",
       "    </tr>\n",
       "    <tr>\n",
       "      <th>3</th>\n",
       "      <td>4</td>\n",
       "      <td>AND</td>\n",
       "      <td>Euro</td>\n",
       "      <td>EUR</td>\n",
       "      <td>Cent</td>\n",
       "      <td>100.0</td>\n",
       "    </tr>\n",
       "    <tr>\n",
       "      <th>4</th>\n",
       "      <td>5</td>\n",
       "      <td>AGO</td>\n",
       "      <td>Angolan kwanza</td>\n",
       "      <td>AOA</td>\n",
       "      <td>Centimo</td>\n",
       "      <td>100.0</td>\n",
       "    </tr>\n",
       "  </tbody>\n",
       "</table>\n",
       "</div>"
      ],
      "text/plain": [
       "   curr_id code      basic_unit curr_code frac_unit  frac_perbasic\n",
       "0        1  AFG  Afghan afghani       AFN       Pul          100.0\n",
       "1        2  ALB    Albanian lek       ALL  Qindarke          100.0\n",
       "2        3  DZA  Algerian dinar       DZD   Santeem          100.0\n",
       "3        4  AND            Euro       EUR      Cent          100.0\n",
       "4        5  AGO  Angolan kwanza       AOA   Centimo          100.0"
      ]
     },
     "execution_count": 41,
     "metadata": {},
     "output_type": "execute_result"
    }
   ],
   "source": [
    "currencies = pd.read_csv(\"datasets/countries/currencies.csv\")\n",
    "currencies.head()"
   ]
  },
  {
   "cell_type": "code",
   "execution_count": 42,
   "metadata": {},
   "outputs": [
    {
     "name": "stdout",
     "output_type": "stream",
     "text": [
      " * sqlite://\n",
      "Done.\n",
      " * sqlite://\n"
     ]
    },
    {
     "data": {
      "text/plain": [
       "'Persisted currencies'"
      ]
     },
     "execution_count": 42,
     "metadata": {},
     "output_type": "execute_result"
    }
   ],
   "source": [
    "%sql DROP TABLE IF EXISTS currencies;\n",
    "%sql PERSIST currencies;"
   ]
  },
  {
   "cell_type": "code",
   "execution_count": 44,
   "metadata": {},
   "outputs": [
    {
     "name": "stdout",
     "output_type": "stream",
     "text": [
      " * sqlite://\n",
      "Done.\n"
     ]
    },
    {
     "data": {
      "text/html": [
       "<table>\n",
       "    <tr>\n",
       "        <th>country</th>\n",
       "        <th>code</th>\n",
       "        <th>region</th>\n",
       "        <th>basic_unit</th>\n",
       "    </tr>\n",
       "    <tr>\n",
       "        <td>None</td>\n",
       "        <td>AIA</td>\n",
       "        <td>None</td>\n",
       "        <td>East Caribbean dollar</td>\n",
       "    </tr>\n",
       "    <tr>\n",
       "        <td>None</td>\n",
       "        <td>CCK</td>\n",
       "        <td>None</td>\n",
       "        <td>Australian dollar</td>\n",
       "    </tr>\n",
       "    <tr>\n",
       "        <td>None</td>\n",
       "        <td>COK</td>\n",
       "        <td>None</td>\n",
       "        <td>New Zealand dollar</td>\n",
       "    </tr>\n",
       "    <tr>\n",
       "        <td>None</td>\n",
       "        <td>FLK</td>\n",
       "        <td>None</td>\n",
       "        <td>Falkland Islands pound</td>\n",
       "    </tr>\n",
       "    <tr>\n",
       "        <td>None</td>\n",
       "        <td>IOT</td>\n",
       "        <td>None</td>\n",
       "        <td>United States dollar</td>\n",
       "    </tr>\n",
       "    <tr>\n",
       "        <td>None</td>\n",
       "        <td>MSR</td>\n",
       "        <td>None</td>\n",
       "        <td>East Caribbean dollar</td>\n",
       "    </tr>\n",
       "    <tr>\n",
       "        <td>None</td>\n",
       "        <td>NIU</td>\n",
       "        <td>None</td>\n",
       "        <td>New Zealand dollar</td>\n",
       "    </tr>\n",
       "    <tr>\n",
       "        <td>None</td>\n",
       "        <td>ROM</td>\n",
       "        <td>None</td>\n",
       "        <td>Romanian leu</td>\n",
       "    </tr>\n",
       "    <tr>\n",
       "        <td>None</td>\n",
       "        <td>SGS</td>\n",
       "        <td>None</td>\n",
       "        <td>British pound</td>\n",
       "    </tr>\n",
       "    <tr>\n",
       "        <td>None</td>\n",
       "        <td>SHN</td>\n",
       "        <td>None</td>\n",
       "        <td>Saint Helena pound</td>\n",
       "    </tr>\n",
       "    <tr>\n",
       "        <td>None</td>\n",
       "        <td>TMP</td>\n",
       "        <td>None</td>\n",
       "        <td>United States dollar</td>\n",
       "    </tr>\n",
       "    <tr>\n",
       "        <td>None</td>\n",
       "        <td>TWN</td>\n",
       "        <td>None</td>\n",
       "        <td>New Taiwan dollar</td>\n",
       "    </tr>\n",
       "    <tr>\n",
       "        <td>None</td>\n",
       "        <td>WLF</td>\n",
       "        <td>None</td>\n",
       "        <td>CFP franc</td>\n",
       "    </tr>\n",
       "    <tr>\n",
       "        <td>Bermuda</td>\n",
       "        <td>BMU</td>\n",
       "        <td>North America</td>\n",
       "        <td>Bermudian dollar</td>\n",
       "    </tr>\n",
       "    <tr>\n",
       "        <td>Canada</td>\n",
       "        <td>CAN</td>\n",
       "        <td>North America</td>\n",
       "        <td>Canadian dollar</td>\n",
       "    </tr>\n",
       "    <tr>\n",
       "        <td>Greenland</td>\n",
       "        <td>GRL</td>\n",
       "        <td>North America</td>\n",
       "        <td>None</td>\n",
       "    </tr>\n",
       "    <tr>\n",
       "        <td>United States</td>\n",
       "        <td>USA</td>\n",
       "        <td>North America</td>\n",
       "        <td>United States dollar</td>\n",
       "    </tr>\n",
       "</table>"
      ],
      "text/plain": [
       "[(None, 'AIA', None, 'East Caribbean dollar'),\n",
       " (None, 'CCK', None, 'Australian dollar'),\n",
       " (None, 'COK', None, 'New Zealand dollar'),\n",
       " (None, 'FLK', None, 'Falkland Islands pound'),\n",
       " (None, 'IOT', None, 'United States dollar'),\n",
       " (None, 'MSR', None, 'East Caribbean dollar'),\n",
       " (None, 'NIU', None, 'New Zealand dollar'),\n",
       " (None, 'ROM', None, 'Romanian leu'),\n",
       " (None, 'SGS', None, 'British pound'),\n",
       " (None, 'SHN', None, 'Saint Helena pound'),\n",
       " (None, 'TMP', None, 'United States dollar'),\n",
       " (None, 'TWN', None, 'New Taiwan dollar'),\n",
       " (None, 'WLF', None, 'CFP franc'),\n",
       " ('Bermuda', 'BMU', 'North America', 'Bermudian dollar'),\n",
       " ('Canada', 'CAN', 'North America', 'Canadian dollar'),\n",
       " ('Greenland', 'GRL', 'North America', None),\n",
       " ('United States', 'USA', 'North America', 'United States dollar')]"
      ]
     },
     "execution_count": 44,
     "metadata": {},
     "output_type": "execute_result"
    }
   ],
   "source": [
    "%%sql\n",
    "SELECT name AS country, code, region, basic_unit\n",
    "-- 3. From countries\n",
    "FROM countries\n",
    "  -- 4. Join to currencies\n",
    "  LEFT JOIN currencies\n",
    "    -- 5. Match on code\n",
    "    USING (code)\n",
    "-- 1. Where region is North America or null\n",
    "WHERE region = 'North America' OR region IS NULL\n",
    "UNION\n",
    "SELECT name AS country, code, region, basic_unit\n",
    "-- 3. From countries\n",
    "FROM currencies\n",
    "  -- 4. Join to currencies\n",
    "  LEFT JOIN countries\n",
    "    -- 5. Match on code\n",
    "    USING (code)\n",
    "-- 1. Where region is North America or null\n",
    "WHERE region = 'North America' OR region IS NULL\n",
    "ORDER BY region;"
   ]
  },
  {
   "cell_type": "code",
   "execution_count": 45,
   "metadata": {},
   "outputs": [
    {
     "name": "stdout",
     "output_type": "stream",
     "text": [
      " * sqlite://\n",
      "Done.\n"
     ]
    },
    {
     "data": {
      "text/html": [
       "<table>\n",
       "    <tr>\n",
       "        <th>country</th>\n",
       "        <th>code</th>\n",
       "        <th>region</th>\n",
       "        <th>basic_unit</th>\n",
       "    </tr>\n",
       "    <tr>\n",
       "        <td>Bermuda</td>\n",
       "        <td>BMU</td>\n",
       "        <td>North America</td>\n",
       "        <td>Bermudian dollar</td>\n",
       "    </tr>\n",
       "    <tr>\n",
       "        <td>Greenland</td>\n",
       "        <td>GRL</td>\n",
       "        <td>North America</td>\n",
       "        <td>None</td>\n",
       "    </tr>\n",
       "    <tr>\n",
       "        <td>Canada</td>\n",
       "        <td>CAN</td>\n",
       "        <td>North America</td>\n",
       "        <td>Canadian dollar</td>\n",
       "    </tr>\n",
       "    <tr>\n",
       "        <td>United States</td>\n",
       "        <td>USA</td>\n",
       "        <td>North America</td>\n",
       "        <td>United States dollar</td>\n",
       "    </tr>\n",
       "</table>"
      ],
      "text/plain": [
       "[('Bermuda', 'BMU', 'North America', 'Bermudian dollar'),\n",
       " ('Greenland', 'GRL', 'North America', None),\n",
       " ('Canada', 'CAN', 'North America', 'Canadian dollar'),\n",
       " ('United States', 'USA', 'North America', 'United States dollar')]"
      ]
     },
     "execution_count": 45,
     "metadata": {},
     "output_type": "execute_result"
    }
   ],
   "source": [
    "%%sql\n",
    "SELECT name AS country, code, region, basic_unit\n",
    "-- 1. From countries\n",
    "FROM countries\n",
    "  -- 2. Join to currencies\n",
    "  LEFT JOIN currencies\n",
    "    -- 3. Match on code\n",
    "    USING (code)\n",
    "-- 4. Where region is North America or null\n",
    "WHERE region = 'North America' OR region IS null\n",
    "-- 5. Order by region\n",
    "ORDER BY region;"
   ]
  },
  {
   "cell_type": "code",
   "execution_count": 46,
   "metadata": {},
   "outputs": [
    {
     "name": "stdout",
     "output_type": "stream",
     "text": [
      " * sqlite://\n",
      "Done.\n"
     ]
    },
    {
     "data": {
      "text/html": [
       "<table>\n",
       "    <tr>\n",
       "        <th>country</th>\n",
       "        <th>code</th>\n",
       "        <th>region</th>\n",
       "        <th>basic_unit</th>\n",
       "    </tr>\n",
       "    <tr>\n",
       "        <td>Bermuda</td>\n",
       "        <td>BMU</td>\n",
       "        <td>North America</td>\n",
       "        <td>Bermudian dollar</td>\n",
       "    </tr>\n",
       "    <tr>\n",
       "        <td>Canada</td>\n",
       "        <td>CAN</td>\n",
       "        <td>North America</td>\n",
       "        <td>Canadian dollar</td>\n",
       "    </tr>\n",
       "    <tr>\n",
       "        <td>United States</td>\n",
       "        <td>USA</td>\n",
       "        <td>North America</td>\n",
       "        <td>United States dollar</td>\n",
       "    </tr>\n",
       "</table>"
      ],
      "text/plain": [
       "[('Bermuda', 'BMU', 'North America', 'Bermudian dollar'),\n",
       " ('Canada', 'CAN', 'North America', 'Canadian dollar'),\n",
       " ('United States', 'USA', 'North America', 'United States dollar')]"
      ]
     },
     "execution_count": 46,
     "metadata": {},
     "output_type": "execute_result"
    }
   ],
   "source": [
    "%%sql\n",
    "SELECT name AS country, code, region, basic_unit\n",
    "FROM countries\n",
    "  -- 1. Join to currencies\n",
    "  INNER JOIN currencies\n",
    "    USING (code)\n",
    "-- 2. Where region is North America or null\n",
    "WHERE region = 'North America' OR region IS NULL\n",
    "-- 3. Order by region\n",
    "ORDER BY region;"
   ]
  },
  {
   "cell_type": "markdown",
   "metadata": {},
   "source": [
    "The FULL JOIN query returned 17 rows, the OUTER JOIN returned 4 rows, and the INNER JOIN only returned 3 rows. "
   ]
  },
  {
   "cell_type": "markdown",
   "metadata": {},
   "source": [
    "We'll now investigate a similar exercise to the last one, but this time focused on using a table with more records on the left than the right. We'll work with the `languages` and `countries` tables.\n",
    "\n",
    "We'll Begin with a full join with `languages` on the left and `countries` on the right. "
   ]
  },
  {
   "cell_type": "code",
   "execution_count": 50,
   "metadata": {},
   "outputs": [
    {
     "name": "stdout",
     "output_type": "stream",
     "text": [
      " * sqlite://\n",
      "Done.\n"
     ]
    },
    {
     "data": {
      "text/html": [
       "<table>\n",
       "    <tr>\n",
       "        <th>name</th>\n",
       "        <th>code</th>\n",
       "        <th>language</th>\n",
       "    </tr>\n",
       "    <tr>\n",
       "        <td>Virgin Islands, U.S.</td>\n",
       "        <td>VIR</td>\n",
       "        <td>None</td>\n",
       "    </tr>\n",
       "    <tr>\n",
       "        <td>Virgin Islands, British</td>\n",
       "        <td>VGB</td>\n",
       "        <td>None</td>\n",
       "    </tr>\n",
       "    <tr>\n",
       "        <td>Vietnam</td>\n",
       "        <td>VNM</td>\n",
       "        <td>English</td>\n",
       "    </tr>\n",
       "    <tr>\n",
       "        <td>Vietnam</td>\n",
       "        <td>VNM</td>\n",
       "        <td>Other</td>\n",
       "    </tr>\n",
       "    <tr>\n",
       "        <td>Vietnam</td>\n",
       "        <td>VNM</td>\n",
       "        <td>Vietnamese</td>\n",
       "    </tr>\n",
       "    <tr>\n",
       "        <td>Venezuela</td>\n",
       "        <td>VEN</td>\n",
       "        <td>Spanish</td>\n",
       "    </tr>\n",
       "    <tr>\n",
       "        <td>Venezuela</td>\n",
       "        <td>VEN</td>\n",
       "        <td>indigenous</td>\n",
       "    </tr>\n",
       "    <tr>\n",
       "        <td>Vanuatu</td>\n",
       "        <td>VUT</td>\n",
       "        <td>Bislama</td>\n",
       "    </tr>\n",
       "    <tr>\n",
       "        <td>Vanuatu</td>\n",
       "        <td>VUT</td>\n",
       "        <td>English</td>\n",
       "    </tr>\n",
       "    <tr>\n",
       "        <td>Vanuatu</td>\n",
       "        <td>VUT</td>\n",
       "        <td>French</td>\n",
       "    </tr>\n",
       "</table>"
      ],
      "text/plain": [
       "[('Virgin Islands, U.S.', 'VIR', None),\n",
       " ('Virgin Islands, British', 'VGB', None),\n",
       " ('Vietnam', 'VNM', 'English'),\n",
       " ('Vietnam', 'VNM', 'Other'),\n",
       " ('Vietnam', 'VNM', 'Vietnamese'),\n",
       " ('Venezuela', 'VEN', 'Spanish'),\n",
       " ('Venezuela', 'VEN', 'indigenous'),\n",
       " ('Vanuatu', 'VUT', 'Bislama'),\n",
       " ('Vanuatu', 'VUT', 'English'),\n",
       " ('Vanuatu', 'VUT', 'French')]"
      ]
     },
     "execution_count": 50,
     "metadata": {},
     "output_type": "execute_result"
    }
   ],
   "source": [
    "%%sql\n",
    "SELECT countries.name, code, languages.name AS language\n",
    "-- 3. From languages\n",
    "FROM languages\n",
    "  -- 4. Join to countries\n",
    "  LEFT JOIN countries\n",
    "    -- 5. Match on code\n",
    "    USING (code)\n",
    "-- 1. Where countries.name starts with V or is null\n",
    "WHERE countries.name LIKE 'V%' OR countries.name IS NULL\n",
    "-- 2. Order by ascending countries.name\n",
    "UNION\n",
    "SELECT countries.name, code, languages.name AS language\n",
    "-- 3. From languages\n",
    "FROM countries\n",
    "  -- 4. Join to countries\n",
    "  LEFT JOIN languages\n",
    "    -- 5. Match on code\n",
    "    USING (code)\n",
    "-- 1. Where countries.name starts with V or is null\n",
    "WHERE countries.name LIKE 'V%' OR countries.name IS NULL\n",
    "-- 2. Order by ascending countries.name\n",
    "ORDER BY countries.name DESC\n",
    "LIMIT 10;"
   ]
  },
  {
   "cell_type": "code",
   "execution_count": 51,
   "metadata": {},
   "outputs": [
    {
     "name": "stdout",
     "output_type": "stream",
     "text": [
      " * sqlite://\n",
      "Done.\n"
     ]
    },
    {
     "data": {
      "text/html": [
       "<table>\n",
       "    <tr>\n",
       "        <th>name</th>\n",
       "        <th>code</th>\n",
       "        <th>language</th>\n",
       "    </tr>\n",
       "    <tr>\n",
       "        <td>None</td>\n",
       "        <td>AIA</td>\n",
       "        <td>English</td>\n",
       "    </tr>\n",
       "    <tr>\n",
       "        <td>None</td>\n",
       "        <td>CXR</td>\n",
       "        <td>English</td>\n",
       "    </tr>\n",
       "    <tr>\n",
       "        <td>None</td>\n",
       "        <td>CXR</td>\n",
       "        <td>Chinese</td>\n",
       "    </tr>\n",
       "    <tr>\n",
       "        <td>None</td>\n",
       "        <td>CXR</td>\n",
       "        <td>Malay</td>\n",
       "    </tr>\n",
       "    <tr>\n",
       "        <td>None</td>\n",
       "        <td>CCK</td>\n",
       "        <td>Malay</td>\n",
       "    </tr>\n",
       "    <tr>\n",
       "        <td>None</td>\n",
       "        <td>CCK</td>\n",
       "        <td>English</td>\n",
       "    </tr>\n",
       "    <tr>\n",
       "        <td>None</td>\n",
       "        <td>COK</td>\n",
       "        <td>English</td>\n",
       "    </tr>\n",
       "    <tr>\n",
       "        <td>None</td>\n",
       "        <td>COK</td>\n",
       "        <td>Rarotongan</td>\n",
       "    </tr>\n",
       "    <tr>\n",
       "        <td>None</td>\n",
       "        <td>COK</td>\n",
       "        <td>Other</td>\n",
       "    </tr>\n",
       "    <tr>\n",
       "        <td>None</td>\n",
       "        <td>MSR</td>\n",
       "        <td>English</td>\n",
       "    </tr>\n",
       "</table>"
      ],
      "text/plain": [
       "[(None, 'AIA', 'English'),\n",
       " (None, 'CXR', 'English'),\n",
       " (None, 'CXR', 'Chinese'),\n",
       " (None, 'CXR', 'Malay'),\n",
       " (None, 'CCK', 'Malay'),\n",
       " (None, 'CCK', 'English'),\n",
       " (None, 'COK', 'English'),\n",
       " (None, 'COK', 'Rarotongan'),\n",
       " (None, 'COK', 'Other'),\n",
       " (None, 'MSR', 'English')]"
      ]
     },
     "execution_count": 51,
     "metadata": {},
     "output_type": "execute_result"
    }
   ],
   "source": [
    "%%sql\n",
    "SELECT countries.name, code, languages.name AS language\n",
    "FROM languages\n",
    "  -- 1. Join to countries\n",
    "  LEFT JOIN countries\n",
    "    -- 2. Match using code\n",
    "    USING (code)\n",
    "-- 3. Where countries.name starts with V or is null\n",
    "WHERE countries.name LIKE 'V%' OR countries.name IS NULL\n",
    "ORDER BY countries.name\n",
    "LIMIT 10;"
   ]
  },
  {
   "cell_type": "code",
   "execution_count": 52,
   "metadata": {},
   "outputs": [
    {
     "name": "stdout",
     "output_type": "stream",
     "text": [
      " * sqlite://\n",
      "Done.\n"
     ]
    },
    {
     "data": {
      "text/html": [
       "<table>\n",
       "    <tr>\n",
       "        <th>name</th>\n",
       "        <th>code</th>\n",
       "        <th>language</th>\n",
       "    </tr>\n",
       "    <tr>\n",
       "        <td>Vanuatu</td>\n",
       "        <td>VUT</td>\n",
       "        <td>Bislama</td>\n",
       "    </tr>\n",
       "    <tr>\n",
       "        <td>Vanuatu</td>\n",
       "        <td>VUT</td>\n",
       "        <td>English</td>\n",
       "    </tr>\n",
       "    <tr>\n",
       "        <td>Vanuatu</td>\n",
       "        <td>VUT</td>\n",
       "        <td>French</td>\n",
       "    </tr>\n",
       "    <tr>\n",
       "        <td>Vanuatu</td>\n",
       "        <td>VUT</td>\n",
       "        <td>Other</td>\n",
       "    </tr>\n",
       "    <tr>\n",
       "        <td>Vanuatu</td>\n",
       "        <td>VUT</td>\n",
       "        <td>Tribal Languages</td>\n",
       "    </tr>\n",
       "    <tr>\n",
       "        <td>Venezuela</td>\n",
       "        <td>VEN</td>\n",
       "        <td>Spanish</td>\n",
       "    </tr>\n",
       "    <tr>\n",
       "        <td>Venezuela</td>\n",
       "        <td>VEN</td>\n",
       "        <td>indigenous</td>\n",
       "    </tr>\n",
       "    <tr>\n",
       "        <td>Vietnam</td>\n",
       "        <td>VNM</td>\n",
       "        <td>English</td>\n",
       "    </tr>\n",
       "    <tr>\n",
       "        <td>Vietnam</td>\n",
       "        <td>VNM</td>\n",
       "        <td>Other</td>\n",
       "    </tr>\n",
       "    <tr>\n",
       "        <td>Vietnam</td>\n",
       "        <td>VNM</td>\n",
       "        <td>Vietnamese</td>\n",
       "    </tr>\n",
       "</table>"
      ],
      "text/plain": [
       "[('Vanuatu', 'VUT', 'Bislama'),\n",
       " ('Vanuatu', 'VUT', 'English'),\n",
       " ('Vanuatu', 'VUT', 'French'),\n",
       " ('Vanuatu', 'VUT', 'Other'),\n",
       " ('Vanuatu', 'VUT', 'Tribal Languages'),\n",
       " ('Venezuela', 'VEN', 'Spanish'),\n",
       " ('Venezuela', 'VEN', 'indigenous'),\n",
       " ('Vietnam', 'VNM', 'English'),\n",
       " ('Vietnam', 'VNM', 'Other'),\n",
       " ('Vietnam', 'VNM', 'Vietnamese')]"
      ]
     },
     "execution_count": 52,
     "metadata": {},
     "output_type": "execute_result"
    }
   ],
   "source": [
    "%%sql\n",
    "SELECT countries.name, code, languages.name AS language\n",
    "FROM languages\n",
    "  -- 1. Join to countries\n",
    "  INNER JOIN countries\n",
    "    USING (code)\n",
    "-- 2. Where countries.name starts with V or is null\n",
    "WHERE countries.name LIKE 'V%' OR countries.name IS NULL\n",
    "ORDER BY countries.name;"
   ]
  },
  {
   "cell_type": "markdown",
   "metadata": {},
   "source": [
    "## CROSSing the rubicon"
   ]
  },
  {
   "cell_type": "markdown",
   "metadata": {},
   "source": [
    "### Pairing prime ministers with presidents"
   ]
  },
  {
   "cell_type": "code",
   "execution_count": 55,
   "metadata": {},
   "outputs": [
    {
     "name": "stdout",
     "output_type": "stream",
     "text": [
      " * sqlite://\n",
      "Done.\n"
     ]
    },
    {
     "data": {
      "text/html": [
       "<table>\n",
       "    <tr>\n",
       "        <th>prime_minister</th>\n",
       "        <th>president</th>\n",
       "    </tr>\n",
       "    <tr>\n",
       "        <td>Jack Guy Lafontant</td>\n",
       "        <td>Abdel Fattah el-Sisi</td>\n",
       "    </tr>\n",
       "    <tr>\n",
       "        <td>Jack Guy Lafontant</td>\n",
       "        <td>Marcelo Rebelo de Sousa</td>\n",
       "    </tr>\n",
       "    <tr>\n",
       "        <td>Jack Guy Lafontant</td>\n",
       "        <td>Jovenel Moise</td>\n",
       "    </tr>\n",
       "    <tr>\n",
       "        <td>Jack Guy Lafontant</td>\n",
       "        <td>Jose Mujica</td>\n",
       "    </tr>\n",
       "    <tr>\n",
       "        <td>Jack Guy Lafontant</td>\n",
       "        <td>Ellen Johnson Sirleaf</td>\n",
       "    </tr>\n",
       "    <tr>\n",
       "        <td>Jack Guy Lafontant</td>\n",
       "        <td>Michelle Bachelet</td>\n",
       "    </tr>\n",
       "    <tr>\n",
       "        <td>Jack Guy Lafontant</td>\n",
       "        <td>Tran Dai Quang</td>\n",
       "    </tr>\n",
       "    <tr>\n",
       "        <td>Malcolm Turnbull</td>\n",
       "        <td>Abdel Fattah el-Sisi</td>\n",
       "    </tr>\n",
       "    <tr>\n",
       "        <td>Malcolm Turnbull</td>\n",
       "        <td>Marcelo Rebelo de Sousa</td>\n",
       "    </tr>\n",
       "    <tr>\n",
       "        <td>Malcolm Turnbull</td>\n",
       "        <td>Jovenel Moise</td>\n",
       "    </tr>\n",
       "    <tr>\n",
       "        <td>Malcolm Turnbull</td>\n",
       "        <td>Jose Mujica</td>\n",
       "    </tr>\n",
       "    <tr>\n",
       "        <td>Malcolm Turnbull</td>\n",
       "        <td>Ellen Johnson Sirleaf</td>\n",
       "    </tr>\n",
       "    <tr>\n",
       "        <td>Malcolm Turnbull</td>\n",
       "        <td>Michelle Bachelet</td>\n",
       "    </tr>\n",
       "    <tr>\n",
       "        <td>Malcolm Turnbull</td>\n",
       "        <td>Tran Dai Quang</td>\n",
       "    </tr>\n",
       "</table>"
      ],
      "text/plain": [
       "[('Jack Guy Lafontant', 'Abdel Fattah el-Sisi'),\n",
       " ('Jack Guy Lafontant', 'Marcelo Rebelo de Sousa'),\n",
       " ('Jack Guy Lafontant', 'Jovenel Moise'),\n",
       " ('Jack Guy Lafontant', 'Jose Mujica'),\n",
       " ('Jack Guy Lafontant', 'Ellen Johnson Sirleaf'),\n",
       " ('Jack Guy Lafontant', 'Michelle Bachelet'),\n",
       " ('Jack Guy Lafontant', 'Tran Dai Quang'),\n",
       " ('Malcolm Turnbull', 'Abdel Fattah el-Sisi'),\n",
       " ('Malcolm Turnbull', 'Marcelo Rebelo de Sousa'),\n",
       " ('Malcolm Turnbull', 'Jovenel Moise'),\n",
       " ('Malcolm Turnbull', 'Jose Mujica'),\n",
       " ('Malcolm Turnbull', 'Ellen Johnson Sirleaf'),\n",
       " ('Malcolm Turnbull', 'Michelle Bachelet'),\n",
       " ('Malcolm Turnbull', 'Tran Dai Quang')]"
      ]
     },
     "execution_count": 55,
     "metadata": {},
     "output_type": "execute_result"
    }
   ],
   "source": [
    "%%sql\n",
    "SELECT prime_minister, president\n",
    "    FROM prime_ministers AS p1\n",
    "    CROSS JOIN presidents AS p2\n",
    "    WHERE p1.continent IN ('North America', 'Oceania');"
   ]
  },
  {
   "cell_type": "markdown",
   "metadata": {},
   "source": [
    "### A table of two cities\n",
    "\n",
    "We'll explore languages potentially and most frequently spoken in the cities of Hyderabad, India and Hyderabad, Pakistan.\n",
    "\n",
    "We will begin with a cross join with `cities AS c` on the left and `languages AS l `on the right. Then we will modify the query using an inner join."
   ]
  },
  {
   "cell_type": "code",
   "execution_count": 58,
   "metadata": {},
   "outputs": [
    {
     "name": "stdout",
     "output_type": "stream",
     "text": [
      " * sqlite://\n",
      "Done.\n"
     ]
    },
    {
     "data": {
      "text/html": [
       "<table>\n",
       "    <tr>\n",
       "        <th>city</th>\n",
       "        <th>language</th>\n",
       "    </tr>\n",
       "    <tr>\n",
       "        <td>Hyderabad (India)</td>\n",
       "        <td>Dari</td>\n",
       "    </tr>\n",
       "    <tr>\n",
       "        <td>Hyderabad (India)</td>\n",
       "        <td>Pashto</td>\n",
       "    </tr>\n",
       "    <tr>\n",
       "        <td>Hyderabad (India)</td>\n",
       "        <td>Turkic</td>\n",
       "    </tr>\n",
       "    <tr>\n",
       "        <td>Hyderabad (India)</td>\n",
       "        <td>Other</td>\n",
       "    </tr>\n",
       "    <tr>\n",
       "        <td>Hyderabad (India)</td>\n",
       "        <td>Albanian</td>\n",
       "    </tr>\n",
       "    <tr>\n",
       "        <td>Hyderabad (India)</td>\n",
       "        <td>Greek</td>\n",
       "    </tr>\n",
       "    <tr>\n",
       "        <td>Hyderabad (India)</td>\n",
       "        <td>Other</td>\n",
       "    </tr>\n",
       "    <tr>\n",
       "        <td>Hyderabad (India)</td>\n",
       "        <td>unspecified</td>\n",
       "    </tr>\n",
       "    <tr>\n",
       "        <td>Hyderabad (India)</td>\n",
       "        <td>Arabic</td>\n",
       "    </tr>\n",
       "    <tr>\n",
       "        <td>Hyderabad (India)</td>\n",
       "        <td>French</td>\n",
       "    </tr>\n",
       "</table>"
      ],
      "text/plain": [
       "[('Hyderabad (India)', 'Dari'),\n",
       " ('Hyderabad (India)', 'Pashto'),\n",
       " ('Hyderabad (India)', 'Turkic'),\n",
       " ('Hyderabad (India)', 'Other'),\n",
       " ('Hyderabad (India)', 'Albanian'),\n",
       " ('Hyderabad (India)', 'Greek'),\n",
       " ('Hyderabad (India)', 'Other'),\n",
       " ('Hyderabad (India)', 'unspecified'),\n",
       " ('Hyderabad (India)', 'Arabic'),\n",
       " ('Hyderabad (India)', 'French')]"
      ]
     },
     "execution_count": 58,
     "metadata": {},
     "output_type": "execute_result"
    }
   ],
   "source": [
    "%%sql\n",
    "-- 4. Select fields\n",
    "SELECT c.name AS city, l.name AS language\n",
    "-- 1. From cities (alias as c)\n",
    "FROM cities AS c        \n",
    "  -- 2. Join to languages (alias as l)\n",
    "  CROSS JOIN languages AS l\n",
    "-- 3. Where c.name like Hyderabad\n",
    "WHERE c.name LIKE 'Hyder%'\n",
    "LIMIT 10;"
   ]
  },
  {
   "cell_type": "code",
   "execution_count": 59,
   "metadata": {},
   "outputs": [
    {
     "name": "stdout",
     "output_type": "stream",
     "text": [
      " * sqlite://\n",
      "Done.\n"
     ]
    },
    {
     "data": {
      "text/html": [
       "<table>\n",
       "    <tr>\n",
       "        <th>city</th>\n",
       "        <th>language</th>\n",
       "    </tr>\n",
       "    <tr>\n",
       "        <td>Hyderabad (India)</td>\n",
       "        <td>Assamese</td>\n",
       "    </tr>\n",
       "    <tr>\n",
       "        <td>Hyderabad (India)</td>\n",
       "        <td>Bengali</td>\n",
       "    </tr>\n",
       "    <tr>\n",
       "        <td>Hyderabad (India)</td>\n",
       "        <td>Gujarati</td>\n",
       "    </tr>\n",
       "    <tr>\n",
       "        <td>Hyderabad (India)</td>\n",
       "        <td>Hindi</td>\n",
       "    </tr>\n",
       "    <tr>\n",
       "        <td>Hyderabad (India)</td>\n",
       "        <td>Kannada</td>\n",
       "    </tr>\n",
       "    <tr>\n",
       "        <td>Hyderabad (India)</td>\n",
       "        <td>Maithili</td>\n",
       "    </tr>\n",
       "    <tr>\n",
       "        <td>Hyderabad (India)</td>\n",
       "        <td>Malayalam</td>\n",
       "    </tr>\n",
       "    <tr>\n",
       "        <td>Hyderabad (India)</td>\n",
       "        <td>Marathi</td>\n",
       "    </tr>\n",
       "    <tr>\n",
       "        <td>Hyderabad (India)</td>\n",
       "        <td>Oriya</td>\n",
       "    </tr>\n",
       "    <tr>\n",
       "        <td>Hyderabad (India)</td>\n",
       "        <td>Other</td>\n",
       "    </tr>\n",
       "    <tr>\n",
       "        <td>Hyderabad (India)</td>\n",
       "        <td>Punjabi</td>\n",
       "    </tr>\n",
       "    <tr>\n",
       "        <td>Hyderabad (India)</td>\n",
       "        <td>Tamil</td>\n",
       "    </tr>\n",
       "    <tr>\n",
       "        <td>Hyderabad (India)</td>\n",
       "        <td>Telugu</td>\n",
       "    </tr>\n",
       "    <tr>\n",
       "        <td>Hyderabad (India)</td>\n",
       "        <td>Urdu</td>\n",
       "    </tr>\n",
       "    <tr>\n",
       "        <td>Hyderabad</td>\n",
       "        <td>Balochi</td>\n",
       "    </tr>\n",
       "    <tr>\n",
       "        <td>Hyderabad</td>\n",
       "        <td>Brahui</td>\n",
       "    </tr>\n",
       "    <tr>\n",
       "        <td>Hyderabad</td>\n",
       "        <td>Burushaski</td>\n",
       "    </tr>\n",
       "    <tr>\n",
       "        <td>Hyderabad</td>\n",
       "        <td>English</td>\n",
       "    </tr>\n",
       "    <tr>\n",
       "        <td>Hyderabad</td>\n",
       "        <td>Hindko</td>\n",
       "    </tr>\n",
       "    <tr>\n",
       "        <td>Hyderabad</td>\n",
       "        <td>Other</td>\n",
       "    </tr>\n",
       "    <tr>\n",
       "        <td>Hyderabad</td>\n",
       "        <td>Pashto</td>\n",
       "    </tr>\n",
       "    <tr>\n",
       "        <td>Hyderabad</td>\n",
       "        <td>Punjabi</td>\n",
       "    </tr>\n",
       "    <tr>\n",
       "        <td>Hyderabad</td>\n",
       "        <td>Saraiki</td>\n",
       "    </tr>\n",
       "    <tr>\n",
       "        <td>Hyderabad</td>\n",
       "        <td>Sindhi</td>\n",
       "    </tr>\n",
       "    <tr>\n",
       "        <td>Hyderabad</td>\n",
       "        <td>Urdu</td>\n",
       "    </tr>\n",
       "</table>"
      ],
      "text/plain": [
       "[('Hyderabad (India)', 'Assamese'),\n",
       " ('Hyderabad (India)', 'Bengali'),\n",
       " ('Hyderabad (India)', 'Gujarati'),\n",
       " ('Hyderabad (India)', 'Hindi'),\n",
       " ('Hyderabad (India)', 'Kannada'),\n",
       " ('Hyderabad (India)', 'Maithili'),\n",
       " ('Hyderabad (India)', 'Malayalam'),\n",
       " ('Hyderabad (India)', 'Marathi'),\n",
       " ('Hyderabad (India)', 'Oriya'),\n",
       " ('Hyderabad (India)', 'Other'),\n",
       " ('Hyderabad (India)', 'Punjabi'),\n",
       " ('Hyderabad (India)', 'Tamil'),\n",
       " ('Hyderabad (India)', 'Telugu'),\n",
       " ('Hyderabad (India)', 'Urdu'),\n",
       " ('Hyderabad', 'Balochi'),\n",
       " ('Hyderabad', 'Brahui'),\n",
       " ('Hyderabad', 'Burushaski'),\n",
       " ('Hyderabad', 'English'),\n",
       " ('Hyderabad', 'Hindko'),\n",
       " ('Hyderabad', 'Other'),\n",
       " ('Hyderabad', 'Pashto'),\n",
       " ('Hyderabad', 'Punjabi'),\n",
       " ('Hyderabad', 'Saraiki'),\n",
       " ('Hyderabad', 'Sindhi'),\n",
       " ('Hyderabad', 'Urdu')]"
      ]
     },
     "execution_count": 59,
     "metadata": {},
     "output_type": "execute_result"
    }
   ],
   "source": [
    "%%sql\n",
    "-- 5. Select fields\n",
    "SELECT c.name AS city, l.name AS language\n",
    "-- 1. From cities (alias as c)\n",
    "FROM cities AS c      \n",
    "  -- 2. Join to languages (alias as l)\n",
    "  INNER JOIN languages AS l\n",
    "    -- 3. Match on country code\n",
    "    ON l.code = c.country_code\n",
    "-- 4. Where c.name like Hyderabad\n",
    "WHERE c.name LIKE 'Hyder%';"
   ]
  },
  {
   "cell_type": "markdown",
   "metadata": {},
   "source": [
    "In terms of life expectancy for 2010, determine the names of the lowest five countries and their regions."
   ]
  },
  {
   "cell_type": "code",
   "execution_count": 60,
   "metadata": {},
   "outputs": [
    {
     "name": "stdout",
     "output_type": "stream",
     "text": [
      " * sqlite://\n",
      "Done.\n"
     ]
    },
    {
     "data": {
      "text/html": [
       "<table>\n",
       "    <tr>\n",
       "        <th>country</th>\n",
       "        <th>region</th>\n",
       "        <th>life_exp</th>\n",
       "    </tr>\n",
       "    <tr>\n",
       "        <td>American Samoa</td>\n",
       "        <td>Polynesia</td>\n",
       "        <td>None</td>\n",
       "    </tr>\n",
       "    <tr>\n",
       "        <td>Andorra</td>\n",
       "        <td>Southern Europe</td>\n",
       "        <td>None</td>\n",
       "    </tr>\n",
       "    <tr>\n",
       "        <td>Virgin Islands, British</td>\n",
       "        <td>Caribbean</td>\n",
       "        <td>None</td>\n",
       "    </tr>\n",
       "    <tr>\n",
       "        <td>Cayman Islands</td>\n",
       "        <td>Caribbean</td>\n",
       "        <td>None</td>\n",
       "    </tr>\n",
       "    <tr>\n",
       "        <td>Dominica</td>\n",
       "        <td>Caribbean</td>\n",
       "        <td>None</td>\n",
       "    </tr>\n",
       "</table>"
      ],
      "text/plain": [
       "[('American Samoa', 'Polynesia', None),\n",
       " ('Andorra', 'Southern Europe', None),\n",
       " ('Virgin Islands, British', 'Caribbean', None),\n",
       " ('Cayman Islands', 'Caribbean', None),\n",
       " ('Dominica', 'Caribbean', None)]"
      ]
     },
     "execution_count": 60,
     "metadata": {},
     "output_type": "execute_result"
    }
   ],
   "source": [
    "%%sql\n",
    "-- Select fields\n",
    "SELECT c.name AS country, region, life_expectancy AS life_exp\n",
    "-- From countries (alias as c)\n",
    "FROM countries c\n",
    "  -- Join to populations (alias as p)\n",
    "  LEFT JOIN populations p\n",
    "    -- Match on country code\n",
    "    ON c.code = p.country_code\n",
    "-- Focus on 2010\n",
    "WHERE year=2010\n",
    "-- Order by life_exp\n",
    "ORDER BY life_exp\n",
    "-- Limit to 5 records\n",
    "LIMIT 5;"
   ]
  },
  {
   "cell_type": "markdown",
   "metadata": {},
   "source": [
    "# Set theory clauses\n",
    "\n",
    "We'll explore more about set theory using Venn diagrams and get an introduction to union, union all, intersect, and except clauses. We'll finish by investigating semi joins and anti joins, which provide a nice introduction to subqueries."
   ]
  },
  {
   "cell_type": "markdown",
   "metadata": {},
   "source": [
    "## State of the UNION\n"
   ]
  },
  {
   "cell_type": "markdown",
   "metadata": {},
   "source": [
    "### Set Theory Venn Diagrams"
   ]
  },
  {
   "attachments": {},
   "cell_type": "markdown",
   "metadata": {},
   "source": [
    "![image.png](datasets/images/venn.png)"
   ]
  },
  {
   "attachments": {},
   "cell_type": "markdown",
   "metadata": {},
   "source": [
    "![image.png](datasets/images/union.png \"Union\")"
   ]
  },
  {
   "attachments": {},
   "cell_type": "markdown",
   "metadata": {},
   "source": [
    "![image.png](datasets/images/union-all.png \"Union All\")"
   ]
  },
  {
   "cell_type": "markdown",
   "metadata": {},
   "source": [
    "### monarchs table"
   ]
  },
  {
   "cell_type": "code",
   "execution_count": 61,
   "metadata": {},
   "outputs": [
    {
     "data": {
      "text/html": [
       "<div>\n",
       "<style scoped>\n",
       "    .dataframe tbody tr th:only-of-type {\n",
       "        vertical-align: middle;\n",
       "    }\n",
       "\n",
       "    .dataframe tbody tr th {\n",
       "        vertical-align: top;\n",
       "    }\n",
       "\n",
       "    .dataframe thead th {\n",
       "        text-align: right;\n",
       "    }\n",
       "</style>\n",
       "<table border=\"1\" class=\"dataframe\">\n",
       "  <thead>\n",
       "    <tr style=\"text-align: right;\">\n",
       "      <th></th>\n",
       "      <th>country</th>\n",
       "      <th>continent</th>\n",
       "      <th>monarch</th>\n",
       "    </tr>\n",
       "  </thead>\n",
       "  <tbody>\n",
       "    <tr>\n",
       "      <th>0</th>\n",
       "      <td>Brunei</td>\n",
       "      <td>Asia</td>\n",
       "      <td>Hassanal Bolkiah</td>\n",
       "    </tr>\n",
       "    <tr>\n",
       "      <th>1</th>\n",
       "      <td>Oman</td>\n",
       "      <td>Asia</td>\n",
       "      <td>Qaboos bin Said al Said</td>\n",
       "    </tr>\n",
       "    <tr>\n",
       "      <th>2</th>\n",
       "      <td>Norway</td>\n",
       "      <td>Europe</td>\n",
       "      <td>Harald V</td>\n",
       "    </tr>\n",
       "    <tr>\n",
       "      <th>3</th>\n",
       "      <td>Spain</td>\n",
       "      <td>Europe</td>\n",
       "      <td>Felipe VI</td>\n",
       "    </tr>\n",
       "  </tbody>\n",
       "</table>\n",
       "</div>"
      ],
      "text/plain": [
       "  country continent                  monarch\n",
       "0  Brunei      Asia         Hassanal Bolkiah\n",
       "1    Oman      Asia  Qaboos bin Said al Said\n",
       "2  Norway    Europe                 Harald V\n",
       "3   Spain    Europe                Felipe VI"
      ]
     },
     "execution_count": 61,
     "metadata": {},
     "output_type": "execute_result"
    }
   ],
   "source": [
    "monarchs = pd.read_csv(\"datasets/leaders/monarchs.csv\")\n",
    "monarchs.head()"
   ]
  },
  {
   "cell_type": "code",
   "execution_count": 62,
   "metadata": {},
   "outputs": [
    {
     "name": "stdout",
     "output_type": "stream",
     "text": [
      " * sqlite://\n",
      "Done.\n",
      " * sqlite://\n"
     ]
    },
    {
     "data": {
      "text/plain": [
       "'Persisted monarchs'"
      ]
     },
     "execution_count": 62,
     "metadata": {},
     "output_type": "execute_result"
    }
   ],
   "source": [
    "%sql DROP TABLE IF EXISTS monarchs;\n",
    "%sql PERSIST monarchs;"
   ]
  },
  {
   "cell_type": "code",
   "execution_count": 63,
   "metadata": {},
   "outputs": [
    {
     "name": "stdout",
     "output_type": "stream",
     "text": [
      " * sqlite://\n",
      "Done.\n"
     ]
    },
    {
     "data": {
      "text/html": [
       "<table>\n",
       "    <tr>\n",
       "        <th>index</th>\n",
       "        <th>country</th>\n",
       "        <th>continent</th>\n",
       "        <th>monarch</th>\n",
       "    </tr>\n",
       "    <tr>\n",
       "        <td>0</td>\n",
       "        <td>Brunei</td>\n",
       "        <td>Asia</td>\n",
       "        <td>Hassanal Bolkiah</td>\n",
       "    </tr>\n",
       "    <tr>\n",
       "        <td>1</td>\n",
       "        <td>Oman</td>\n",
       "        <td>Asia</td>\n",
       "        <td>Qaboos bin Said al Said</td>\n",
       "    </tr>\n",
       "    <tr>\n",
       "        <td>2</td>\n",
       "        <td>Norway</td>\n",
       "        <td>Europe</td>\n",
       "        <td>Harald V</td>\n",
       "    </tr>\n",
       "    <tr>\n",
       "        <td>3</td>\n",
       "        <td>Spain</td>\n",
       "        <td>Europe</td>\n",
       "        <td>Felipe VI</td>\n",
       "    </tr>\n",
       "</table>"
      ],
      "text/plain": [
       "[(0, 'Brunei', 'Asia', 'Hassanal Bolkiah'),\n",
       " (1, 'Oman', 'Asia', 'Qaboos bin Said al Said'),\n",
       " (2, 'Norway', 'Europe', 'Harald V'),\n",
       " (3, 'Spain', 'Europe', 'Felipe VI')]"
      ]
     },
     "execution_count": 63,
     "metadata": {},
     "output_type": "execute_result"
    }
   ],
   "source": [
    "%%sql\n",
    "SELECT *\n",
    "    FROM monarchs\n",
    "    LIMIT 5;"
   ]
  },
  {
   "cell_type": "markdown",
   "metadata": {},
   "source": [
    "### All prime ministers and monarchs"
   ]
  },
  {
   "cell_type": "code",
   "execution_count": 64,
   "metadata": {},
   "outputs": [
    {
     "name": "stdout",
     "output_type": "stream",
     "text": [
      " * sqlite://\n",
      "Done.\n"
     ]
    },
    {
     "data": {
      "text/html": [
       "<table>\n",
       "    <tr>\n",
       "        <th>leader</th>\n",
       "        <th>country</th>\n",
       "    </tr>\n",
       "    <tr>\n",
       "        <td>Malcolm Turnbull</td>\n",
       "        <td>Australia</td>\n",
       "    </tr>\n",
       "    <tr>\n",
       "        <td>Hassanal Bolkiah</td>\n",
       "        <td>Brunei</td>\n",
       "    </tr>\n",
       "    <tr>\n",
       "        <td>Sherif Ismail</td>\n",
       "        <td>Egypt</td>\n",
       "    </tr>\n",
       "    <tr>\n",
       "        <td>Jack Guy Lafontant</td>\n",
       "        <td>Haiti</td>\n",
       "    </tr>\n",
       "    <tr>\n",
       "        <td>Narendra Modi</td>\n",
       "        <td>India</td>\n",
       "    </tr>\n",
       "    <tr>\n",
       "        <td>Erna Solberg</td>\n",
       "        <td>Norway</td>\n",
       "    </tr>\n",
       "    <tr>\n",
       "        <td>Harald V</td>\n",
       "        <td>Norway</td>\n",
       "    </tr>\n",
       "    <tr>\n",
       "        <td>Qaboos bin Said al Said</td>\n",
       "        <td>Oman</td>\n",
       "    </tr>\n",
       "    <tr>\n",
       "        <td>Antonio Costa</td>\n",
       "        <td>Portugal</td>\n",
       "    </tr>\n",
       "    <tr>\n",
       "        <td>Felipe VI</td>\n",
       "        <td>Spain</td>\n",
       "    </tr>\n",
       "    <tr>\n",
       "        <td>Mariano Rajoy</td>\n",
       "        <td>Spain</td>\n",
       "    </tr>\n",
       "    <tr>\n",
       "        <td>Nguyen Xuan Phuc</td>\n",
       "        <td>Vietnam</td>\n",
       "    </tr>\n",
       "</table>"
      ],
      "text/plain": [
       "[('Malcolm Turnbull', 'Australia'),\n",
       " ('Hassanal Bolkiah', 'Brunei'),\n",
       " ('Sherif Ismail', 'Egypt'),\n",
       " ('Jack Guy Lafontant', 'Haiti'),\n",
       " ('Narendra Modi', 'India'),\n",
       " ('Erna Solberg', 'Norway'),\n",
       " ('Harald V', 'Norway'),\n",
       " ('Qaboos bin Said al Said', 'Oman'),\n",
       " ('Antonio Costa', 'Portugal'),\n",
       " ('Felipe VI', 'Spain'),\n",
       " ('Mariano Rajoy', 'Spain'),\n",
       " ('Nguyen Xuan Phuc', 'Vietnam')]"
      ]
     },
     "execution_count": 64,
     "metadata": {},
     "output_type": "execute_result"
    }
   ],
   "source": [
    "%%sql\n",
    "SELECT prime_minister AS leader, country\n",
    "    FROM prime_ministers\n",
    "UNION\n",
    "SELECT monarch, country\n",
    "    FROM monarchs\n",
    "    ORDER BY country;\n"
   ]
  },
  {
   "cell_type": "markdown",
   "metadata": {},
   "source": [
    "### UNION ALL with leaders"
   ]
  },
  {
   "cell_type": "code",
   "execution_count": 66,
   "metadata": {},
   "outputs": [
    {
     "name": "stdout",
     "output_type": "stream",
     "text": [
      " * sqlite://\n",
      "Done.\n"
     ]
    },
    {
     "data": {
      "text/html": [
       "<table>\n",
       "    <tr>\n",
       "        <th>leader</th>\n",
       "        <th>country</th>\n",
       "    </tr>\n",
       "    <tr>\n",
       "        <td>Malcolm Turnbull</td>\n",
       "        <td>Australia</td>\n",
       "    </tr>\n",
       "    <tr>\n",
       "        <td>Hassanal Bolkiah</td>\n",
       "        <td>Brunei</td>\n",
       "    </tr>\n",
       "    <tr>\n",
       "        <td>Hassanal Bolkiah</td>\n",
       "        <td>Brunei</td>\n",
       "    </tr>\n",
       "    <tr>\n",
       "        <td>Sherif Ismail</td>\n",
       "        <td>Egypt</td>\n",
       "    </tr>\n",
       "    <tr>\n",
       "        <td>Jack Guy Lafontant</td>\n",
       "        <td>Haiti</td>\n",
       "    </tr>\n",
       "    <tr>\n",
       "        <td>Narendra Modi</td>\n",
       "        <td>India</td>\n",
       "    </tr>\n",
       "    <tr>\n",
       "        <td>Erna Solberg</td>\n",
       "        <td>Norway</td>\n",
       "    </tr>\n",
       "    <tr>\n",
       "        <td>Harald V</td>\n",
       "        <td>Norway</td>\n",
       "    </tr>\n",
       "    <tr>\n",
       "        <td>Qaboos bin Said al Said</td>\n",
       "        <td>Oman</td>\n",
       "    </tr>\n",
       "    <tr>\n",
       "        <td>Qaboos bin Said al Said</td>\n",
       "        <td>Oman</td>\n",
       "    </tr>\n",
       "</table>"
      ],
      "text/plain": [
       "[('Malcolm Turnbull', 'Australia'),\n",
       " ('Hassanal Bolkiah', 'Brunei'),\n",
       " ('Hassanal Bolkiah', 'Brunei'),\n",
       " ('Sherif Ismail', 'Egypt'),\n",
       " ('Jack Guy Lafontant', 'Haiti'),\n",
       " ('Narendra Modi', 'India'),\n",
       " ('Erna Solberg', 'Norway'),\n",
       " ('Harald V', 'Norway'),\n",
       " ('Qaboos bin Said al Said', 'Oman'),\n",
       " ('Qaboos bin Said al Said', 'Oman')]"
      ]
     },
     "execution_count": 66,
     "metadata": {},
     "output_type": "execute_result"
    }
   ],
   "source": [
    "%%sql\n",
    "SELECT prime_minister AS leader, country\n",
    "    FROM prime_ministers\n",
    "UNION ALL\n",
    "SELECT monarch, country\n",
    "    FROM monarchs\n",
    "    ORDER BY country\n",
    "    LIMIT 10;"
   ]
  },
  {
   "cell_type": "code",
   "execution_count": 67,
   "metadata": {},
   "outputs": [
    {
     "data": {
      "text/html": [
       "<div>\n",
       "<style scoped>\n",
       "    .dataframe tbody tr th:only-of-type {\n",
       "        vertical-align: middle;\n",
       "    }\n",
       "\n",
       "    .dataframe tbody tr th {\n",
       "        vertical-align: top;\n",
       "    }\n",
       "\n",
       "    .dataframe thead th {\n",
       "        text-align: right;\n",
       "    }\n",
       "</style>\n",
       "<table border=\"1\" class=\"dataframe\">\n",
       "  <thead>\n",
       "    <tr style=\"text-align: right;\">\n",
       "      <th></th>\n",
       "      <th>code</th>\n",
       "      <th>year</th>\n",
       "      <th>income_group</th>\n",
       "      <th>gross_savings</th>\n",
       "    </tr>\n",
       "  </thead>\n",
       "  <tbody>\n",
       "    <tr>\n",
       "      <th>0</th>\n",
       "      <td>AFG</td>\n",
       "      <td>2010</td>\n",
       "      <td>Low income</td>\n",
       "      <td>37.133</td>\n",
       "    </tr>\n",
       "    <tr>\n",
       "      <th>1</th>\n",
       "      <td>AGO</td>\n",
       "      <td>2010</td>\n",
       "      <td>Upper middle income</td>\n",
       "      <td>23.534</td>\n",
       "    </tr>\n",
       "    <tr>\n",
       "      <th>2</th>\n",
       "      <td>ALB</td>\n",
       "      <td>2010</td>\n",
       "      <td>Upper middle income</td>\n",
       "      <td>20.011</td>\n",
       "    </tr>\n",
       "    <tr>\n",
       "      <th>3</th>\n",
       "      <td>ARE</td>\n",
       "      <td>2010</td>\n",
       "      <td>High income</td>\n",
       "      <td>27.073</td>\n",
       "    </tr>\n",
       "    <tr>\n",
       "      <th>4</th>\n",
       "      <td>ARG</td>\n",
       "      <td>2010</td>\n",
       "      <td>Upper middle income</td>\n",
       "      <td>17.361</td>\n",
       "    </tr>\n",
       "  </tbody>\n",
       "</table>\n",
       "</div>"
      ],
      "text/plain": [
       "  code  year         income_group  gross_savings\n",
       "0  AFG  2010           Low income         37.133\n",
       "1  AGO  2010  Upper middle income         23.534\n",
       "2  ALB  2010  Upper middle income         20.011\n",
       "3  ARE  2010          High income         27.073\n",
       "4  ARG  2010  Upper middle income         17.361"
      ]
     },
     "execution_count": 67,
     "metadata": {},
     "output_type": "execute_result"
    }
   ],
   "source": [
    "economies2010 = pd.read_csv(\"datasets/countries/economies2010.csv\")\n",
    "economies2010.head()"
   ]
  },
  {
   "cell_type": "code",
   "execution_count": 68,
   "metadata": {},
   "outputs": [
    {
     "name": "stdout",
     "output_type": "stream",
     "text": [
      " * sqlite://\n",
      "Done.\n",
      " * sqlite://\n"
     ]
    },
    {
     "data": {
      "text/plain": [
       "'Persisted economies2010'"
      ]
     },
     "execution_count": 68,
     "metadata": {},
     "output_type": "execute_result"
    }
   ],
   "source": [
    "%sql DROP TABLE IF EXISTS economies2010;\n",
    "%sql PERSIST economies2010;"
   ]
  },
  {
   "cell_type": "code",
   "execution_count": 69,
   "metadata": {},
   "outputs": [
    {
     "name": "stdout",
     "output_type": "stream",
     "text": [
      " * sqlite://\n",
      "Done.\n",
      " * sqlite://\n"
     ]
    },
    {
     "data": {
      "text/html": [
       "<div>\n",
       "<style scoped>\n",
       "    .dataframe tbody tr th:only-of-type {\n",
       "        vertical-align: middle;\n",
       "    }\n",
       "\n",
       "    .dataframe tbody tr th {\n",
       "        vertical-align: top;\n",
       "    }\n",
       "\n",
       "    .dataframe thead th {\n",
       "        text-align: right;\n",
       "    }\n",
       "</style>\n",
       "<table border=\"1\" class=\"dataframe\">\n",
       "  <thead>\n",
       "    <tr style=\"text-align: right;\">\n",
       "      <th></th>\n",
       "      <th>code</th>\n",
       "      <th>year</th>\n",
       "      <th>income_group</th>\n",
       "      <th>gross_savings</th>\n",
       "    </tr>\n",
       "  </thead>\n",
       "  <tbody>\n",
       "    <tr>\n",
       "      <th>0</th>\n",
       "      <td>AFG</td>\n",
       "      <td>2015</td>\n",
       "      <td>Low income</td>\n",
       "      <td>21.466</td>\n",
       "    </tr>\n",
       "    <tr>\n",
       "      <th>1</th>\n",
       "      <td>AGO</td>\n",
       "      <td>2015</td>\n",
       "      <td>Upper middle income</td>\n",
       "      <td>-0.425</td>\n",
       "    </tr>\n",
       "    <tr>\n",
       "      <th>2</th>\n",
       "      <td>ALB</td>\n",
       "      <td>2015</td>\n",
       "      <td>Upper middle income</td>\n",
       "      <td>13.840</td>\n",
       "    </tr>\n",
       "    <tr>\n",
       "      <th>3</th>\n",
       "      <td>ARE</td>\n",
       "      <td>2015</td>\n",
       "      <td>High income</td>\n",
       "      <td>34.106</td>\n",
       "    </tr>\n",
       "    <tr>\n",
       "      <th>4</th>\n",
       "      <td>ARG</td>\n",
       "      <td>2015</td>\n",
       "      <td>Upper middle income</td>\n",
       "      <td>14.111</td>\n",
       "    </tr>\n",
       "  </tbody>\n",
       "</table>\n",
       "</div>"
      ],
      "text/plain": [
       "  code  year         income_group  gross_savings\n",
       "0  AFG  2015           Low income         21.466\n",
       "1  AGO  2015  Upper middle income         -0.425\n",
       "2  ALB  2015  Upper middle income         13.840\n",
       "3  ARE  2015          High income         34.106\n",
       "4  ARG  2015  Upper middle income         14.111"
      ]
     },
     "execution_count": 69,
     "metadata": {},
     "output_type": "execute_result"
    }
   ],
   "source": [
    "economies2015 = pd.read_csv(\"datasets/countries/economies2015.csv\")\n",
    "%sql DROP TABLE IF EXISTS economies2015;\n",
    "%sql PERSIST economies2015;\n",
    "economies2015.head()"
   ]
  },
  {
   "cell_type": "code",
   "execution_count": 70,
   "metadata": {},
   "outputs": [
    {
     "name": "stdout",
     "output_type": "stream",
     "text": [
      " * sqlite://\n",
      "Done.\n"
     ]
    },
    {
     "data": {
      "text/html": [
       "<table>\n",
       "    <tr>\n",
       "        <th>index</th>\n",
       "        <th>code</th>\n",
       "        <th>year</th>\n",
       "        <th>income_group</th>\n",
       "        <th>gross_savings</th>\n",
       "    </tr>\n",
       "    <tr>\n",
       "        <td>0</td>\n",
       "        <td>AFG</td>\n",
       "        <td>2010</td>\n",
       "        <td>Low income</td>\n",
       "        <td>37.133</td>\n",
       "    </tr>\n",
       "    <tr>\n",
       "        <td>0</td>\n",
       "        <td>AFG</td>\n",
       "        <td>2015</td>\n",
       "        <td>Low income</td>\n",
       "        <td>21.465999999999998</td>\n",
       "    </tr>\n",
       "    <tr>\n",
       "        <td>1</td>\n",
       "        <td>AGO</td>\n",
       "        <td>2010</td>\n",
       "        <td>Upper middle income</td>\n",
       "        <td>23.534000000000002</td>\n",
       "    </tr>\n",
       "    <tr>\n",
       "        <td>1</td>\n",
       "        <td>AGO</td>\n",
       "        <td>2015</td>\n",
       "        <td>Upper middle income</td>\n",
       "        <td>-0.425</td>\n",
       "    </tr>\n",
       "    <tr>\n",
       "        <td>2</td>\n",
       "        <td>ALB</td>\n",
       "        <td>2010</td>\n",
       "        <td>Upper middle income</td>\n",
       "        <td>20.011</td>\n",
       "    </tr>\n",
       "    <tr>\n",
       "        <td>2</td>\n",
       "        <td>ALB</td>\n",
       "        <td>2015</td>\n",
       "        <td>Upper middle income</td>\n",
       "        <td>13.84</td>\n",
       "    </tr>\n",
       "    <tr>\n",
       "        <td>3</td>\n",
       "        <td>ARE</td>\n",
       "        <td>2010</td>\n",
       "        <td>High income</td>\n",
       "        <td>27.073</td>\n",
       "    </tr>\n",
       "    <tr>\n",
       "        <td>3</td>\n",
       "        <td>ARE</td>\n",
       "        <td>2015</td>\n",
       "        <td>High income</td>\n",
       "        <td>34.106</td>\n",
       "    </tr>\n",
       "    <tr>\n",
       "        <td>4</td>\n",
       "        <td>ARG</td>\n",
       "        <td>2010</td>\n",
       "        <td>Upper middle income</td>\n",
       "        <td>17.361</td>\n",
       "    </tr>\n",
       "    <tr>\n",
       "        <td>4</td>\n",
       "        <td>ARG</td>\n",
       "        <td>2015</td>\n",
       "        <td>Upper middle income</td>\n",
       "        <td>14.110999999999999</td>\n",
       "    </tr>\n",
       "</table>"
      ],
      "text/plain": [
       "[(0, 'AFG', 2010, 'Low income', 37.133),\n",
       " (0, 'AFG', 2015, 'Low income', 21.465999999999998),\n",
       " (1, 'AGO', 2010, 'Upper middle income', 23.534000000000002),\n",
       " (1, 'AGO', 2015, 'Upper middle income', -0.425),\n",
       " (2, 'ALB', 2010, 'Upper middle income', 20.011),\n",
       " (2, 'ALB', 2015, 'Upper middle income', 13.84),\n",
       " (3, 'ARE', 2010, 'High income', 27.073),\n",
       " (3, 'ARE', 2015, 'High income', 34.106),\n",
       " (4, 'ARG', 2010, 'Upper middle income', 17.361),\n",
       " (4, 'ARG', 2015, 'Upper middle income', 14.110999999999999)]"
      ]
     },
     "execution_count": 70,
     "metadata": {},
     "output_type": "execute_result"
    }
   ],
   "source": [
    "%%sql\n",
    "-- Select fields from 2010 table\n",
    "SELECT *\n",
    "  -- From 2010 table\n",
    "  FROM economies2010\n",
    "\t-- Set theory clause\n",
    "\tUNION\n",
    "-- Select fields from 2015 table\n",
    "SELECT *\n",
    "  -- From 2015 table\n",
    "  FROM economies2015\n",
    "-- Order by code and year\n",
    "ORDER BY code, year\n",
    "LIMIT 10;"
   ]
  },
  {
   "cell_type": "markdown",
   "metadata": {},
   "source": [
    "`UNION` can also be used to determine all occurrences of a field across multiple tables"
   ]
  },
  {
   "cell_type": "code",
   "execution_count": 71,
   "metadata": {},
   "outputs": [
    {
     "name": "stdout",
     "output_type": "stream",
     "text": [
      " * sqlite://\n",
      "Done.\n"
     ]
    },
    {
     "data": {
      "text/html": [
       "<table>\n",
       "    <tr>\n",
       "        <th>country_code</th>\n",
       "    </tr>\n",
       "    <tr>\n",
       "        <td>ABW</td>\n",
       "    </tr>\n",
       "    <tr>\n",
       "        <td>AFG</td>\n",
       "    </tr>\n",
       "    <tr>\n",
       "        <td>AGO</td>\n",
       "    </tr>\n",
       "    <tr>\n",
       "        <td>AIA</td>\n",
       "    </tr>\n",
       "    <tr>\n",
       "        <td>ALB</td>\n",
       "    </tr>\n",
       "    <tr>\n",
       "        <td>AND</td>\n",
       "    </tr>\n",
       "    <tr>\n",
       "        <td>ARE</td>\n",
       "    </tr>\n",
       "    <tr>\n",
       "        <td>ARG</td>\n",
       "    </tr>\n",
       "    <tr>\n",
       "        <td>ARM</td>\n",
       "    </tr>\n",
       "    <tr>\n",
       "        <td>ATG</td>\n",
       "    </tr>\n",
       "</table>"
      ],
      "text/plain": [
       "[('ABW',),\n",
       " ('AFG',),\n",
       " ('AGO',),\n",
       " ('AIA',),\n",
       " ('ALB',),\n",
       " ('AND',),\n",
       " ('ARE',),\n",
       " ('ARG',),\n",
       " ('ARM',),\n",
       " ('ATG',)]"
      ]
     },
     "execution_count": 71,
     "metadata": {},
     "output_type": "execute_result"
    }
   ],
   "source": [
    "%%sql\n",
    "-- Select field\n",
    "SELECT country_code\n",
    "  -- From cities\n",
    "  FROM cities\n",
    "\t-- Set theory clause\n",
    "\tUNION\n",
    "-- Select field\n",
    "SELECT code\n",
    "  -- From currencies\n",
    "  FROM currencies\n",
    "-- Order by country_code\n",
    "ORDER BY country_code\n",
    "LIMIT 10;"
   ]
  },
  {
   "cell_type": "markdown",
   "metadata": {},
   "source": [
    "### Union all\n",
    "As you saw, duplicates were removed by using `UNION`.\n",
    "\n",
    "To include duplicates, you can use `UNION ALL`"
   ]
  },
  {
   "cell_type": "code",
   "execution_count": 72,
   "metadata": {},
   "outputs": [
    {
     "name": "stdout",
     "output_type": "stream",
     "text": [
      " * sqlite://\n",
      "Done.\n"
     ]
    },
    {
     "data": {
      "text/html": [
       "<table>\n",
       "    <tr>\n",
       "        <th>code</th>\n",
       "        <th>year</th>\n",
       "    </tr>\n",
       "    <tr>\n",
       "        <td>ABW</td>\n",
       "        <td>2010</td>\n",
       "    </tr>\n",
       "    <tr>\n",
       "        <td>ABW</td>\n",
       "        <td>2015</td>\n",
       "    </tr>\n",
       "    <tr>\n",
       "        <td>AFG</td>\n",
       "        <td>2010</td>\n",
       "    </tr>\n",
       "    <tr>\n",
       "        <td>AFG</td>\n",
       "        <td>2010</td>\n",
       "    </tr>\n",
       "    <tr>\n",
       "        <td>AFG</td>\n",
       "        <td>2015</td>\n",
       "    </tr>\n",
       "    <tr>\n",
       "        <td>AFG</td>\n",
       "        <td>2015</td>\n",
       "    </tr>\n",
       "    <tr>\n",
       "        <td>AGO</td>\n",
       "        <td>2010</td>\n",
       "    </tr>\n",
       "    <tr>\n",
       "        <td>AGO</td>\n",
       "        <td>2010</td>\n",
       "    </tr>\n",
       "    <tr>\n",
       "        <td>AGO</td>\n",
       "        <td>2015</td>\n",
       "    </tr>\n",
       "    <tr>\n",
       "        <td>AGO</td>\n",
       "        <td>2015</td>\n",
       "    </tr>\n",
       "</table>"
      ],
      "text/plain": [
       "[('ABW', 2010),\n",
       " ('ABW', 2015),\n",
       " ('AFG', 2010),\n",
       " ('AFG', 2010),\n",
       " ('AFG', 2015),\n",
       " ('AFG', 2015),\n",
       " ('AGO', 2010),\n",
       " ('AGO', 2010),\n",
       " ('AGO', 2015),\n",
       " ('AGO', 2015)]"
      ]
     },
     "execution_count": 72,
     "metadata": {},
     "output_type": "execute_result"
    }
   ],
   "source": [
    "%%sql\n",
    "-- Select fields\n",
    "SELECT code, year\n",
    "  -- From economies\n",
    "  FROM economies\n",
    "\t-- Set theory clause\n",
    "\tUNION ALL\n",
    "-- Select fields\n",
    "SELECT country_code, year\n",
    "  -- From populations\n",
    "  FROM populations\n",
    "-- Order by code, year\n",
    "ORDER BY code, year\n",
    "LIMIT 10;"
   ]
  },
  {
   "cell_type": "markdown",
   "metadata": {},
   "source": [
    "## INTERSECTional data science\n"
   ]
  },
  {
   "attachments": {},
   "cell_type": "markdown",
   "metadata": {},
   "source": [
    "![image.png](datasets/images/intersect.png \"Intersect\")"
   ]
  },
  {
   "cell_type": "markdown",
   "metadata": {},
   "source": [
    "### Prime minister and president countries"
   ]
  },
  {
   "cell_type": "code",
   "execution_count": 73,
   "metadata": {},
   "outputs": [
    {
     "name": "stdout",
     "output_type": "stream",
     "text": [
      " * sqlite://\n",
      "Done.\n"
     ]
    },
    {
     "data": {
      "text/html": [
       "<table>\n",
       "    <tr>\n",
       "        <th>country</th>\n",
       "    </tr>\n",
       "    <tr>\n",
       "        <td>Egypt</td>\n",
       "    </tr>\n",
       "    <tr>\n",
       "        <td>Haiti</td>\n",
       "    </tr>\n",
       "    <tr>\n",
       "        <td>Portugal</td>\n",
       "    </tr>\n",
       "    <tr>\n",
       "        <td>Vietnam</td>\n",
       "    </tr>\n",
       "</table>"
      ],
      "text/plain": [
       "[('Egypt',), ('Haiti',), ('Portugal',), ('Vietnam',)]"
      ]
     },
     "execution_count": 73,
     "metadata": {},
     "output_type": "execute_result"
    }
   ],
   "source": [
    "%%sql\n",
    "SELECT country\n",
    "    FROM prime_ministers\n",
    "INTERSECT\n",
    "SELECT country\n",
    "    FROM presidents;"
   ]
  },
  {
   "cell_type": "markdown",
   "metadata": {},
   "source": [
    "### INTERSECT on two fields"
   ]
  },
  {
   "cell_type": "code",
   "execution_count": 74,
   "metadata": {},
   "outputs": [
    {
     "name": "stdout",
     "output_type": "stream",
     "text": [
      " * sqlite://\n",
      "Done.\n"
     ]
    },
    {
     "data": {
      "text/html": [
       "<table>\n",
       "    <tr>\n",
       "        <th>country</th>\n",
       "        <th>leader</th>\n",
       "    </tr>\n",
       "</table>"
      ],
      "text/plain": [
       "[]"
      ]
     },
     "execution_count": 74,
     "metadata": {},
     "output_type": "execute_result"
    }
   ],
   "source": [
    "%%sql\n",
    "SELECT country, prime_minister AS leader\n",
    "    FROM prime_ministers\n",
    "INTERSECT\n",
    "SELECT country, president\n",
    "    FROM presidents"
   ]
  },
  {
   "cell_type": "markdown",
   "metadata": {},
   "source": [
    "records in common for country code and year for the `economies` and `populations` tables."
   ]
  },
  {
   "cell_type": "code",
   "execution_count": 75,
   "metadata": {},
   "outputs": [
    {
     "name": "stdout",
     "output_type": "stream",
     "text": [
      " * sqlite://\n",
      "Done.\n"
     ]
    },
    {
     "data": {
      "text/html": [
       "<table>\n",
       "    <tr>\n",
       "        <th>code</th>\n",
       "        <th>year</th>\n",
       "    </tr>\n",
       "    <tr>\n",
       "        <td>AFG</td>\n",
       "        <td>2010</td>\n",
       "    </tr>\n",
       "    <tr>\n",
       "        <td>AFG</td>\n",
       "        <td>2015</td>\n",
       "    </tr>\n",
       "    <tr>\n",
       "        <td>AGO</td>\n",
       "        <td>2010</td>\n",
       "    </tr>\n",
       "    <tr>\n",
       "        <td>AGO</td>\n",
       "        <td>2015</td>\n",
       "    </tr>\n",
       "    <tr>\n",
       "        <td>ALB</td>\n",
       "        <td>2010</td>\n",
       "    </tr>\n",
       "    <tr>\n",
       "        <td>ALB</td>\n",
       "        <td>2015</td>\n",
       "    </tr>\n",
       "    <tr>\n",
       "        <td>ARE</td>\n",
       "        <td>2010</td>\n",
       "    </tr>\n",
       "    <tr>\n",
       "        <td>ARE</td>\n",
       "        <td>2015</td>\n",
       "    </tr>\n",
       "    <tr>\n",
       "        <td>ARG</td>\n",
       "        <td>2010</td>\n",
       "    </tr>\n",
       "    <tr>\n",
       "        <td>ARG</td>\n",
       "        <td>2015</td>\n",
       "    </tr>\n",
       "</table>"
      ],
      "text/plain": [
       "[('AFG', 2010),\n",
       " ('AFG', 2015),\n",
       " ('AGO', 2010),\n",
       " ('AGO', 2015),\n",
       " ('ALB', 2010),\n",
       " ('ALB', 2015),\n",
       " ('ARE', 2010),\n",
       " ('ARE', 2015),\n",
       " ('ARG', 2010),\n",
       " ('ARG', 2015)]"
      ]
     },
     "execution_count": 75,
     "metadata": {},
     "output_type": "execute_result"
    }
   ],
   "source": [
    "%%sql\n",
    "-- Select fields\n",
    "SELECT code, year\n",
    "  -- From economies\n",
    "  FROM economies\n",
    "\t-- Set theory clause\n",
    "\tINTERSECT \n",
    "-- Select fields\n",
    "SELECT country_code, year\n",
    "  -- From populations\n",
    "  FROM populations\n",
    "-- Order by code and year\n",
    "ORDER BY code, year\n",
    "LIMIT 10;"
   ]
  },
  {
   "cell_type": "markdown",
   "metadata": {},
   "source": [
    "which countries also have a city with the same name as their country name?"
   ]
  },
  {
   "cell_type": "code",
   "execution_count": 76,
   "metadata": {},
   "outputs": [
    {
     "name": "stdout",
     "output_type": "stream",
     "text": [
      " * sqlite://\n",
      "Done.\n"
     ]
    },
    {
     "data": {
      "text/html": [
       "<table>\n",
       "    <tr>\n",
       "        <th>name</th>\n",
       "    </tr>\n",
       "    <tr>\n",
       "        <td>Hong Kong</td>\n",
       "    </tr>\n",
       "    <tr>\n",
       "        <td>Singapore</td>\n",
       "    </tr>\n",
       "</table>"
      ],
      "text/plain": [
       "[('Hong Kong',), ('Singapore',)]"
      ]
     },
     "execution_count": 76,
     "metadata": {},
     "output_type": "execute_result"
    }
   ],
   "source": [
    "%%sql\n",
    "-- Select fields\n",
    "SELECT name\n",
    "  -- From countries\n",
    "  FROM countries\n",
    "\t-- Set theory clause\n",
    "\tINTERSECT\n",
    "-- Select fields\n",
    "SELECT name\n",
    "  -- From cities\n",
    "  FROM cities;"
   ]
  },
  {
   "cell_type": "markdown",
   "metadata": {},
   "source": [
    "## EXCEPTional\n"
   ]
  },
  {
   "cell_type": "markdown",
   "metadata": {},
   "source": [
    "### Monarchs that aren't prime ministers"
   ]
  },
  {
   "cell_type": "code",
   "execution_count": 77,
   "metadata": {},
   "outputs": [
    {
     "name": "stdout",
     "output_type": "stream",
     "text": [
      " * sqlite://\n",
      "Done.\n"
     ]
    },
    {
     "data": {
      "text/html": [
       "<table>\n",
       "    <tr>\n",
       "        <th>monarch</th>\n",
       "        <th>country</th>\n",
       "    </tr>\n",
       "    <tr>\n",
       "        <td>Felipe VI</td>\n",
       "        <td>Spain</td>\n",
       "    </tr>\n",
       "    <tr>\n",
       "        <td>Harald V</td>\n",
       "        <td>Norway</td>\n",
       "    </tr>\n",
       "</table>"
      ],
      "text/plain": [
       "[('Felipe VI', 'Spain'), ('Harald V', 'Norway')]"
      ]
     },
     "execution_count": 77,
     "metadata": {},
     "output_type": "execute_result"
    }
   ],
   "source": [
    "%%sql\n",
    "SELECT monarch, country \n",
    "    FROM monarchs\n",
    "EXCEPT\n",
    "SELECT prime_minister, country\n",
    "    FROM prime_ministers"
   ]
  },
  {
   "attachments": {},
   "cell_type": "markdown",
   "metadata": {},
   "source": [
    "![image.png](datasets/images/except.png \"Except\")"
   ]
  },
  {
   "cell_type": "markdown",
   "metadata": {},
   "source": [
    "### Except\n",
    "\n",
    "The names of cities in `cities` which are not noted as capital cities in `countries` as a single field result.\n",
    "\n",
    "Note that there are some countries in the world that are not included in the countries table, which will result in some cities not being labeled as capital cities when in fact they are."
   ]
  },
  {
   "cell_type": "code",
   "execution_count": 78,
   "metadata": {},
   "outputs": [
    {
     "name": "stdout",
     "output_type": "stream",
     "text": [
      " * sqlite://\n",
      "Done.\n"
     ]
    },
    {
     "data": {
      "text/html": [
       "<table>\n",
       "    <tr>\n",
       "        <th>name</th>\n",
       "    </tr>\n",
       "    <tr>\n",
       "        <td>Abidjan</td>\n",
       "    </tr>\n",
       "    <tr>\n",
       "        <td>Ahmedabad</td>\n",
       "    </tr>\n",
       "    <tr>\n",
       "        <td>Alexandria</td>\n",
       "    </tr>\n",
       "    <tr>\n",
       "        <td>Almaty</td>\n",
       "    </tr>\n",
       "    <tr>\n",
       "        <td>Auckland</td>\n",
       "    </tr>\n",
       "    <tr>\n",
       "        <td>Bandung</td>\n",
       "    </tr>\n",
       "    <tr>\n",
       "        <td>Barcelona</td>\n",
       "    </tr>\n",
       "    <tr>\n",
       "        <td>Barranquilla</td>\n",
       "    </tr>\n",
       "    <tr>\n",
       "        <td>Basra</td>\n",
       "    </tr>\n",
       "    <tr>\n",
       "        <td>Belo Horizonte</td>\n",
       "    </tr>\n",
       "</table>"
      ],
      "text/plain": [
       "[('Abidjan',),\n",
       " ('Ahmedabad',),\n",
       " ('Alexandria',),\n",
       " ('Almaty',),\n",
       " ('Auckland',),\n",
       " ('Bandung',),\n",
       " ('Barcelona',),\n",
       " ('Barranquilla',),\n",
       " ('Basra',),\n",
       " ('Belo Horizonte',)]"
      ]
     },
     "execution_count": 78,
     "metadata": {},
     "output_type": "execute_result"
    }
   ],
   "source": [
    "%%sql\n",
    "-- Select field\n",
    "SELECT name\n",
    "  -- From cities\n",
    "  FROM cities\n",
    "\t-- Set theory clause\n",
    "\tEXCEPT\n",
    "-- Select field\n",
    "SELECT capital\n",
    "  -- From countries\n",
    "  FROM countries\n",
    "-- Order by result\n",
    "ORDER BY name\n",
    "LIMIT 10;"
   ]
  },
  {
   "cell_type": "markdown",
   "metadata": {},
   "source": [
    "the names of capital cities that are not listed in the `cities` table."
   ]
  },
  {
   "cell_type": "code",
   "execution_count": 79,
   "metadata": {},
   "outputs": [
    {
     "name": "stdout",
     "output_type": "stream",
     "text": [
      " * sqlite://\n",
      "Done.\n"
     ]
    },
    {
     "data": {
      "text/html": [
       "<table>\n",
       "    <tr>\n",
       "        <th>capital</th>\n",
       "    </tr>\n",
       "    <tr>\n",
       "        <td>None</td>\n",
       "    </tr>\n",
       "    <tr>\n",
       "        <td>Agana</td>\n",
       "    </tr>\n",
       "    <tr>\n",
       "        <td>Amman</td>\n",
       "    </tr>\n",
       "    <tr>\n",
       "        <td>Amsterdam</td>\n",
       "    </tr>\n",
       "    <tr>\n",
       "        <td>Andorra la Vella</td>\n",
       "    </tr>\n",
       "    <tr>\n",
       "        <td>Antananarivo</td>\n",
       "    </tr>\n",
       "    <tr>\n",
       "        <td>Apia</td>\n",
       "    </tr>\n",
       "    <tr>\n",
       "        <td>Ashgabat</td>\n",
       "    </tr>\n",
       "    <tr>\n",
       "        <td>Asmara</td>\n",
       "    </tr>\n",
       "    <tr>\n",
       "        <td>Astana</td>\n",
       "    </tr>\n",
       "</table>"
      ],
      "text/plain": [
       "[(None,),\n",
       " ('Agana',),\n",
       " ('Amman',),\n",
       " ('Amsterdam',),\n",
       " ('Andorra la Vella',),\n",
       " ('Antananarivo',),\n",
       " ('Apia',),\n",
       " ('Ashgabat',),\n",
       " ('Asmara',),\n",
       " ('Astana',)]"
      ]
     },
     "execution_count": 79,
     "metadata": {},
     "output_type": "execute_result"
    }
   ],
   "source": [
    "%%sql\n",
    "-- Select field\n",
    "SELECT capital\n",
    "  -- From countries\n",
    "  FROM countries\n",
    "\t-- Set theory clause\n",
    "\tEXCEPT\n",
    "-- Select field\n",
    "SELECT name\n",
    "  -- From cities\n",
    "  FROM cities\n",
    "-- Order by ascending capital\n",
    "ORDER BY capital\n",
    "LIMIT 10;"
   ]
  },
  {
   "cell_type": "markdown",
   "metadata": {},
   "source": [
    "## Semi-joins and Anti-joins\n"
   ]
  },
  {
   "cell_type": "markdown",
   "metadata": {},
   "source": [
    "### Building up to a semi-join"
   ]
  },
  {
   "cell_type": "code",
   "execution_count": 80,
   "metadata": {},
   "outputs": [
    {
     "name": "stdout",
     "output_type": "stream",
     "text": [
      " * sqlite://\n",
      "Done.\n"
     ]
    },
    {
     "data": {
      "text/html": [
       "<table>\n",
       "    <tr>\n",
       "        <th>name</th>\n",
       "    </tr>\n",
       "    <tr>\n",
       "        <td>Portugal</td>\n",
       "    </tr>\n",
       "    <tr>\n",
       "        <td>Spain</td>\n",
       "    </tr>\n",
       "</table>"
      ],
      "text/plain": [
       "[('Portugal',), ('Spain',)]"
      ]
     },
     "execution_count": 80,
     "metadata": {},
     "output_type": "execute_result"
    }
   ],
   "source": [
    "%%sql\n",
    "SELECT name\n",
    "    FROM states\n",
    "    WHERE indep_year < 1800;"
   ]
  },
  {
   "cell_type": "markdown",
   "metadata": {},
   "source": [
    "### Another step towards the semi-join"
   ]
  },
  {
   "cell_type": "code",
   "execution_count": 81,
   "metadata": {},
   "outputs": [
    {
     "name": "stdout",
     "output_type": "stream",
     "text": [
      " * sqlite://\n",
      "Done.\n"
     ]
    },
    {
     "data": {
      "text/html": [
       "<table>\n",
       "    <tr>\n",
       "        <th>president</th>\n",
       "        <th>country</th>\n",
       "        <th>continent</th>\n",
       "    </tr>\n",
       "    <tr>\n",
       "        <td>Abdel Fattah el-Sisi</td>\n",
       "        <td>Egypt</td>\n",
       "        <td>Africa</td>\n",
       "    </tr>\n",
       "    <tr>\n",
       "        <td>Marcelo Rebelo de Sousa</td>\n",
       "        <td>Portugal</td>\n",
       "        <td>Europe</td>\n",
       "    </tr>\n",
       "    <tr>\n",
       "        <td>Jovenel Moise</td>\n",
       "        <td>Haiti</td>\n",
       "        <td>North America</td>\n",
       "    </tr>\n",
       "    <tr>\n",
       "        <td>Jose Mujica</td>\n",
       "        <td>Uruguay</td>\n",
       "        <td>South America</td>\n",
       "    </tr>\n",
       "    <tr>\n",
       "        <td>Ellen Johnson Sirleaf</td>\n",
       "        <td>Liberia</td>\n",
       "        <td>Africa</td>\n",
       "    </tr>\n",
       "    <tr>\n",
       "        <td>Michelle Bachelet</td>\n",
       "        <td>Chile</td>\n",
       "        <td>South America</td>\n",
       "    </tr>\n",
       "    <tr>\n",
       "        <td>Tran Dai Quang</td>\n",
       "        <td>Vietnam</td>\n",
       "        <td>Asia</td>\n",
       "    </tr>\n",
       "</table>"
      ],
      "text/plain": [
       "[('Abdel Fattah el-Sisi', 'Egypt', 'Africa'),\n",
       " ('Marcelo Rebelo de Sousa', 'Portugal', 'Europe'),\n",
       " ('Jovenel Moise', 'Haiti', 'North America'),\n",
       " ('Jose Mujica', 'Uruguay', 'South America'),\n",
       " ('Ellen Johnson Sirleaf', 'Liberia', 'Africa'),\n",
       " ('Michelle Bachelet', 'Chile', 'South America'),\n",
       " ('Tran Dai Quang', 'Vietnam', 'Asia')]"
      ]
     },
     "execution_count": 81,
     "metadata": {},
     "output_type": "execute_result"
    }
   ],
   "source": [
    "%%sql\n",
    "SELECT president, country, continent\n",
    "    FROM presidents;"
   ]
  },
  {
   "cell_type": "markdown",
   "metadata": {},
   "source": [
    "### Finish the semi-join (an intro to subqueries)"
   ]
  },
  {
   "cell_type": "code",
   "execution_count": 83,
   "metadata": {},
   "outputs": [
    {
     "name": "stdout",
     "output_type": "stream",
     "text": [
      " * sqlite://\n",
      "Done.\n"
     ]
    },
    {
     "data": {
      "text/html": [
       "<table>\n",
       "    <tr>\n",
       "        <th>president</th>\n",
       "        <th>country</th>\n",
       "        <th>continent</th>\n",
       "    </tr>\n",
       "    <tr>\n",
       "        <td>Marcelo Rebelo de Sousa</td>\n",
       "        <td>Portugal</td>\n",
       "        <td>Europe</td>\n",
       "    </tr>\n",
       "</table>"
      ],
      "text/plain": [
       "[('Marcelo Rebelo de Sousa', 'Portugal', 'Europe')]"
      ]
     },
     "execution_count": 83,
     "metadata": {},
     "output_type": "execute_result"
    }
   ],
   "source": [
    "%%sql\n",
    "SELECT president, country, continent\n",
    "    FROM presidents\n",
    "    WHERE country IN   (\n",
    "        SELECT name\n",
    "            FROM states\n",
    "            WHERE indep_year < 1800\n",
    "    );"
   ]
  },
  {
   "cell_type": "markdown",
   "metadata": {},
   "source": [
    "### An anti-join"
   ]
  },
  {
   "cell_type": "code",
   "execution_count": 85,
   "metadata": {},
   "outputs": [
    {
     "name": "stdout",
     "output_type": "stream",
     "text": [
      " * sqlite://\n",
      "Done.\n"
     ]
    },
    {
     "data": {
      "text/html": [
       "<table>\n",
       "    <tr>\n",
       "        <th>president</th>\n",
       "        <th>country</th>\n",
       "        <th>continent</th>\n",
       "    </tr>\n",
       "    <tr>\n",
       "        <td>Jovenel Moise</td>\n",
       "        <td>Haiti</td>\n",
       "        <td>North America</td>\n",
       "    </tr>\n",
       "    <tr>\n",
       "        <td>Jose Mujica</td>\n",
       "        <td>Uruguay</td>\n",
       "        <td>South America</td>\n",
       "    </tr>\n",
       "    <tr>\n",
       "        <td>Michelle Bachelet</td>\n",
       "        <td>Chile</td>\n",
       "        <td>South America</td>\n",
       "    </tr>\n",
       "</table>"
      ],
      "text/plain": [
       "[('Jovenel Moise', 'Haiti', 'North America'),\n",
       " ('Jose Mujica', 'Uruguay', 'South America'),\n",
       " ('Michelle Bachelet', 'Chile', 'South America')]"
      ]
     },
     "execution_count": 85,
     "metadata": {},
     "output_type": "execute_result"
    }
   ],
   "source": [
    "%%sql\n",
    "SELECT president, country, continent\n",
    "    FROM presidents\n",
    "    WHERE continent LIKE '%America' AND country NOT IN        \n",
    "        (SELECT name\n",
    "             FROM states\n",
    "             WHERE indep_year < 1800);\n"
   ]
  },
  {
   "attachments": {},
   "cell_type": "markdown",
   "metadata": {},
   "source": [
    "![image.png](datasets/images/semi-anti-join.png \"Semi Join and Anti Join\")"
   ]
  },
  {
   "cell_type": "markdown",
   "metadata": {},
   "source": [
    "languages spoken in the Middle East."
   ]
  },
  {
   "cell_type": "code",
   "execution_count": 88,
   "metadata": {},
   "outputs": [
    {
     "name": "stdout",
     "output_type": "stream",
     "text": [
      " * sqlite://\n",
      "Done.\n"
     ]
    },
    {
     "data": {
      "text/html": [
       "<table>\n",
       "    <tr>\n",
       "        <th>name</th>\n",
       "    </tr>\n",
       "    <tr>\n",
       "        <td>Arabic</td>\n",
       "    </tr>\n",
       "    <tr>\n",
       "        <td>Aramaic</td>\n",
       "    </tr>\n",
       "    <tr>\n",
       "        <td>Armenian</td>\n",
       "    </tr>\n",
       "    <tr>\n",
       "        <td>Azerbaijani</td>\n",
       "    </tr>\n",
       "    <tr>\n",
       "        <td>Azeri</td>\n",
       "    </tr>\n",
       "    <tr>\n",
       "        <td>Baluchi</td>\n",
       "    </tr>\n",
       "    <tr>\n",
       "        <td>Bulgarian</td>\n",
       "    </tr>\n",
       "    <tr>\n",
       "        <td>Circassian</td>\n",
       "    </tr>\n",
       "    <tr>\n",
       "        <td>English</td>\n",
       "    </tr>\n",
       "    <tr>\n",
       "        <td>Farsi</td>\n",
       "    </tr>\n",
       "    <tr>\n",
       "        <td>Filipino</td>\n",
       "    </tr>\n",
       "    <tr>\n",
       "        <td>French</td>\n",
       "    </tr>\n",
       "    <tr>\n",
       "        <td>Georgian</td>\n",
       "    </tr>\n",
       "    <tr>\n",
       "        <td>Greek</td>\n",
       "    </tr>\n",
       "    <tr>\n",
       "        <td>Hebrew</td>\n",
       "    </tr>\n",
       "    <tr>\n",
       "        <td>Hindi</td>\n",
       "    </tr>\n",
       "    <tr>\n",
       "        <td>Indian</td>\n",
       "    </tr>\n",
       "    <tr>\n",
       "        <td>Kurdish</td>\n",
       "    </tr>\n",
       "    <tr>\n",
       "        <td>Other</td>\n",
       "    </tr>\n",
       "    <tr>\n",
       "        <td>Persian</td>\n",
       "    </tr>\n",
       "    <tr>\n",
       "        <td>Romanian</td>\n",
       "    </tr>\n",
       "    <tr>\n",
       "        <td>Russian</td>\n",
       "    </tr>\n",
       "    <tr>\n",
       "        <td>Syriac</td>\n",
       "    </tr>\n",
       "    <tr>\n",
       "        <td>Turkish</td>\n",
       "    </tr>\n",
       "    <tr>\n",
       "        <td>Turkmen</td>\n",
       "    </tr>\n",
       "    <tr>\n",
       "        <td>Urdu</td>\n",
       "    </tr>\n",
       "    <tr>\n",
       "        <td>unspecified</td>\n",
       "    </tr>\n",
       "</table>"
      ],
      "text/plain": [
       "[('Arabic',),\n",
       " ('Aramaic',),\n",
       " ('Armenian',),\n",
       " ('Azerbaijani',),\n",
       " ('Azeri',),\n",
       " ('Baluchi',),\n",
       " ('Bulgarian',),\n",
       " ('Circassian',),\n",
       " ('English',),\n",
       " ('Farsi',),\n",
       " ('Filipino',),\n",
       " ('French',),\n",
       " ('Georgian',),\n",
       " ('Greek',),\n",
       " ('Hebrew',),\n",
       " ('Hindi',),\n",
       " ('Indian',),\n",
       " ('Kurdish',),\n",
       " ('Other',),\n",
       " ('Persian',),\n",
       " ('Romanian',),\n",
       " ('Russian',),\n",
       " ('Syriac',),\n",
       " ('Turkish',),\n",
       " ('Turkmen',),\n",
       " ('Urdu',),\n",
       " ('unspecified',)]"
      ]
     },
     "execution_count": 88,
     "metadata": {},
     "output_type": "execute_result"
    }
   ],
   "source": [
    "%%sql\n",
    "-- Select distinct fields\n",
    "SELECT DISTINCT(name)\n",
    "  -- From languages\n",
    "  FROM languages\n",
    "-- Where in statement\n",
    "WHERE code IN\n",
    "  -- Subquery\n",
    "  (SELECT code\n",
    "   FROM countries\n",
    "   WHERE region='Middle East')\n",
    "-- Order by name\n",
    "ORDER BY name;"
   ]
  },
  {
   "cell_type": "markdown",
   "metadata": {},
   "source": [
    "### Diagnosing problems using anti-join\n",
    "Another powerful join in SQL is the anti-join. It is particularly useful in identifying which records are causing an incorrect number of records to appear in join queries.\n",
    "\n",
    "Our goal is to identify the currencies used in Oceanian countries!"
   ]
  },
  {
   "cell_type": "code",
   "execution_count": 91,
   "metadata": {},
   "outputs": [
    {
     "name": "stdout",
     "output_type": "stream",
     "text": [
      " * sqlite://\n",
      "Done.\n"
     ]
    },
    {
     "data": {
      "text/html": [
       "<table>\n",
       "    <tr>\n",
       "        <th># countries</th>\n",
       "    </tr>\n",
       "    <tr>\n",
       "        <td>19</td>\n",
       "    </tr>\n",
       "</table>"
      ],
      "text/plain": [
       "[(19,)]"
      ]
     },
     "execution_count": 91,
     "metadata": {},
     "output_type": "execute_result"
    }
   ],
   "source": [
    "%%sql\n",
    "-- Select statement\n",
    "SELECT COUNT(*) '# countries'\n",
    "  -- From countries\n",
    "  FROM countries\n",
    "-- Where continent is Oceania\n",
    "WHERE continent = 'Oceania';"
   ]
  },
  {
   "cell_type": "code",
   "execution_count": 92,
   "metadata": {},
   "outputs": [
    {
     "name": "stdout",
     "output_type": "stream",
     "text": [
      " * sqlite://\n",
      "Done.\n"
     ]
    },
    {
     "data": {
      "text/html": [
       "<table>\n",
       "    <tr>\n",
       "        <th>code</th>\n",
       "        <th>name</th>\n",
       "        <th>currency</th>\n",
       "    </tr>\n",
       "    <tr>\n",
       "        <td>AUS</td>\n",
       "        <td>Australia</td>\n",
       "        <td>Australian dollar</td>\n",
       "    </tr>\n",
       "    <tr>\n",
       "        <td>KIR</td>\n",
       "        <td>Kiribati</td>\n",
       "        <td>Australian dollar</td>\n",
       "    </tr>\n",
       "    <tr>\n",
       "        <td>MHL</td>\n",
       "        <td>Marshall Islands</td>\n",
       "        <td>United States dollar</td>\n",
       "    </tr>\n",
       "    <tr>\n",
       "        <td>NRU</td>\n",
       "        <td>Nauru</td>\n",
       "        <td>Australian dollar</td>\n",
       "    </tr>\n",
       "    <tr>\n",
       "        <td>PLW</td>\n",
       "        <td>Palau</td>\n",
       "        <td>United States dollar</td>\n",
       "    </tr>\n",
       "    <tr>\n",
       "        <td>PNG</td>\n",
       "        <td>Papua New Guinea</td>\n",
       "        <td>Papua New Guinean kina</td>\n",
       "    </tr>\n",
       "    <tr>\n",
       "        <td>PYF</td>\n",
       "        <td>French Polynesia</td>\n",
       "        <td>CFP franc</td>\n",
       "    </tr>\n",
       "    <tr>\n",
       "        <td>SLB</td>\n",
       "        <td>Solomon Islands</td>\n",
       "        <td>Solomon Islands dollar</td>\n",
       "    </tr>\n",
       "    <tr>\n",
       "        <td>WSM</td>\n",
       "        <td>Samoa</td>\n",
       "        <td>Samoan tala</td>\n",
       "    </tr>\n",
       "    <tr>\n",
       "        <td>TON</td>\n",
       "        <td>Tonga</td>\n",
       "        <td>Tongan paʻanga</td>\n",
       "    </tr>\n",
       "    <tr>\n",
       "        <td>TUV</td>\n",
       "        <td>Tuvalu</td>\n",
       "        <td>Australian dollar</td>\n",
       "    </tr>\n",
       "    <tr>\n",
       "        <td>TUV</td>\n",
       "        <td>Tuvalu</td>\n",
       "        <td>Tuvaluan dollar</td>\n",
       "    </tr>\n",
       "    <tr>\n",
       "        <td>NCL</td>\n",
       "        <td>New Caledonia</td>\n",
       "        <td>CFP franc</td>\n",
       "    </tr>\n",
       "    <tr>\n",
       "        <td>NZL</td>\n",
       "        <td>New Zealand</td>\n",
       "        <td>New Zealand dollar</td>\n",
       "    </tr>\n",
       "    <tr>\n",
       "        <td>VUT</td>\n",
       "        <td>Vanuatu</td>\n",
       "        <td>Vanuatu vatu</td>\n",
       "    </tr>\n",
       "</table>"
      ],
      "text/plain": [
       "[('AUS', 'Australia', 'Australian dollar'),\n",
       " ('KIR', 'Kiribati', 'Australian dollar'),\n",
       " ('MHL', 'Marshall Islands', 'United States dollar'),\n",
       " ('NRU', 'Nauru', 'Australian dollar'),\n",
       " ('PLW', 'Palau', 'United States dollar'),\n",
       " ('PNG', 'Papua New Guinea', 'Papua New Guinean kina'),\n",
       " ('PYF', 'French Polynesia', 'CFP franc'),\n",
       " ('SLB', 'Solomon Islands', 'Solomon Islands dollar'),\n",
       " ('WSM', 'Samoa', 'Samoan tala'),\n",
       " ('TON', 'Tonga', 'Tongan paʻanga'),\n",
       " ('TUV', 'Tuvalu', 'Australian dollar'),\n",
       " ('TUV', 'Tuvalu', 'Tuvaluan dollar'),\n",
       " ('NCL', 'New Caledonia', 'CFP franc'),\n",
       " ('NZL', 'New Zealand', 'New Zealand dollar'),\n",
       " ('VUT', 'Vanuatu', 'Vanuatu vatu')]"
      ]
     },
     "execution_count": 92,
     "metadata": {},
     "output_type": "execute_result"
    }
   ],
   "source": [
    "%%sql\n",
    "-- 5. Select fields (with aliases)\n",
    "SELECT c1.code, c1.name, basic_unit currency\n",
    "  -- 1. From countries (alias as c1)\n",
    "  FROM countries c1\n",
    "  \t-- 2. Join with currencies (alias as c2)\n",
    "  \tINNER JOIN currencies\n",
    "    -- 3. Match on code\n",
    "    USING(code)\n",
    "-- 4. Where continent is Oceania\n",
    "WHERE continent='Oceania';"
   ]
  },
  {
   "cell_type": "markdown",
   "metadata": {},
   "source": [
    "> Note: Not all countries in Oceania were listed in the resulting inner join with currencies. We will use an anti-join to determine which countries were not included"
   ]
  },
  {
   "cell_type": "code",
   "execution_count": 93,
   "metadata": {},
   "outputs": [
    {
     "name": "stdout",
     "output_type": "stream",
     "text": [
      " * sqlite://\n",
      "Done.\n"
     ]
    },
    {
     "data": {
      "text/html": [
       "<table>\n",
       "    <tr>\n",
       "        <th>code</th>\n",
       "        <th>name</th>\n",
       "    </tr>\n",
       "    <tr>\n",
       "        <td>ASM</td>\n",
       "        <td>American Samoa</td>\n",
       "    </tr>\n",
       "    <tr>\n",
       "        <td>FJI</td>\n",
       "        <td>Fiji Islands</td>\n",
       "    </tr>\n",
       "    <tr>\n",
       "        <td>GUM</td>\n",
       "        <td>Guam</td>\n",
       "    </tr>\n",
       "    <tr>\n",
       "        <td>FSM</td>\n",
       "        <td>Micronesia, Federated States of</td>\n",
       "    </tr>\n",
       "    <tr>\n",
       "        <td>MNP</td>\n",
       "        <td>Northern Mariana Islands</td>\n",
       "    </tr>\n",
       "</table>"
      ],
      "text/plain": [
       "[('ASM', 'American Samoa'),\n",
       " ('FJI', 'Fiji Islands'),\n",
       " ('GUM', 'Guam'),\n",
       " ('FSM', 'Micronesia, Federated States of'),\n",
       " ('MNP', 'Northern Mariana Islands')]"
      ]
     },
     "execution_count": 93,
     "metadata": {},
     "output_type": "execute_result"
    }
   ],
   "source": [
    "%%sql\n",
    "-- 3. Select fields\n",
    "SELECT code, name\n",
    "  -- 4. From Countries\n",
    "  FROM countries\n",
    "  -- 5. Where continent is Oceania\n",
    "  WHERE continent='Oceania'\n",
    "  \t-- 1. And code not in\n",
    "  \tAND code NOT IN\n",
    "  \t-- 2. Subquery\n",
    "  \t(SELECT code\n",
    "  \tFROM currencies);"
   ]
  },
  {
   "cell_type": "code",
   "execution_count": 94,
   "metadata": {},
   "outputs": [
    {
     "name": "stdout",
     "output_type": "stream",
     "text": [
      " * sqlite://\n",
      "Done.\n"
     ]
    },
    {
     "data": {
      "text/html": [
       "<table>\n",
       "    <tr>\n",
       "        <th>name</th>\n",
       "    </tr>\n",
       "    <tr>\n",
       "        <td>Bucharest</td>\n",
       "    </tr>\n",
       "    <tr>\n",
       "        <td>Kaohsiung</td>\n",
       "    </tr>\n",
       "    <tr>\n",
       "        <td>New Taipei City</td>\n",
       "    </tr>\n",
       "    <tr>\n",
       "        <td>Taichung</td>\n",
       "    </tr>\n",
       "    <tr>\n",
       "        <td>Tainan</td>\n",
       "    </tr>\n",
       "    <tr>\n",
       "        <td>Taipei</td>\n",
       "    </tr>\n",
       "</table>"
      ],
      "text/plain": [
       "[('Bucharest',),\n",
       " ('Kaohsiung',),\n",
       " ('New Taipei City',),\n",
       " ('Taichung',),\n",
       " ('Tainan',),\n",
       " ('Taipei',)]"
      ]
     },
     "execution_count": 94,
     "metadata": {},
     "output_type": "execute_result"
    }
   ],
   "source": [
    "%%sql\n",
    "-- Select the city name\n",
    "SELECT name\n",
    "  -- Alias the table where city name resides\n",
    "  FROM cities AS c1\n",
    "  -- Choose only records matching the result of multiple set theory clauses\n",
    "  WHERE country_code IN\n",
    "(\n",
    "    -- Select appropriate field from economies AS e\n",
    "    SELECT e.code\n",
    "    FROM economies AS e\n",
    "    -- Get all additional (unique) values of the field from currencies AS c2  \n",
    "    UNION\n",
    "    SELECT c2.code\n",
    "    FROM currencies AS c2\n",
    "    -- Exclude those appearing in populations AS p\n",
    "    EXCEPT\n",
    "    SELECT p.country_code\n",
    "    FROM populations AS p\n",
    ");"
   ]
  },
  {
   "cell_type": "markdown",
   "metadata": {},
   "source": [
    "# Subqueries\n",
    "\n",
    "In this closing chapter, we'll explore how to use nested queries and we'll solve three challenge problems."
   ]
  },
  {
   "cell_type": "markdown",
   "metadata": {},
   "source": [
    "## Subqueries inside WHERE and SELECT clauses\n"
   ]
  },
  {
   "cell_type": "markdown",
   "metadata": {},
   "source": [
    "### Average fert_rate"
   ]
  },
  {
   "cell_type": "code",
   "execution_count": 95,
   "metadata": {},
   "outputs": [
    {
     "name": "stdout",
     "output_type": "stream",
     "text": [
      " * sqlite://\n",
      "Done.\n"
     ]
    },
    {
     "data": {
      "text/html": [
       "<table>\n",
       "    <tr>\n",
       "        <th>AVG(fert_rate)</th>\n",
       "    </tr>\n",
       "    <tr>\n",
       "        <td>2.2838461538461536</td>\n",
       "    </tr>\n",
       "</table>"
      ],
      "text/plain": [
       "[(2.2838461538461536,)]"
      ]
     },
     "execution_count": 95,
     "metadata": {},
     "output_type": "execute_result"
    }
   ],
   "source": [
    "%%sql\n",
    "SELECT AVG(fert_rate) \n",
    "    FROM states;"
   ]
  },
  {
   "cell_type": "markdown",
   "metadata": {},
   "source": [
    "### Asian countries below average `fert_rate`"
   ]
  },
  {
   "cell_type": "code",
   "execution_count": 96,
   "metadata": {},
   "outputs": [
    {
     "name": "stdout",
     "output_type": "stream",
     "text": [
      " * sqlite://\n",
      "Done.\n"
     ]
    },
    {
     "data": {
      "text/html": [
       "<table>\n",
       "    <tr>\n",
       "        <th>name</th>\n",
       "        <th>fert_rate</th>\n",
       "    </tr>\n",
       "    <tr>\n",
       "        <td>Brunei</td>\n",
       "        <td>1.96</td>\n",
       "    </tr>\n",
       "    <tr>\n",
       "        <td>India</td>\n",
       "        <td>2.43</td>\n",
       "    </tr>\n",
       "    <tr>\n",
       "        <td>Oman</td>\n",
       "        <td>2.75</td>\n",
       "    </tr>\n",
       "    <tr>\n",
       "        <td>Vietnam</td>\n",
       "        <td>1.7</td>\n",
       "    </tr>\n",
       "</table>"
      ],
      "text/plain": [
       "[('Brunei', 1.96), ('India', 2.43), ('Oman', 2.75), ('Vietnam', 1.7)]"
      ]
     },
     "execution_count": 96,
     "metadata": {},
     "output_type": "execute_result"
    }
   ],
   "source": [
    "%%sql\n",
    "SELECT name, fert_rate\n",
    "    FROM states\n",
    "    WHERE continent = 'Asia'\n"
   ]
  },
  {
   "cell_type": "code",
   "execution_count": 97,
   "metadata": {},
   "outputs": [
    {
     "name": "stdout",
     "output_type": "stream",
     "text": [
      " * sqlite://\n",
      "Done.\n"
     ]
    },
    {
     "data": {
      "text/html": [
       "<table>\n",
       "    <tr>\n",
       "        <th>name</th>\n",
       "        <th>fert_rate</th>\n",
       "    </tr>\n",
       "    <tr>\n",
       "        <td>Brunei</td>\n",
       "        <td>1.96</td>\n",
       "    </tr>\n",
       "    <tr>\n",
       "        <td>Vietnam</td>\n",
       "        <td>1.7</td>\n",
       "    </tr>\n",
       "</table>"
      ],
      "text/plain": [
       "[('Brunei', 1.96), ('Vietnam', 1.7)]"
      ]
     },
     "execution_count": 97,
     "metadata": {},
     "output_type": "execute_result"
    }
   ],
   "source": [
    "%%sql\n",
    "SELECT name, fert_rate\n",
    "    FROM states\n",
    "    WHERE continent = 'Asia' AND fert_rate < (\n",
    "        SELECT AVG(fert_rate) FROM states);"
   ]
  },
  {
   "cell_type": "markdown",
   "metadata": {},
   "source": [
    "### Subqueries inside SELECT clauses - setup"
   ]
  },
  {
   "cell_type": "code",
   "execution_count": 99,
   "metadata": {},
   "outputs": [
    {
     "name": "stdout",
     "output_type": "stream",
     "text": [
      " * sqlite://\n",
      "Done.\n"
     ]
    },
    {
     "data": {
      "text/html": [
       "<table>\n",
       "    <tr>\n",
       "        <th>continent</th>\n",
       "    </tr>\n",
       "    <tr>\n",
       "        <td>Africa</td>\n",
       "    </tr>\n",
       "    <tr>\n",
       "        <td>Europe</td>\n",
       "    </tr>\n",
       "    <tr>\n",
       "        <td>Asia</td>\n",
       "    </tr>\n",
       "    <tr>\n",
       "        <td>North America</td>\n",
       "    </tr>\n",
       "    <tr>\n",
       "        <td>Oceania</td>\n",
       "    </tr>\n",
       "</table>"
      ],
      "text/plain": [
       "[('Africa',), ('Europe',), ('Asia',), ('North America',), ('Oceania',)]"
      ]
     },
     "execution_count": 99,
     "metadata": {},
     "output_type": "execute_result"
    }
   ],
   "source": [
    "%%sql\n",
    "SELECT DISTINCT(continent) \n",
    "    FROM prime_ministers;"
   ]
  },
  {
   "cell_type": "markdown",
   "metadata": {},
   "source": [
    "### Subquery inside SELECT clause - complete"
   ]
  },
  {
   "cell_type": "code",
   "execution_count": 100,
   "metadata": {},
   "outputs": [
    {
     "name": "stdout",
     "output_type": "stream",
     "text": [
      " * sqlite://\n",
      "Done.\n"
     ]
    },
    {
     "data": {
      "text/html": [
       "<table>\n",
       "    <tr>\n",
       "        <th>continent</th>\n",
       "        <th>countries_num</th>\n",
       "    </tr>\n",
       "    <tr>\n",
       "        <td>Africa</td>\n",
       "        <td>2</td>\n",
       "    </tr>\n",
       "    <tr>\n",
       "        <td>Europe</td>\n",
       "        <td>3</td>\n",
       "    </tr>\n",
       "    <tr>\n",
       "        <td>Asia</td>\n",
       "        <td>4</td>\n",
       "    </tr>\n",
       "    <tr>\n",
       "        <td>North America</td>\n",
       "        <td>1</td>\n",
       "    </tr>\n",
       "    <tr>\n",
       "        <td>Oceania</td>\n",
       "        <td>1</td>\n",
       "    </tr>\n",
       "</table>"
      ],
      "text/plain": [
       "[('Africa', 2),\n",
       " ('Europe', 3),\n",
       " ('Asia', 4),\n",
       " ('North America', 1),\n",
       " ('Oceania', 1)]"
      ]
     },
     "execution_count": 100,
     "metadata": {},
     "output_type": "execute_result"
    }
   ],
   "source": [
    "%%sql\n",
    "SELECT DISTINCT(continent), (SELECT COUNT(*)\n",
    "                             FROM states\n",
    "                             WHERE prime_ministers.continent = states.continent) AS countries_num\n",
    "FROM prime_ministers;"
   ]
  },
  {
   "cell_type": "markdown",
   "metadata": {},
   "source": [
    " which countries had high average life expectancies (at the country level) in 2015."
   ]
  },
  {
   "cell_type": "code",
   "execution_count": 102,
   "metadata": {},
   "outputs": [
    {
     "name": "stdout",
     "output_type": "stream",
     "text": [
      " * sqlite://\n",
      "Done.\n"
     ]
    },
    {
     "data": {
      "text/html": [
       "<table>\n",
       "    <tr>\n",
       "        <th>AVG(life_expectancy)</th>\n",
       "    </tr>\n",
       "    <tr>\n",
       "        <td>71.67634158659767</td>\n",
       "    </tr>\n",
       "</table>"
      ],
      "text/plain": [
       "[(71.67634158659767,)]"
      ]
     },
     "execution_count": 102,
     "metadata": {},
     "output_type": "execute_result"
    }
   ],
   "source": [
    "%%sql\n",
    "-- Select average life_expectancy\n",
    "SELECT AVG(life_expectancy)\n",
    "  -- From populations\n",
    "  FROM populations\n",
    "-- Where year is 2015\n",
    "WHERE year=2015;"
   ]
  },
  {
   "cell_type": "code",
   "execution_count": 103,
   "metadata": {},
   "outputs": [
    {
     "name": "stdout",
     "output_type": "stream",
     "text": [
      " * sqlite://\n",
      "Done.\n"
     ]
    },
    {
     "data": {
      "text/html": [
       "<table>\n",
       "    <tr>\n",
       "        <th>index</th>\n",
       "        <th>pop_id</th>\n",
       "        <th>country_code</th>\n",
       "        <th>year</th>\n",
       "        <th>fertility_rate</th>\n",
       "        <th>life_expectancy</th>\n",
       "        <th>size</th>\n",
       "    </tr>\n",
       "    <tr>\n",
       "        <td>21</td>\n",
       "        <td>21</td>\n",
       "        <td>AUS</td>\n",
       "        <td>2015</td>\n",
       "        <td>1.8330000000000002</td>\n",
       "        <td>82.4512195121951</td>\n",
       "        <td>23789752.0</td>\n",
       "    </tr>\n",
       "    <tr>\n",
       "        <td>67</td>\n",
       "        <td>376</td>\n",
       "        <td>CHE</td>\n",
       "        <td>2015</td>\n",
       "        <td>1.54</td>\n",
       "        <td>83.1975609756098</td>\n",
       "        <td>8281430.0</td>\n",
       "    </tr>\n",
       "    <tr>\n",
       "        <td>119</td>\n",
       "        <td>356</td>\n",
       "        <td>ESP</td>\n",
       "        <td>2015</td>\n",
       "        <td>1.32</td>\n",
       "        <td>83.38048780487809</td>\n",
       "        <td>46443994.0</td>\n",
       "    </tr>\n",
       "    <tr>\n",
       "        <td>129</td>\n",
       "        <td>134</td>\n",
       "        <td>FRA</td>\n",
       "        <td>2015</td>\n",
       "        <td>2.01</td>\n",
       "        <td>82.67073170731709</td>\n",
       "        <td>66538391.0</td>\n",
       "    </tr>\n",
       "    <tr>\n",
       "        <td>165</td>\n",
       "        <td>170</td>\n",
       "        <td>HKG</td>\n",
       "        <td>2015</td>\n",
       "        <td>1.195</td>\n",
       "        <td>84.2780487804878</td>\n",
       "        <td>7305700.0</td>\n",
       "    </tr>\n",
       "    <tr>\n",
       "        <td>187</td>\n",
       "        <td>174</td>\n",
       "        <td>ISL</td>\n",
       "        <td>2015</td>\n",
       "        <td>1.93</td>\n",
       "        <td>82.8609756097561</td>\n",
       "        <td>330815.0</td>\n",
       "    </tr>\n",
       "    <tr>\n",
       "        <td>191</td>\n",
       "        <td>190</td>\n",
       "        <td>ITA</td>\n",
       "        <td>2015</td>\n",
       "        <td>1.37</td>\n",
       "        <td>83.490243902439</td>\n",
       "        <td>60730582.0</td>\n",
       "    </tr>\n",
       "    <tr>\n",
       "        <td>197</td>\n",
       "        <td>194</td>\n",
       "        <td>JPN</td>\n",
       "        <td>2015</td>\n",
       "        <td>1.46</td>\n",
       "        <td>83.84365853658541</td>\n",
       "        <td>126958472.0</td>\n",
       "    </tr>\n",
       "    <tr>\n",
       "        <td>341</td>\n",
       "        <td>340</td>\n",
       "        <td>SGP</td>\n",
       "        <td>2015</td>\n",
       "        <td>1.24</td>\n",
       "        <td>82.5951219512195</td>\n",
       "        <td>5535002.0</td>\n",
       "    </tr>\n",
       "    <tr>\n",
       "        <td>365</td>\n",
       "        <td>374</td>\n",
       "        <td>SWE</td>\n",
       "        <td>2015</td>\n",
       "        <td>1.88</td>\n",
       "        <td>82.55121951219509</td>\n",
       "        <td>9799186.0</td>\n",
       "    </tr>\n",
       "</table>"
      ],
      "text/plain": [
       "[(21, 21, 'AUS', 2015, 1.8330000000000002, 82.4512195121951, 23789752.0),\n",
       " (67, 376, 'CHE', 2015, 1.54, 83.1975609756098, 8281430.0),\n",
       " (119, 356, 'ESP', 2015, 1.32, 83.38048780487809, 46443994.0),\n",
       " (129, 134, 'FRA', 2015, 2.01, 82.67073170731709, 66538391.0),\n",
       " (165, 170, 'HKG', 2015, 1.195, 84.2780487804878, 7305700.0),\n",
       " (187, 174, 'ISL', 2015, 1.93, 82.8609756097561, 330815.0),\n",
       " (191, 190, 'ITA', 2015, 1.37, 83.490243902439, 60730582.0),\n",
       " (197, 194, 'JPN', 2015, 1.46, 83.84365853658541, 126958472.0),\n",
       " (341, 340, 'SGP', 2015, 1.24, 82.5951219512195, 5535002.0),\n",
       " (365, 374, 'SWE', 2015, 1.88, 82.55121951219509, 9799186.0)]"
      ]
     },
     "execution_count": 103,
     "metadata": {},
     "output_type": "execute_result"
    }
   ],
   "source": [
    "%%sql\n",
    "-- Select fields\n",
    "SELECT *\n",
    "  -- From populations\n",
    "  FROM populations\n",
    "-- Where life_expectancy is greater than\n",
    "WHERE life_expectancy >\n",
    "  -- 1.15 * subquery\n",
    "  (1.15 * (SELECT AVG(life_expectancy)\n",
    "  FROM populations\n",
    "  WHERE year=2015))\n",
    "   AND\n",
    "   year=2015;"
   ]
  },
  {
   "cell_type": "markdown",
   "metadata": {},
   "source": [
    "urban area population for only capital cities."
   ]
  },
  {
   "cell_type": "code",
   "execution_count": 105,
   "metadata": {},
   "outputs": [
    {
     "name": "stdout",
     "output_type": "stream",
     "text": [
      " * sqlite://\n",
      "Done.\n"
     ]
    },
    {
     "data": {
      "text/html": [
       "<table>\n",
       "    <tr>\n",
       "        <th>name</th>\n",
       "        <th>country_code</th>\n",
       "        <th>urbanarea_pop</th>\n",
       "    </tr>\n",
       "    <tr>\n",
       "        <td>Beijing</td>\n",
       "        <td>CHN</td>\n",
       "        <td>21516000</td>\n",
       "    </tr>\n",
       "    <tr>\n",
       "        <td>Dhaka</td>\n",
       "        <td>BGD</td>\n",
       "        <td>14543124</td>\n",
       "    </tr>\n",
       "    <tr>\n",
       "        <td>Tokyo</td>\n",
       "        <td>JPN</td>\n",
       "        <td>13513734</td>\n",
       "    </tr>\n",
       "    <tr>\n",
       "        <td>Moscow</td>\n",
       "        <td>RUS</td>\n",
       "        <td>12197596</td>\n",
       "    </tr>\n",
       "    <tr>\n",
       "        <td>Cairo</td>\n",
       "        <td>EGY</td>\n",
       "        <td>10230350</td>\n",
       "    </tr>\n",
       "    <tr>\n",
       "        <td>Kinshasa</td>\n",
       "        <td>COD</td>\n",
       "        <td>10130000</td>\n",
       "    </tr>\n",
       "    <tr>\n",
       "        <td>Jakarta</td>\n",
       "        <td>IDN</td>\n",
       "        <td>10075310</td>\n",
       "    </tr>\n",
       "    <tr>\n",
       "        <td>Seoul</td>\n",
       "        <td>KOR</td>\n",
       "        <td>9995784</td>\n",
       "    </tr>\n",
       "    <tr>\n",
       "        <td>Mexico City</td>\n",
       "        <td>MEX</td>\n",
       "        <td>8974724</td>\n",
       "    </tr>\n",
       "    <tr>\n",
       "        <td>Lima</td>\n",
       "        <td>PER</td>\n",
       "        <td>8852000</td>\n",
       "    </tr>\n",
       "</table>"
      ],
      "text/plain": [
       "[('Beijing', 'CHN', 21516000),\n",
       " ('Dhaka', 'BGD', 14543124),\n",
       " ('Tokyo', 'JPN', 13513734),\n",
       " ('Moscow', 'RUS', 12197596),\n",
       " ('Cairo', 'EGY', 10230350),\n",
       " ('Kinshasa', 'COD', 10130000),\n",
       " ('Jakarta', 'IDN', 10075310),\n",
       " ('Seoul', 'KOR', 9995784),\n",
       " ('Mexico City', 'MEX', 8974724),\n",
       " ('Lima', 'PER', 8852000)]"
      ]
     },
     "execution_count": 105,
     "metadata": {},
     "output_type": "execute_result"
    }
   ],
   "source": [
    "%%sql\n",
    "-- 2. Select fields\n",
    "SELECT name, country_code, urbanarea_pop\n",
    "  -- 3. From cities\n",
    "  FROM cities\n",
    "-- 4. Where city name in the field of capital cities\n",
    "WHERE name IN\n",
    "  -- 1. Subquery\n",
    "  (SELECT capital\n",
    "   FROM countries)\n",
    "ORDER BY urbanarea_pop DESC\n",
    "LIMIT 10;"
   ]
  },
  {
   "cell_type": "markdown",
   "metadata": {},
   "source": [
    "the top nine countries in terms of number of cities appearing in the `cities` table."
   ]
  },
  {
   "cell_type": "code",
   "execution_count": 106,
   "metadata": {},
   "outputs": [
    {
     "name": "stdout",
     "output_type": "stream",
     "text": [
      " * sqlite://\n",
      "Done.\n"
     ]
    },
    {
     "data": {
      "text/html": [
       "<table>\n",
       "    <tr>\n",
       "        <th>country</th>\n",
       "        <th>cities_num</th>\n",
       "    </tr>\n",
       "    <tr>\n",
       "        <td>China</td>\n",
       "        <td>36</td>\n",
       "    </tr>\n",
       "    <tr>\n",
       "        <td>India</td>\n",
       "        <td>18</td>\n",
       "    </tr>\n",
       "    <tr>\n",
       "        <td>Japan</td>\n",
       "        <td>11</td>\n",
       "    </tr>\n",
       "    <tr>\n",
       "        <td>Brazil</td>\n",
       "        <td>10</td>\n",
       "    </tr>\n",
       "    <tr>\n",
       "        <td>Pakistan</td>\n",
       "        <td>9</td>\n",
       "    </tr>\n",
       "    <tr>\n",
       "        <td>United States</td>\n",
       "        <td>9</td>\n",
       "    </tr>\n",
       "    <tr>\n",
       "        <td>Indonesia</td>\n",
       "        <td>7</td>\n",
       "    </tr>\n",
       "    <tr>\n",
       "        <td>Russian Federation</td>\n",
       "        <td>7</td>\n",
       "    </tr>\n",
       "    <tr>\n",
       "        <td>South Korea</td>\n",
       "        <td>7</td>\n",
       "    </tr>\n",
       "</table>"
      ],
      "text/plain": [
       "[('China', 36),\n",
       " ('India', 18),\n",
       " ('Japan', 11),\n",
       " ('Brazil', 10),\n",
       " ('Pakistan', 9),\n",
       " ('United States', 9),\n",
       " ('Indonesia', 7),\n",
       " ('Russian Federation', 7),\n",
       " ('South Korea', 7)]"
      ]
     },
     "execution_count": 106,
     "metadata": {},
     "output_type": "execute_result"
    }
   ],
   "source": [
    "%%sql\n",
    "SELECT countries.name AS country, COUNT(*) AS cities_num\n",
    "  FROM cities\n",
    "    INNER JOIN countries\n",
    "    ON countries.code = cities.country_code\n",
    "GROUP BY country\n",
    "ORDER BY cities_num DESC, country\n",
    "LIMIT 9;"
   ]
  },
  {
   "cell_type": "code",
   "execution_count": 108,
   "metadata": {},
   "outputs": [
    {
     "name": "stdout",
     "output_type": "stream",
     "text": [
      " * sqlite://\n",
      "Done.\n"
     ]
    },
    {
     "data": {
      "text/html": [
       "<table>\n",
       "    <tr>\n",
       "        <th>country</th>\n",
       "        <th>cities_num</th>\n",
       "    </tr>\n",
       "    <tr>\n",
       "        <td>China</td>\n",
       "        <td>36</td>\n",
       "    </tr>\n",
       "    <tr>\n",
       "        <td>India</td>\n",
       "        <td>18</td>\n",
       "    </tr>\n",
       "    <tr>\n",
       "        <td>Japan</td>\n",
       "        <td>11</td>\n",
       "    </tr>\n",
       "    <tr>\n",
       "        <td>Brazil</td>\n",
       "        <td>10</td>\n",
       "    </tr>\n",
       "    <tr>\n",
       "        <td>Pakistan</td>\n",
       "        <td>9</td>\n",
       "    </tr>\n",
       "    <tr>\n",
       "        <td>United States</td>\n",
       "        <td>9</td>\n",
       "    </tr>\n",
       "    <tr>\n",
       "        <td>Indonesia</td>\n",
       "        <td>7</td>\n",
       "    </tr>\n",
       "    <tr>\n",
       "        <td>Russian Federation</td>\n",
       "        <td>7</td>\n",
       "    </tr>\n",
       "    <tr>\n",
       "        <td>South Korea</td>\n",
       "        <td>7</td>\n",
       "    </tr>\n",
       "</table>"
      ],
      "text/plain": [
       "[('China', 36),\n",
       " ('India', 18),\n",
       " ('Japan', 11),\n",
       " ('Brazil', 10),\n",
       " ('Pakistan', 9),\n",
       " ('United States', 9),\n",
       " ('Indonesia', 7),\n",
       " ('Russian Federation', 7),\n",
       " ('South Korea', 7)]"
      ]
     },
     "execution_count": 108,
     "metadata": {},
     "output_type": "execute_result"
    }
   ],
   "source": [
    "%%sql\n",
    "SELECT name AS country,\n",
    "  (SELECT COUNT(*)\n",
    "   FROM cities\n",
    "   WHERE countries.code = cities.country_code) AS cities_num\n",
    "FROM countries\n",
    "ORDER BY cities_num DESC, country\n",
    "LIMIT 9;"
   ]
  },
  {
   "cell_type": "markdown",
   "metadata": {},
   "source": [
    "## Subquery inside FROM clause\n"
   ]
  },
  {
   "cell_type": "code",
   "execution_count": null,
   "metadata": {},
   "outputs": [],
   "source": []
  },
  {
   "cell_type": "code",
   "execution_count": null,
   "metadata": {},
   "outputs": [],
   "source": []
  },
  {
   "cell_type": "code",
   "execution_count": null,
   "metadata": {},
   "outputs": [],
   "source": []
  }
 ],
 "metadata": {
  "kernelspec": {
   "display_name": "Python 3",
   "language": "python",
   "name": "python3"
  },
  "language_info": {
   "codemirror_mode": {
    "name": "ipython",
    "version": 3
   },
   "file_extension": ".py",
   "mimetype": "text/x-python",
   "name": "python",
   "nbconvert_exporter": "python",
   "pygments_lexer": "ipython3",
   "version": "3.6.5"
  }
 },
 "nbformat": 4,
 "nbformat_minor": 4
}
